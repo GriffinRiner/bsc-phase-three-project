{
 "cells": [
  {
   "cell_type": "code",
   "execution_count": 1,
   "id": "f79ceb8f-269e-4e9f-b190-f04098724928",
   "metadata": {},
   "outputs": [],
   "source": [
    "import pandas as pd\n",
    "import numpy as np\n",
    "from sklearn.model_selection import train_test_split, GridSearchCV, cross_val_score\n",
    "from sklearn.linear_model import LogisticRegression\n",
    "from sklearn.preprocessing import StandardScaler, OneHotEncoder\n",
    "from sklearn.impute import SimpleImputer\n",
    "from sklearn.tree import DecisionTreeClassifier\n",
    "from sklearn.ensemble import RandomForestClassifier\n",
    "from sklearn.metrics import accuracy_score, precision_score, f1_score\n",
    "from sklearn.pipeline import Pipeline, make_pipeline\n",
    "from sklearn.compose import make_column_selector, make_column_transformer\n",
    "from imblearn.over_sampling import SMOTE\n",
    "from sklearn.linear_model import Ridge\n",
    "from sklearn.neighbors import KNeighborsClassifier\n",
    "import warnings\n",
    "warnings.filterwarnings(\"ignore\")"
   ]
  },
  {
   "cell_type": "code",
   "execution_count": 10,
   "id": "0d011616-8715-4b6f-a4ae-2feb98b6b67e",
   "metadata": {},
   "outputs": [
    {
     "data": {
      "text/html": [
       "<div>\n",
       "<style scoped>\n",
       "    .dataframe tbody tr th:only-of-type {\n",
       "        vertical-align: middle;\n",
       "    }\n",
       "\n",
       "    .dataframe tbody tr th {\n",
       "        vertical-align: top;\n",
       "    }\n",
       "\n",
       "    .dataframe thead th {\n",
       "        text-align: right;\n",
       "    }\n",
       "</style>\n",
       "<table border=\"1\" class=\"dataframe\">\n",
       "  <thead>\n",
       "    <tr style=\"text-align: right;\">\n",
       "      <th></th>\n",
       "      <th>gender</th>\n",
       "      <th>partner</th>\n",
       "      <th>dependents</th>\n",
       "      <th>phoneservice</th>\n",
       "      <th>multiplelines</th>\n",
       "      <th>internetservice</th>\n",
       "      <th>onlinesecurity</th>\n",
       "      <th>onlinebackup</th>\n",
       "      <th>deviceprotection</th>\n",
       "      <th>techsupport</th>\n",
       "      <th>...</th>\n",
       "      <th>paperlessbilling</th>\n",
       "      <th>paymentmethod</th>\n",
       "      <th>single_parent</th>\n",
       "      <th>phone_and_internet</th>\n",
       "      <th>seniorcitizen</th>\n",
       "      <th>tenure</th>\n",
       "      <th>monthlycharges</th>\n",
       "      <th>totalcharges</th>\n",
       "      <th>totchg_per_tenure</th>\n",
       "      <th>monthly_div_tot</th>\n",
       "    </tr>\n",
       "  </thead>\n",
       "  <tbody>\n",
       "    <tr>\n",
       "      <th>0</th>\n",
       "      <td>0</td>\n",
       "      <td>1</td>\n",
       "      <td>1</td>\n",
       "      <td>1</td>\n",
       "      <td>0</td>\n",
       "      <td>0</td>\n",
       "      <td>2</td>\n",
       "      <td>2</td>\n",
       "      <td>0</td>\n",
       "      <td>2</td>\n",
       "      <td>...</td>\n",
       "      <td>0</td>\n",
       "      <td>0</td>\n",
       "      <td>1</td>\n",
       "      <td>1</td>\n",
       "      <td>0</td>\n",
       "      <td>-0.017944</td>\n",
       "      <td>-0.107867</td>\n",
       "      <td>-0.183246</td>\n",
       "      <td>-0.209143</td>\n",
       "      <td>-0.438551</td>\n",
       "    </tr>\n",
       "    <tr>\n",
       "      <th>1</th>\n",
       "      <td>0</td>\n",
       "      <td>1</td>\n",
       "      <td>0</td>\n",
       "      <td>1</td>\n",
       "      <td>2</td>\n",
       "      <td>1</td>\n",
       "      <td>2</td>\n",
       "      <td>0</td>\n",
       "      <td>0</td>\n",
       "      <td>2</td>\n",
       "      <td>...</td>\n",
       "      <td>1</td>\n",
       "      <td>1</td>\n",
       "      <td>0</td>\n",
       "      <td>1</td>\n",
       "      <td>0</td>\n",
       "      <td>-0.875263</td>\n",
       "      <td>1.056297</td>\n",
       "      <td>-0.468087</td>\n",
       "      <td>1.547428</td>\n",
       "      <td>-0.274448</td>\n",
       "    </tr>\n",
       "    <tr>\n",
       "      <th>2</th>\n",
       "      <td>0</td>\n",
       "      <td>1</td>\n",
       "      <td>1</td>\n",
       "      <td>1</td>\n",
       "      <td>0</td>\n",
       "      <td>2</td>\n",
       "      <td>1</td>\n",
       "      <td>1</td>\n",
       "      <td>1</td>\n",
       "      <td>1</td>\n",
       "      <td>...</td>\n",
       "      <td>0</td>\n",
       "      <td>1</td>\n",
       "      <td>1</td>\n",
       "      <td>0</td>\n",
       "      <td>0</td>\n",
       "      <td>1.165973</td>\n",
       "      <td>-1.501185</td>\n",
       "      <td>-0.428393</td>\n",
       "      <td>-1.431795</td>\n",
       "      <td>-0.502593</td>\n",
       "    </tr>\n",
       "    <tr>\n",
       "      <th>3</th>\n",
       "      <td>0</td>\n",
       "      <td>0</td>\n",
       "      <td>0</td>\n",
       "      <td>1</td>\n",
       "      <td>0</td>\n",
       "      <td>1</td>\n",
       "      <td>0</td>\n",
       "      <td>0</td>\n",
       "      <td>0</td>\n",
       "      <td>0</td>\n",
       "      <td>...</td>\n",
       "      <td>1</td>\n",
       "      <td>0</td>\n",
       "      <td>0</td>\n",
       "      <td>1</td>\n",
       "      <td>0</td>\n",
       "      <td>-1.038562</td>\n",
       "      <td>0.174811</td>\n",
       "      <td>-0.781296</td>\n",
       "      <td>0.301796</td>\n",
       "      <td>-0.070922</td>\n",
       "    </tr>\n",
       "    <tr>\n",
       "      <th>4</th>\n",
       "      <td>0</td>\n",
       "      <td>0</td>\n",
       "      <td>1</td>\n",
       "      <td>1</td>\n",
       "      <td>0</td>\n",
       "      <td>2</td>\n",
       "      <td>1</td>\n",
       "      <td>1</td>\n",
       "      <td>1</td>\n",
       "      <td>1</td>\n",
       "      <td>...</td>\n",
       "      <td>0</td>\n",
       "      <td>1</td>\n",
       "      <td>0</td>\n",
       "      <td>0</td>\n",
       "      <td>0</td>\n",
       "      <td>0.676076</td>\n",
       "      <td>-1.511220</td>\n",
       "      <td>-0.601398</td>\n",
       "      <td>-1.521564</td>\n",
       "      <td>-0.480899</td>\n",
       "    </tr>\n",
       "  </tbody>\n",
       "</table>\n",
       "<p>5 rows × 23 columns</p>\n",
       "</div>"
      ],
      "text/plain": [
       "   gender  partner  dependents  phoneservice  multiplelines  internetservice  \\\n",
       "0       0        1           1             1              0                0   \n",
       "1       0        1           0             1              2                1   \n",
       "2       0        1           1             1              0                2   \n",
       "3       0        0           0             1              0                1   \n",
       "4       0        0           1             1              0                2   \n",
       "\n",
       "   onlinesecurity  onlinebackup  deviceprotection  techsupport  ...  \\\n",
       "0               2             2                 0            2  ...   \n",
       "1               2             0                 0            2  ...   \n",
       "2               1             1                 1            1  ...   \n",
       "3               0             0                 0            0  ...   \n",
       "4               1             1                 1            1  ...   \n",
       "\n",
       "   paperlessbilling  paymentmethod  single_parent  phone_and_internet  \\\n",
       "0                 0              0              1                   1   \n",
       "1                 1              1              0                   1   \n",
       "2                 0              1              1                   0   \n",
       "3                 1              0              0                   1   \n",
       "4                 0              1              0                   0   \n",
       "\n",
       "   seniorcitizen    tenure  monthlycharges  totalcharges  totchg_per_tenure  \\\n",
       "0              0 -0.017944       -0.107867     -0.183246          -0.209143   \n",
       "1              0 -0.875263        1.056297     -0.468087           1.547428   \n",
       "2              0  1.165973       -1.501185     -0.428393          -1.431795   \n",
       "3              0 -1.038562        0.174811     -0.781296           0.301796   \n",
       "4              0  0.676076       -1.511220     -0.601398          -1.521564   \n",
       "\n",
       "   monthly_div_tot  \n",
       "0        -0.438551  \n",
       "1        -0.274448  \n",
       "2        -0.502593  \n",
       "3        -0.070922  \n",
       "4        -0.480899  \n",
       "\n",
       "[5 rows x 23 columns]"
      ]
     },
     "execution_count": 10,
     "metadata": {},
     "output_type": "execute_result"
    }
   ],
   "source": [
    "X_train_sc_df = pd.read_csv('../Warren/X_train_sc.csv')\n",
    "X_train_sc_df.drop('customerid', axis=1, inplace=True)\n",
    "X_train_sc_df.head()"
   ]
  },
  {
   "cell_type": "code",
   "execution_count": 11,
   "id": "1eae763b-3a7b-4bb2-bf73-d794f723c427",
   "metadata": {},
   "outputs": [
    {
     "data": {
      "text/html": [
       "<div>\n",
       "<style scoped>\n",
       "    .dataframe tbody tr th:only-of-type {\n",
       "        vertical-align: middle;\n",
       "    }\n",
       "\n",
       "    .dataframe tbody tr th {\n",
       "        vertical-align: top;\n",
       "    }\n",
       "\n",
       "    .dataframe thead th {\n",
       "        text-align: right;\n",
       "    }\n",
       "</style>\n",
       "<table border=\"1\" class=\"dataframe\">\n",
       "  <thead>\n",
       "    <tr style=\"text-align: right;\">\n",
       "      <th></th>\n",
       "      <th>gender</th>\n",
       "      <th>partner</th>\n",
       "      <th>dependents</th>\n",
       "      <th>phoneservice</th>\n",
       "      <th>multiplelines</th>\n",
       "      <th>internetservice</th>\n",
       "      <th>onlinesecurity</th>\n",
       "      <th>onlinebackup</th>\n",
       "      <th>deviceprotection</th>\n",
       "      <th>techsupport</th>\n",
       "      <th>...</th>\n",
       "      <th>paperlessbilling</th>\n",
       "      <th>paymentmethod</th>\n",
       "      <th>single_parent</th>\n",
       "      <th>phone_and_internet</th>\n",
       "      <th>seniorcitizen</th>\n",
       "      <th>tenure</th>\n",
       "      <th>monthlycharges</th>\n",
       "      <th>totalcharges</th>\n",
       "      <th>totchg_per_tenure</th>\n",
       "      <th>monthly_div_tot</th>\n",
       "    </tr>\n",
       "  </thead>\n",
       "  <tbody>\n",
       "    <tr>\n",
       "      <th>0</th>\n",
       "      <td>0</td>\n",
       "      <td>1</td>\n",
       "      <td>1</td>\n",
       "      <td>1</td>\n",
       "      <td>0</td>\n",
       "      <td>2</td>\n",
       "      <td>1</td>\n",
       "      <td>1</td>\n",
       "      <td>1</td>\n",
       "      <td>1</td>\n",
       "      <td>...</td>\n",
       "      <td>0</td>\n",
       "      <td>3</td>\n",
       "      <td>1</td>\n",
       "      <td>0</td>\n",
       "      <td>0</td>\n",
       "      <td>0.022881</td>\n",
       "      <td>-1.489476</td>\n",
       "      <td>-0.712634</td>\n",
       "      <td>-1.471300</td>\n",
       "      <td>-0.449101</td>\n",
       "    </tr>\n",
       "    <tr>\n",
       "      <th>1</th>\n",
       "      <td>1</td>\n",
       "      <td>1</td>\n",
       "      <td>1</td>\n",
       "      <td>1</td>\n",
       "      <td>2</td>\n",
       "      <td>0</td>\n",
       "      <td>2</td>\n",
       "      <td>0</td>\n",
       "      <td>0</td>\n",
       "      <td>2</td>\n",
       "      <td>...</td>\n",
       "      <td>0</td>\n",
       "      <td>0</td>\n",
       "      <td>1</td>\n",
       "      <td>1</td>\n",
       "      <td>0</td>\n",
       "      <td>-0.344542</td>\n",
       "      <td>0.547812</td>\n",
       "      <td>-0.157005</td>\n",
       "      <td>0.518759</td>\n",
       "      <td>-0.405672</td>\n",
       "    </tr>\n",
       "    <tr>\n",
       "      <th>2</th>\n",
       "      <td>0</td>\n",
       "      <td>0</td>\n",
       "      <td>0</td>\n",
       "      <td>1</td>\n",
       "      <td>0</td>\n",
       "      <td>0</td>\n",
       "      <td>2</td>\n",
       "      <td>0</td>\n",
       "      <td>0</td>\n",
       "      <td>2</td>\n",
       "      <td>...</td>\n",
       "      <td>1</td>\n",
       "      <td>2</td>\n",
       "      <td>0</td>\n",
       "      <td>1</td>\n",
       "      <td>0</td>\n",
       "      <td>-1.120212</td>\n",
       "      <td>-0.009181</td>\n",
       "      <td>-0.853459</td>\n",
       "      <td>0.198523</td>\n",
       "      <td>0.097378</td>\n",
       "    </tr>\n",
       "    <tr>\n",
       "      <th>3</th>\n",
       "      <td>1</td>\n",
       "      <td>0</td>\n",
       "      <td>0</td>\n",
       "      <td>1</td>\n",
       "      <td>0</td>\n",
       "      <td>1</td>\n",
       "      <td>0</td>\n",
       "      <td>0</td>\n",
       "      <td>0</td>\n",
       "      <td>2</td>\n",
       "      <td>...</td>\n",
       "      <td>0</td>\n",
       "      <td>2</td>\n",
       "      <td>0</td>\n",
       "      <td>1</td>\n",
       "      <td>0</td>\n",
       "      <td>-1.283510</td>\n",
       "      <td>0.313641</td>\n",
       "      <td>-0.976974</td>\n",
       "      <td>0.313909</td>\n",
       "      <td>3.027120</td>\n",
       "    </tr>\n",
       "    <tr>\n",
       "      <th>4</th>\n",
       "      <td>0</td>\n",
       "      <td>0</td>\n",
       "      <td>0</td>\n",
       "      <td>0</td>\n",
       "      <td>1</td>\n",
       "      <td>0</td>\n",
       "      <td>2</td>\n",
       "      <td>2</td>\n",
       "      <td>2</td>\n",
       "      <td>2</td>\n",
       "      <td>...</td>\n",
       "      <td>1</td>\n",
       "      <td>0</td>\n",
       "      <td>0</td>\n",
       "      <td>0</td>\n",
       "      <td>0</td>\n",
       "      <td>1.370097</td>\n",
       "      <td>-0.071069</td>\n",
       "      <td>0.823734</td>\n",
       "      <td>-0.062752</td>\n",
       "      <td>-0.502407</td>\n",
       "    </tr>\n",
       "  </tbody>\n",
       "</table>\n",
       "<p>5 rows × 23 columns</p>\n",
       "</div>"
      ],
      "text/plain": [
       "   gender  partner  dependents  phoneservice  multiplelines  internetservice  \\\n",
       "0       0        1           1             1              0                2   \n",
       "1       1        1           1             1              2                0   \n",
       "2       0        0           0             1              0                0   \n",
       "3       1        0           0             1              0                1   \n",
       "4       0        0           0             0              1                0   \n",
       "\n",
       "   onlinesecurity  onlinebackup  deviceprotection  techsupport  ...  \\\n",
       "0               1             1                 1            1  ...   \n",
       "1               2             0                 0            2  ...   \n",
       "2               2             0                 0            2  ...   \n",
       "3               0             0                 0            2  ...   \n",
       "4               2             2                 2            2  ...   \n",
       "\n",
       "   paperlessbilling  paymentmethod  single_parent  phone_and_internet  \\\n",
       "0                 0              3              1                   0   \n",
       "1                 0              0              1                   1   \n",
       "2                 1              2              0                   1   \n",
       "3                 0              2              0                   1   \n",
       "4                 1              0              0                   0   \n",
       "\n",
       "   seniorcitizen    tenure  monthlycharges  totalcharges  totchg_per_tenure  \\\n",
       "0              0  0.022881       -1.489476     -0.712634          -1.471300   \n",
       "1              0 -0.344542        0.547812     -0.157005           0.518759   \n",
       "2              0 -1.120212       -0.009181     -0.853459           0.198523   \n",
       "3              0 -1.283510        0.313641     -0.976974           0.313909   \n",
       "4              0  1.370097       -0.071069      0.823734          -0.062752   \n",
       "\n",
       "   monthly_div_tot  \n",
       "0        -0.449101  \n",
       "1        -0.405672  \n",
       "2         0.097378  \n",
       "3         3.027120  \n",
       "4        -0.502407  \n",
       "\n",
       "[5 rows x 23 columns]"
      ]
     },
     "execution_count": 11,
     "metadata": {},
     "output_type": "execute_result"
    }
   ],
   "source": [
    "X_val_sc_df = pd.read_csv('../Warren/X_val_sc.csv')\n",
    "X_val_sc_df.drop('customerid', axis=1, inplace=True)\n",
    "X_val_sc_df.head()"
   ]
  },
  {
   "cell_type": "code",
   "execution_count": 5,
   "id": "7860d877-5214-4ce1-9af7-c2423e5befde",
   "metadata": {},
   "outputs": [
    {
     "data": {
      "text/html": [
       "<div>\n",
       "<style scoped>\n",
       "    .dataframe tbody tr th:only-of-type {\n",
       "        vertical-align: middle;\n",
       "    }\n",
       "\n",
       "    .dataframe tbody tr th {\n",
       "        vertical-align: top;\n",
       "    }\n",
       "\n",
       "    .dataframe thead th {\n",
       "        text-align: right;\n",
       "    }\n",
       "</style>\n",
       "<table border=\"1\" class=\"dataframe\">\n",
       "  <thead>\n",
       "    <tr style=\"text-align: right;\">\n",
       "      <th></th>\n",
       "      <th>churn</th>\n",
       "    </tr>\n",
       "  </thead>\n",
       "  <tbody>\n",
       "    <tr>\n",
       "      <th>0</th>\n",
       "      <td>0</td>\n",
       "    </tr>\n",
       "    <tr>\n",
       "      <th>1</th>\n",
       "      <td>1</td>\n",
       "    </tr>\n",
       "    <tr>\n",
       "      <th>2</th>\n",
       "      <td>0</td>\n",
       "    </tr>\n",
       "    <tr>\n",
       "      <th>3</th>\n",
       "      <td>0</td>\n",
       "    </tr>\n",
       "    <tr>\n",
       "      <th>4</th>\n",
       "      <td>0</td>\n",
       "    </tr>\n",
       "  </tbody>\n",
       "</table>\n",
       "</div>"
      ],
      "text/plain": [
       "   churn\n",
       "0      0\n",
       "1      1\n",
       "2      0\n",
       "3      0\n",
       "4      0"
      ]
     },
     "execution_count": 5,
     "metadata": {},
     "output_type": "execute_result"
    }
   ],
   "source": [
    "y_train_enc_df = pd.read_csv('../Warren/y_train_enc.csv')\n",
    "y_train_enc_df.head()"
   ]
  },
  {
   "cell_type": "code",
   "execution_count": 6,
   "id": "c7d6078f-1ea5-4531-9ec9-22840bbf365c",
   "metadata": {},
   "outputs": [
    {
     "data": {
      "text/html": [
       "<div>\n",
       "<style scoped>\n",
       "    .dataframe tbody tr th:only-of-type {\n",
       "        vertical-align: middle;\n",
       "    }\n",
       "\n",
       "    .dataframe tbody tr th {\n",
       "        vertical-align: top;\n",
       "    }\n",
       "\n",
       "    .dataframe thead th {\n",
       "        text-align: right;\n",
       "    }\n",
       "</style>\n",
       "<table border=\"1\" class=\"dataframe\">\n",
       "  <thead>\n",
       "    <tr style=\"text-align: right;\">\n",
       "      <th></th>\n",
       "      <th>churn</th>\n",
       "    </tr>\n",
       "  </thead>\n",
       "  <tbody>\n",
       "    <tr>\n",
       "      <th>0</th>\n",
       "      <td>0</td>\n",
       "    </tr>\n",
       "    <tr>\n",
       "      <th>1</th>\n",
       "      <td>0</td>\n",
       "    </tr>\n",
       "    <tr>\n",
       "      <th>2</th>\n",
       "      <td>0</td>\n",
       "    </tr>\n",
       "    <tr>\n",
       "      <th>3</th>\n",
       "      <td>0</td>\n",
       "    </tr>\n",
       "    <tr>\n",
       "      <th>4</th>\n",
       "      <td>0</td>\n",
       "    </tr>\n",
       "  </tbody>\n",
       "</table>\n",
       "</div>"
      ],
      "text/plain": [
       "   churn\n",
       "0      0\n",
       "1      0\n",
       "2      0\n",
       "3      0\n",
       "4      0"
      ]
     },
     "execution_count": 6,
     "metadata": {},
     "output_type": "execute_result"
    }
   ],
   "source": [
    "y_val_enc_df = pd.read_csv('../Warren/y_val_enc.csv')\n",
    "y_val_enc_df.head()"
   ]
  },
  {
   "cell_type": "code",
   "execution_count": 7,
   "id": "e20766a2-94a0-404a-859a-7348914e8728",
   "metadata": {},
   "outputs": [],
   "source": [
    "def modeling_function(model, X_train, y_train, X_val, y_val):\n",
    "\n",
    "    # fit model on training data\n",
    "    model.fit(X_train, y_train)\n",
    "\n",
    "    # make predictions on training and validation data\n",
    "    train_preds = model.predict(X_train)\n",
    "    val_preds = model.predict(X_val)\n",
    "\n",
    "    # Print accuracy score\n",
    "    print('Training Precision: ', precision_score(y_train, train_preds))\n",
    "    print('Validation Precision: ', precision_score(y_val, val_preds))\n",
    "    print('Training F1: ', f1_score(y_train, train_preds))\n",
    "    print('Validation F1: ', f1_score(y_val, val_preds))\n",
    "    print('Training Accuracy: ', accuracy_score(y_train, train_preds))\n",
    "    print('Validation Accuracy: ', accuracy_score(y_val, val_preds))\n",
    "    # return fitted model\n",
    "    return model"
   ]
  },
  {
   "cell_type": "code",
   "execution_count": 15,
   "id": "896d8c7f-e702-404b-8be8-4fab6e3f3978",
   "metadata": {},
   "outputs": [],
   "source": [
    "logreg = LogisticRegression(random_state=10)"
   ]
  },
  {
   "cell_type": "code",
   "execution_count": 16,
   "id": "09065352-0189-46aa-b608-51f77e787dd0",
   "metadata": {},
   "outputs": [
    {
     "name": "stdout",
     "output_type": "stream",
     "text": [
      "Training Precision:  0.6840882694541232\n",
      "Validation Precision:  0.66996699669967\n",
      "Training F1:  0.6145018257694315\n",
      "Validation F1:  0.6217457886676875\n",
      "Training Accuracy:  0.8134309517798536\n",
      "Validation Accuracy:  0.8130204390613172\n"
     ]
    },
    {
     "data": {
      "text/plain": [
       "LogisticRegression(random_state=10)"
      ]
     },
     "execution_count": 16,
     "metadata": {},
     "output_type": "execute_result"
    }
   ],
   "source": [
    "modeling_function(logreg, X_train_sc_df, y_train_enc_df, X_val_sc_df, y_val_enc_df)"
   ]
  },
  {
   "cell_type": "code",
   "execution_count": 17,
   "id": "14b87a37-bb3f-4567-8829-3b698a981455",
   "metadata": {},
   "outputs": [],
   "source": [
    "logreg_tune = LogisticRegression(penalty= 'l1', C=0.2, solver='liblinear', random_state=10)"
   ]
  },
  {
   "cell_type": "code",
   "execution_count": 18,
   "id": "d64f8ca3-e543-47d2-91e6-71d35e673951",
   "metadata": {},
   "outputs": [
    {
     "name": "stdout",
     "output_type": "stream",
     "text": [
      "Training Precision:  0.6923076923076923\n",
      "Validation Precision:  0.67\n",
      "Training F1:  0.6206896551724138\n",
      "Validation F1:  0.6184615384615385\n",
      "Training Accuracy:  0.8167129512749306\n",
      "Validation Accuracy:  0.8122634367903103\n"
     ]
    },
    {
     "data": {
      "text/plain": [
       "LogisticRegression(C=0.2, penalty='l1', random_state=10, solver='liblinear')"
      ]
     },
     "execution_count": 18,
     "metadata": {},
     "output_type": "execute_result"
    }
   ],
   "source": [
    "modeling_function(logreg_tune, X_train_sc_df, y_train_enc_df, X_val_sc_df, y_val_enc_df)"
   ]
  },
  {
   "cell_type": "code",
   "execution_count": 19,
   "id": "95bcf2f0-89b7-4de2-8833-125dcad43502",
   "metadata": {},
   "outputs": [],
   "source": [
    "sm = SMOTE(random_state=10)"
   ]
  },
  {
   "cell_type": "code",
   "execution_count": 20,
   "id": "4a38a61b-2815-4c22-b72f-908835f520da",
   "metadata": {},
   "outputs": [],
   "source": [
    "X_train_res, y_train_res = sm.fit_resample(X_train_sc_df, y_train_enc_df)"
   ]
  },
  {
   "cell_type": "code",
   "execution_count": 25,
   "id": "45e249db-dc35-40bb-b79b-11a094ea4905",
   "metadata": {},
   "outputs": [
    {
     "data": {
      "text/plain": [
       "churn\n",
       "0        0.733401\n",
       "1        0.266599\n",
       "dtype: float64"
      ]
     },
     "execution_count": 25,
     "metadata": {},
     "output_type": "execute_result"
    }
   ],
   "source": [
    "y_train_enc_df.value_counts(normalize=True)"
   ]
  },
  {
   "cell_type": "code",
   "execution_count": 26,
   "id": "a028c30f-a412-4e5b-8521-8998d58c322e",
   "metadata": {},
   "outputs": [
    {
     "data": {
      "text/plain": [
       "churn\n",
       "1        0.5\n",
       "0        0.5\n",
       "dtype: float64"
      ]
     },
     "execution_count": 26,
     "metadata": {},
     "output_type": "execute_result"
    }
   ],
   "source": [
    "y_train_res.value_counts(normalize=True)"
   ]
  },
  {
   "cell_type": "code",
   "execution_count": 21,
   "id": "c3a2f824-18c2-4f20-95c4-b63390ac79f4",
   "metadata": {},
   "outputs": [
    {
     "name": "stdout",
     "output_type": "stream",
     "text": [
      "Training Precision:  0.7742238946378175\n",
      "Validation Precision:  0.5143953934740882\n",
      "Training F1:  0.8103052182474565\n",
      "Validation F1:  0.6153846153846153\n",
      "Training Accuracy:  0.8010327022375215\n",
      "Validation Accuracy:  0.7464042392127176\n"
     ]
    },
    {
     "data": {
      "text/plain": [
       "LogisticRegression(C=0.2, penalty='l1', random_state=10, solver='liblinear')"
      ]
     },
     "execution_count": 21,
     "metadata": {},
     "output_type": "execute_result"
    }
   ],
   "source": [
    "modeling_function(logreg_tune, X_train_res, y_train_res, X_val_sc_df, y_val_enc_df)"
   ]
  },
  {
   "cell_type": "code",
   "execution_count": 30,
   "id": "4fdd7405-89ae-406c-be76-a5275b278e1c",
   "metadata": {},
   "outputs": [],
   "source": [
    "logreg_tune_coef = pd.DataFrame(np.abs(logreg_tune.coef_.T), columns=['coefficient'], index=X_train_res.columns)"
   ]
  },
  {
   "cell_type": "code",
   "execution_count": 41,
   "id": "99e3e06c-7c63-4505-b068-7ef4c3674588",
   "metadata": {},
   "outputs": [
    {
     "data": {
      "text/html": [
       "<div>\n",
       "<style scoped>\n",
       "    .dataframe tbody tr th:only-of-type {\n",
       "        vertical-align: middle;\n",
       "    }\n",
       "\n",
       "    .dataframe tbody tr th {\n",
       "        vertical-align: top;\n",
       "    }\n",
       "\n",
       "    .dataframe thead th {\n",
       "        text-align: right;\n",
       "    }\n",
       "</style>\n",
       "<table border=\"1\" class=\"dataframe\">\n",
       "  <thead>\n",
       "    <tr style=\"text-align: right;\">\n",
       "      <th></th>\n",
       "      <th>coefficient</th>\n",
       "    </tr>\n",
       "  </thead>\n",
       "  <tbody>\n",
       "    <tr>\n",
       "      <th>gender</th>\n",
       "      <td>0.427574</td>\n",
       "    </tr>\n",
       "    <tr>\n",
       "      <th>partner</th>\n",
       "      <td>0.267539</td>\n",
       "    </tr>\n",
       "    <tr>\n",
       "      <th>dependents</th>\n",
       "      <td>0.687879</td>\n",
       "    </tr>\n",
       "    <tr>\n",
       "      <th>phoneservice</th>\n",
       "      <td>0.000000</td>\n",
       "    </tr>\n",
       "    <tr>\n",
       "      <th>multiplelines</th>\n",
       "      <td>0.105697</td>\n",
       "    </tr>\n",
       "    <tr>\n",
       "      <th>internetservice</th>\n",
       "      <td>0.025147</td>\n",
       "    </tr>\n",
       "    <tr>\n",
       "      <th>onlinesecurity</th>\n",
       "      <td>0.351010</td>\n",
       "    </tr>\n",
       "    <tr>\n",
       "      <th>onlinebackup</th>\n",
       "      <td>0.267458</td>\n",
       "    </tr>\n",
       "    <tr>\n",
       "      <th>deviceprotection</th>\n",
       "      <td>0.108715</td>\n",
       "    </tr>\n",
       "    <tr>\n",
       "      <th>techsupport</th>\n",
       "      <td>0.273795</td>\n",
       "    </tr>\n",
       "    <tr>\n",
       "      <th>streamingtv</th>\n",
       "      <td>0.001633</td>\n",
       "    </tr>\n",
       "    <tr>\n",
       "      <th>streamingmovies</th>\n",
       "      <td>0.028157</td>\n",
       "    </tr>\n",
       "    <tr>\n",
       "      <th>contract</th>\n",
       "      <td>1.191182</td>\n",
       "    </tr>\n",
       "    <tr>\n",
       "      <th>paperlessbilling</th>\n",
       "      <td>0.000000</td>\n",
       "    </tr>\n",
       "    <tr>\n",
       "      <th>paymentmethod</th>\n",
       "      <td>0.062390</td>\n",
       "    </tr>\n",
       "    <tr>\n",
       "      <th>single_parent</th>\n",
       "      <td>0.000000</td>\n",
       "    </tr>\n",
       "    <tr>\n",
       "      <th>phone_and_internet</th>\n",
       "      <td>1.289360</td>\n",
       "    </tr>\n",
       "    <tr>\n",
       "      <th>seniorcitizen</th>\n",
       "      <td>0.174251</td>\n",
       "    </tr>\n",
       "    <tr>\n",
       "      <th>tenure</th>\n",
       "      <td>0.518510</td>\n",
       "    </tr>\n",
       "    <tr>\n",
       "      <th>monthlycharges</th>\n",
       "      <td>1.190463</td>\n",
       "    </tr>\n",
       "    <tr>\n",
       "      <th>totalcharges</th>\n",
       "      <td>0.080922</td>\n",
       "    </tr>\n",
       "    <tr>\n",
       "      <th>totchg_per_tenure</th>\n",
       "      <td>0.146890</td>\n",
       "    </tr>\n",
       "    <tr>\n",
       "      <th>monthly_div_tot</th>\n",
       "      <td>0.419414</td>\n",
       "    </tr>\n",
       "  </tbody>\n",
       "</table>\n",
       "</div>"
      ],
      "text/plain": [
       "                    coefficient\n",
       "gender                 0.427574\n",
       "partner                0.267539\n",
       "dependents             0.687879\n",
       "phoneservice           0.000000\n",
       "multiplelines          0.105697\n",
       "internetservice        0.025147\n",
       "onlinesecurity         0.351010\n",
       "onlinebackup           0.267458\n",
       "deviceprotection       0.108715\n",
       "techsupport            0.273795\n",
       "streamingtv            0.001633\n",
       "streamingmovies        0.028157\n",
       "contract               1.191182\n",
       "paperlessbilling       0.000000\n",
       "paymentmethod          0.062390\n",
       "single_parent          0.000000\n",
       "phone_and_internet     1.289360\n",
       "seniorcitizen          0.174251\n",
       "tenure                 0.518510\n",
       "monthlycharges         1.190463\n",
       "totalcharges           0.080922\n",
       "totchg_per_tenure      0.146890\n",
       "monthly_div_tot        0.419414"
      ]
     },
     "execution_count": 41,
     "metadata": {},
     "output_type": "execute_result"
    }
   ],
   "source": [
    "logreg_tune_coef"
   ]
  },
  {
   "cell_type": "code",
   "execution_count": 56,
   "id": "ceb878b4-783b-4211-92c1-88a773189f1c",
   "metadata": {},
   "outputs": [],
   "source": [
    "#weights = {'gender':1.0, 'partner':1.0, 'dependents':1.0, 'phoneservice':0.0, 'multiplelines':1.0, 'internetservice':1.0, 'onlinesecurity':1.0, 'deviceprotection':1.0, 'techsupport':1.0, 10:1.0, 11:1.0, 12:1.0, 13:1.0, 14:0.0, 15:1.0, 16:0.0 ,17:2.0, 18:1.0, 19:1.0, 20:2.0, 21:1.0, 22:1.0, 23:1.0}"
   ]
  },
  {
   "cell_type": "code",
   "execution_count": 64,
   "id": "58b048ed-e3b3-4f4e-bf86-fa969a02735f",
   "metadata": {},
   "outputs": [],
   "source": [
    "weights = {0:1.0, 1:3.0}"
   ]
  },
  {
   "cell_type": "code",
   "execution_count": 65,
   "id": "fc665489-e214-433c-99a5-b9b9c6ea2289",
   "metadata": {},
   "outputs": [],
   "source": [
    "param_grid = {'penalty': ['l1', 'l2'],\n",
    "              'C': [.001, .01, .1, 1],\n",
    "              'class_weight': [None, weights],\n",
    "              'max_iter': [10, 50, 100, 200]}"
   ]
  },
  {
   "cell_type": "code",
   "execution_count": 66,
   "id": "3001fa82-93cd-4979-b90a-a9f941420349",
   "metadata": {},
   "outputs": [],
   "source": [
    "gs = GridSearchCV(logreg, param_grid, scoring='precision')"
   ]
  },
  {
   "cell_type": "code",
   "execution_count": 67,
   "id": "ec501113-981d-4b2a-b4b9-6ba125462d40",
   "metadata": {},
   "outputs": [
    {
     "data": {
      "text/plain": [
       "GridSearchCV(estimator=LogisticRegression(random_state=10),\n",
       "             param_grid={'C': [0.001, 0.01, 0.1, 1],\n",
       "                         'class_weight': [None, {0: 1.0, 1: 3.0}],\n",
       "                         'max_iter': [10, 50, 100, 200],\n",
       "                         'penalty': ['l1', 'l2']},\n",
       "             scoring='precision')"
      ]
     },
     "execution_count": 67,
     "metadata": {},
     "output_type": "execute_result"
    }
   ],
   "source": [
    "gs.fit(X_train_res, y_train_res)"
   ]
  },
  {
   "cell_type": "code",
   "execution_count": 69,
   "id": "f2d6f6ab-4ca0-4aa1-9efe-1faace37b94d",
   "metadata": {},
   "outputs": [
    {
     "data": {
      "text/plain": [
       "{'C': 1, 'class_weight': None, 'max_iter': 100, 'penalty': 'l2'}"
      ]
     },
     "execution_count": 69,
     "metadata": {},
     "output_type": "execute_result"
    }
   ],
   "source": [
    "gs.best_params_"
   ]
  },
  {
   "cell_type": "code",
   "execution_count": 53,
   "id": "a36ba3ba-ffe3-4f2f-897a-6237ace02c1f",
   "metadata": {},
   "outputs": [
    {
     "name": "stdout",
     "output_type": "stream",
     "text": [
      "Training Precision:  0.7769423558897243\n",
      "Validation Precision:  0.5144508670520231\n",
      "Training F1:  0.8135148433655897\n",
      "Validation F1:  0.6144994246260069\n",
      "Training Accuracy:  0.804302925989673\n",
      "Validation Accuracy:  0.7464042392127176\n"
     ]
    },
    {
     "data": {
      "text/plain": [
       "LogisticRegression(C=1, random_state=10)"
      ]
     },
     "execution_count": 53,
     "metadata": {},
     "output_type": "execute_result"
    }
   ],
   "source": [
    "modeling_function(best_logreg, X_train_res, y_train_res, X_val_sc_df, y_val_enc_df)"
   ]
  },
  {
   "cell_type": "code",
   "execution_count": 62,
   "id": "259873a8-dc0a-4184-b9c5-66b8e2e71a07",
   "metadata": {},
   "outputs": [],
   "source": [
    "logreg_weights = LogisticRegression(random_state=10, class_weight=weights, C=0.2)"
   ]
  },
  {
   "cell_type": "code",
   "execution_count": 63,
   "id": "68e207fa-2e54-400e-9bbf-6dc4e9c646a1",
   "metadata": {},
   "outputs": [
    {
     "name": "stdout",
     "output_type": "stream",
     "text": [
      "Training Precision:  0.7754782063342741\n",
      "Validation Precision:  0.5114942528735632\n",
      "Training F1:  0.8116179849031835\n",
      "Validation F1:  0.6123853211009174\n",
      "Training Accuracy:  0.8024096385542169\n",
      "Validation Accuracy:  0.7441332323996972\n"
     ]
    },
    {
     "data": {
      "text/plain": [
       "LogisticRegression(C=0.2, class_weight={0: 2.0, 1: 2.0}, random_state=10)"
      ]
     },
     "execution_count": 63,
     "metadata": {},
     "output_type": "execute_result"
    }
   ],
   "source": [
    "modeling_function(logreg_weights, X_train_res, y_train_res, X_val_sc_df, y_val_enc_df)"
   ]
  },
  {
   "cell_type": "code",
   "execution_count": 35,
   "id": "d24d1ff3-12a7-4987-a194-3ba70d699290",
   "metadata": {},
   "outputs": [],
   "source": [
    "import xgboost as xgb"
   ]
  },
  {
   "cell_type": "code",
   "execution_count": 37,
   "id": "9f8e7014-514c-4601-8447-d3549fc00fab",
   "metadata": {},
   "outputs": [],
   "source": [
    "boost = xgb.XGBClassifier()"
   ]
  },
  {
   "cell_type": "code",
   "execution_count": 39,
   "id": "306f324e-ef12-4687-9d37-071ca1eccea0",
   "metadata": {},
   "outputs": [
    {
     "name": "stdout",
     "output_type": "stream",
     "text": [
      "Training Precision:  0.9613899613899614\n",
      "Validation Precision:  0.631578947368421\n",
      "Training F1:  0.9521988527724665\n",
      "Validation F1:  0.5871559633027522\n",
      "Training Accuracy:  0.9747538500378692\n",
      "Validation Accuracy:  0.7956093868281605\n"
     ]
    },
    {
     "data": {
      "text/plain": [
       "XGBClassifier(base_score=0.5, booster='gbtree', colsample_bylevel=1,\n",
       "              colsample_bynode=1, colsample_bytree=1, gamma=0, gpu_id=-1,\n",
       "              importance_type='gain', interaction_constraints='',\n",
       "              learning_rate=0.300000012, max_delta_step=0, max_depth=6,\n",
       "              min_child_weight=1, missing=nan, monotone_constraints='()',\n",
       "              n_estimators=100, n_jobs=0, num_parallel_tree=1, random_state=0,\n",
       "              reg_alpha=0, reg_lambda=1, scale_pos_weight=1, subsample=1,\n",
       "              tree_method='exact', validate_parameters=1, verbosity=None)"
      ]
     },
     "execution_count": 39,
     "metadata": {},
     "output_type": "execute_result"
    }
   ],
   "source": [
    "modeling_function(boost, X_train_sc_df, y_train_enc_df, X_val_sc_df, y_val_enc_df)"
   ]
  },
  {
   "cell_type": "code",
   "execution_count": null,
   "id": "216f3e39-b75e-459a-a532-0bfcb9ea412a",
   "metadata": {},
   "outputs": [],
   "source": []
  }
 ],
 "metadata": {
  "kernelspec": {
   "display_name": "learn-env",
   "language": "python",
   "name": "learn-env"
  },
  "language_info": {
   "codemirror_mode": {
    "name": "ipython",
    "version": 3
   },
   "file_extension": ".py",
   "mimetype": "text/x-python",
   "name": "python",
   "nbconvert_exporter": "python",
   "pygments_lexer": "ipython3",
   "version": "3.8.5"
  }
 },
 "nbformat": 4,
 "nbformat_minor": 5
}
