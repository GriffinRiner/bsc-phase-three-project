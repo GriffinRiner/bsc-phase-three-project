{
 "cells": [
  {
   "cell_type": "markdown",
   "id": "5cd1c832-a583-46be-a973-b8b1b886d3b7",
   "metadata": {},
   "source": [
    "# Notebook for Creating the Best Models With all the Features in the DF"
   ]
  },
  {
   "cell_type": "markdown",
   "id": "f033f598-b1b7-4f0a-a3d5-c54fd8a73146",
   "metadata": {},
   "source": [
    "Importing packages and bringing in the data."
   ]
  },
  {
   "cell_type": "code",
   "execution_count": 3,
   "id": "f79ceb8f-269e-4e9f-b190-f04098724928",
   "metadata": {},
   "outputs": [],
   "source": [
    "import pandas as pd\n",
    "import numpy as np\n",
    "from sklearn.model_selection import train_test_split, GridSearchCV, cross_val_score\n",
    "from sklearn.linear_model import LogisticRegression\n",
    "from sklearn.preprocessing import StandardScaler, OneHotEncoder\n",
    "from sklearn.impute import SimpleImputer\n",
    "from sklearn.tree import DecisionTreeClassifier\n",
    "from sklearn.ensemble import RandomForestClassifier\n",
    "from sklearn.metrics import accuracy_score, precision_score, f1_score\n",
    "from sklearn.pipeline import Pipeline, make_pipeline\n",
    "from sklearn.compose import make_column_selector, make_column_transformer\n",
    "from imblearn.over_sampling import SMOTE\n",
    "from sklearn.linear_model import Ridge\n",
    "from sklearn.neighbors import KNeighborsClassifier\n",
    "import warnings\n",
    "warnings.filterwarnings(\"ignore\")\n",
    "from sklearn.metrics import classification_report, confusion_matrix"
   ]
  },
  {
   "cell_type": "code",
   "execution_count": 4,
   "id": "0d011616-8715-4b6f-a4ae-2feb98b6b67e",
   "metadata": {},
   "outputs": [
    {
     "data": {
      "text/html": [
       "<div>\n",
       "<style scoped>\n",
       "    .dataframe tbody tr th:only-of-type {\n",
       "        vertical-align: middle;\n",
       "    }\n",
       "\n",
       "    .dataframe tbody tr th {\n",
       "        vertical-align: top;\n",
       "    }\n",
       "\n",
       "    .dataframe thead th {\n",
       "        text-align: right;\n",
       "    }\n",
       "</style>\n",
       "<table border=\"1\" class=\"dataframe\">\n",
       "  <thead>\n",
       "    <tr style=\"text-align: right;\">\n",
       "      <th></th>\n",
       "      <th>gender</th>\n",
       "      <th>partner</th>\n",
       "      <th>dependents</th>\n",
       "      <th>phoneservice</th>\n",
       "      <th>multiplelines</th>\n",
       "      <th>internetservice</th>\n",
       "      <th>onlinesecurity</th>\n",
       "      <th>onlinebackup</th>\n",
       "      <th>deviceprotection</th>\n",
       "      <th>techsupport</th>\n",
       "      <th>...</th>\n",
       "      <th>single_parent</th>\n",
       "      <th>phone_and_internet</th>\n",
       "      <th>seniorcitizen</th>\n",
       "      <th>tenure</th>\n",
       "      <th>monthlycharges</th>\n",
       "      <th>totalcharges</th>\n",
       "      <th>totchg_per_tenure</th>\n",
       "      <th>monthly_div_tot</th>\n",
       "      <th>num_of_internet_services</th>\n",
       "      <th>num_of_services</th>\n",
       "    </tr>\n",
       "  </thead>\n",
       "  <tbody>\n",
       "    <tr>\n",
       "      <th>0</th>\n",
       "      <td>0</td>\n",
       "      <td>1</td>\n",
       "      <td>1</td>\n",
       "      <td>1</td>\n",
       "      <td>0</td>\n",
       "      <td>0</td>\n",
       "      <td>2</td>\n",
       "      <td>2</td>\n",
       "      <td>0</td>\n",
       "      <td>2</td>\n",
       "      <td>...</td>\n",
       "      <td>1</td>\n",
       "      <td>1</td>\n",
       "      <td>0</td>\n",
       "      <td>-0.017944</td>\n",
       "      <td>-0.107867</td>\n",
       "      <td>-0.183246</td>\n",
       "      <td>-0.209143</td>\n",
       "      <td>-0.438551</td>\n",
       "      <td>0.854371</td>\n",
       "      <td>0.531661</td>\n",
       "    </tr>\n",
       "    <tr>\n",
       "      <th>1</th>\n",
       "      <td>0</td>\n",
       "      <td>1</td>\n",
       "      <td>0</td>\n",
       "      <td>1</td>\n",
       "      <td>2</td>\n",
       "      <td>1</td>\n",
       "      <td>2</td>\n",
       "      <td>0</td>\n",
       "      <td>0</td>\n",
       "      <td>2</td>\n",
       "      <td>...</td>\n",
       "      <td>0</td>\n",
       "      <td>1</td>\n",
       "      <td>0</td>\n",
       "      <td>-0.875263</td>\n",
       "      <td>1.056297</td>\n",
       "      <td>-0.468087</td>\n",
       "      <td>1.547428</td>\n",
       "      <td>-0.274448</td>\n",
       "      <td>0.854371</td>\n",
       "      <td>0.531661</td>\n",
       "    </tr>\n",
       "    <tr>\n",
       "      <th>2</th>\n",
       "      <td>0</td>\n",
       "      <td>1</td>\n",
       "      <td>1</td>\n",
       "      <td>1</td>\n",
       "      <td>0</td>\n",
       "      <td>2</td>\n",
       "      <td>1</td>\n",
       "      <td>1</td>\n",
       "      <td>1</td>\n",
       "      <td>1</td>\n",
       "      <td>...</td>\n",
       "      <td>1</td>\n",
       "      <td>0</td>\n",
       "      <td>0</td>\n",
       "      <td>1.165973</td>\n",
       "      <td>-1.501185</td>\n",
       "      <td>-0.428393</td>\n",
       "      <td>-1.431795</td>\n",
       "      <td>-0.502593</td>\n",
       "      <td>-1.095781</td>\n",
       "      <td>-1.107179</td>\n",
       "    </tr>\n",
       "    <tr>\n",
       "      <th>3</th>\n",
       "      <td>0</td>\n",
       "      <td>0</td>\n",
       "      <td>0</td>\n",
       "      <td>1</td>\n",
       "      <td>0</td>\n",
       "      <td>1</td>\n",
       "      <td>0</td>\n",
       "      <td>0</td>\n",
       "      <td>0</td>\n",
       "      <td>0</td>\n",
       "      <td>...</td>\n",
       "      <td>0</td>\n",
       "      <td>1</td>\n",
       "      <td>0</td>\n",
       "      <td>-1.038562</td>\n",
       "      <td>0.174811</td>\n",
       "      <td>-0.781296</td>\n",
       "      <td>0.301796</td>\n",
       "      <td>-0.070922</td>\n",
       "      <td>-1.095781</td>\n",
       "      <td>-1.107179</td>\n",
       "    </tr>\n",
       "    <tr>\n",
       "      <th>4</th>\n",
       "      <td>0</td>\n",
       "      <td>0</td>\n",
       "      <td>1</td>\n",
       "      <td>1</td>\n",
       "      <td>0</td>\n",
       "      <td>2</td>\n",
       "      <td>1</td>\n",
       "      <td>1</td>\n",
       "      <td>1</td>\n",
       "      <td>1</td>\n",
       "      <td>...</td>\n",
       "      <td>0</td>\n",
       "      <td>0</td>\n",
       "      <td>0</td>\n",
       "      <td>0.676076</td>\n",
       "      <td>-1.511220</td>\n",
       "      <td>-0.601398</td>\n",
       "      <td>-1.521564</td>\n",
       "      <td>-0.480899</td>\n",
       "      <td>-1.095781</td>\n",
       "      <td>-1.107179</td>\n",
       "    </tr>\n",
       "  </tbody>\n",
       "</table>\n",
       "<p>5 rows × 25 columns</p>\n",
       "</div>"
      ],
      "text/plain": [
       "   gender  partner  dependents  phoneservice  multiplelines  internetservice  \\\n",
       "0       0        1           1             1              0                0   \n",
       "1       0        1           0             1              2                1   \n",
       "2       0        1           1             1              0                2   \n",
       "3       0        0           0             1              0                1   \n",
       "4       0        0           1             1              0                2   \n",
       "\n",
       "   onlinesecurity  onlinebackup  deviceprotection  techsupport  ...  \\\n",
       "0               2             2                 0            2  ...   \n",
       "1               2             0                 0            2  ...   \n",
       "2               1             1                 1            1  ...   \n",
       "3               0             0                 0            0  ...   \n",
       "4               1             1                 1            1  ...   \n",
       "\n",
       "   single_parent  phone_and_internet  seniorcitizen    tenure  monthlycharges  \\\n",
       "0              1                   1              0 -0.017944       -0.107867   \n",
       "1              0                   1              0 -0.875263        1.056297   \n",
       "2              1                   0              0  1.165973       -1.501185   \n",
       "3              0                   1              0 -1.038562        0.174811   \n",
       "4              0                   0              0  0.676076       -1.511220   \n",
       "\n",
       "   totalcharges  totchg_per_tenure  monthly_div_tot  num_of_internet_services  \\\n",
       "0     -0.183246          -0.209143        -0.438551                  0.854371   \n",
       "1     -0.468087           1.547428        -0.274448                  0.854371   \n",
       "2     -0.428393          -1.431795        -0.502593                 -1.095781   \n",
       "3     -0.781296           0.301796        -0.070922                 -1.095781   \n",
       "4     -0.601398          -1.521564        -0.480899                 -1.095781   \n",
       "\n",
       "   num_of_services  \n",
       "0         0.531661  \n",
       "1         0.531661  \n",
       "2        -1.107179  \n",
       "3        -1.107179  \n",
       "4        -1.107179  \n",
       "\n",
       "[5 rows x 25 columns]"
      ]
     },
     "execution_count": 4,
     "metadata": {},
     "output_type": "execute_result"
    }
   ],
   "source": [
    "X_train_sc_df = pd.read_csv('../Warren/X_train_sc.csv')\n",
    "X_train_sc_df.drop('customerid', axis=1, inplace=True)\n",
    "X_train_sc_df.head()"
   ]
  },
  {
   "cell_type": "code",
   "execution_count": 5,
   "id": "1eae763b-3a7b-4bb2-bf73-d794f723c427",
   "metadata": {},
   "outputs": [
    {
     "data": {
      "text/html": [
       "<div>\n",
       "<style scoped>\n",
       "    .dataframe tbody tr th:only-of-type {\n",
       "        vertical-align: middle;\n",
       "    }\n",
       "\n",
       "    .dataframe tbody tr th {\n",
       "        vertical-align: top;\n",
       "    }\n",
       "\n",
       "    .dataframe thead th {\n",
       "        text-align: right;\n",
       "    }\n",
       "</style>\n",
       "<table border=\"1\" class=\"dataframe\">\n",
       "  <thead>\n",
       "    <tr style=\"text-align: right;\">\n",
       "      <th></th>\n",
       "      <th>gender</th>\n",
       "      <th>partner</th>\n",
       "      <th>dependents</th>\n",
       "      <th>phoneservice</th>\n",
       "      <th>multiplelines</th>\n",
       "      <th>internetservice</th>\n",
       "      <th>onlinesecurity</th>\n",
       "      <th>onlinebackup</th>\n",
       "      <th>deviceprotection</th>\n",
       "      <th>techsupport</th>\n",
       "      <th>...</th>\n",
       "      <th>single_parent</th>\n",
       "      <th>phone_and_internet</th>\n",
       "      <th>seniorcitizen</th>\n",
       "      <th>tenure</th>\n",
       "      <th>monthlycharges</th>\n",
       "      <th>totalcharges</th>\n",
       "      <th>totchg_per_tenure</th>\n",
       "      <th>monthly_div_tot</th>\n",
       "      <th>num_of_internet_services</th>\n",
       "      <th>num_of_services</th>\n",
       "    </tr>\n",
       "  </thead>\n",
       "  <tbody>\n",
       "    <tr>\n",
       "      <th>0</th>\n",
       "      <td>0</td>\n",
       "      <td>1</td>\n",
       "      <td>1</td>\n",
       "      <td>1</td>\n",
       "      <td>0</td>\n",
       "      <td>2</td>\n",
       "      <td>1</td>\n",
       "      <td>1</td>\n",
       "      <td>1</td>\n",
       "      <td>1</td>\n",
       "      <td>...</td>\n",
       "      <td>1</td>\n",
       "      <td>0</td>\n",
       "      <td>0</td>\n",
       "      <td>0.022881</td>\n",
       "      <td>-1.489476</td>\n",
       "      <td>-0.712634</td>\n",
       "      <td>-1.471300</td>\n",
       "      <td>-0.449101</td>\n",
       "      <td>-1.095781</td>\n",
       "      <td>-1.107179</td>\n",
       "    </tr>\n",
       "    <tr>\n",
       "      <th>1</th>\n",
       "      <td>1</td>\n",
       "      <td>1</td>\n",
       "      <td>1</td>\n",
       "      <td>1</td>\n",
       "      <td>2</td>\n",
       "      <td>0</td>\n",
       "      <td>2</td>\n",
       "      <td>0</td>\n",
       "      <td>0</td>\n",
       "      <td>2</td>\n",
       "      <td>...</td>\n",
       "      <td>1</td>\n",
       "      <td>1</td>\n",
       "      <td>0</td>\n",
       "      <td>-0.344542</td>\n",
       "      <td>0.547812</td>\n",
       "      <td>-0.157005</td>\n",
       "      <td>0.518759</td>\n",
       "      <td>-0.405672</td>\n",
       "      <td>1.504422</td>\n",
       "      <td>1.077941</td>\n",
       "    </tr>\n",
       "    <tr>\n",
       "      <th>2</th>\n",
       "      <td>0</td>\n",
       "      <td>0</td>\n",
       "      <td>0</td>\n",
       "      <td>1</td>\n",
       "      <td>0</td>\n",
       "      <td>0</td>\n",
       "      <td>2</td>\n",
       "      <td>0</td>\n",
       "      <td>0</td>\n",
       "      <td>2</td>\n",
       "      <td>...</td>\n",
       "      <td>0</td>\n",
       "      <td>1</td>\n",
       "      <td>0</td>\n",
       "      <td>-1.120212</td>\n",
       "      <td>-0.009181</td>\n",
       "      <td>-0.853459</td>\n",
       "      <td>0.198523</td>\n",
       "      <td>0.097378</td>\n",
       "      <td>0.854371</td>\n",
       "      <td>0.531661</td>\n",
       "    </tr>\n",
       "    <tr>\n",
       "      <th>3</th>\n",
       "      <td>1</td>\n",
       "      <td>0</td>\n",
       "      <td>0</td>\n",
       "      <td>1</td>\n",
       "      <td>0</td>\n",
       "      <td>1</td>\n",
       "      <td>0</td>\n",
       "      <td>0</td>\n",
       "      <td>0</td>\n",
       "      <td>2</td>\n",
       "      <td>...</td>\n",
       "      <td>0</td>\n",
       "      <td>1</td>\n",
       "      <td>0</td>\n",
       "      <td>-1.283510</td>\n",
       "      <td>0.313641</td>\n",
       "      <td>-0.976974</td>\n",
       "      <td>0.313909</td>\n",
       "      <td>3.027120</td>\n",
       "      <td>-0.445730</td>\n",
       "      <td>-0.560899</td>\n",
       "    </tr>\n",
       "    <tr>\n",
       "      <th>4</th>\n",
       "      <td>0</td>\n",
       "      <td>0</td>\n",
       "      <td>0</td>\n",
       "      <td>0</td>\n",
       "      <td>1</td>\n",
       "      <td>0</td>\n",
       "      <td>2</td>\n",
       "      <td>2</td>\n",
       "      <td>2</td>\n",
       "      <td>2</td>\n",
       "      <td>...</td>\n",
       "      <td>0</td>\n",
       "      <td>0</td>\n",
       "      <td>0</td>\n",
       "      <td>1.370097</td>\n",
       "      <td>-0.071069</td>\n",
       "      <td>0.823734</td>\n",
       "      <td>-0.062752</td>\n",
       "      <td>-0.502407</td>\n",
       "      <td>2.154473</td>\n",
       "      <td>2.170501</td>\n",
       "    </tr>\n",
       "  </tbody>\n",
       "</table>\n",
       "<p>5 rows × 25 columns</p>\n",
       "</div>"
      ],
      "text/plain": [
       "   gender  partner  dependents  phoneservice  multiplelines  internetservice  \\\n",
       "0       0        1           1             1              0                2   \n",
       "1       1        1           1             1              2                0   \n",
       "2       0        0           0             1              0                0   \n",
       "3       1        0           0             1              0                1   \n",
       "4       0        0           0             0              1                0   \n",
       "\n",
       "   onlinesecurity  onlinebackup  deviceprotection  techsupport  ...  \\\n",
       "0               1             1                 1            1  ...   \n",
       "1               2             0                 0            2  ...   \n",
       "2               2             0                 0            2  ...   \n",
       "3               0             0                 0            2  ...   \n",
       "4               2             2                 2            2  ...   \n",
       "\n",
       "   single_parent  phone_and_internet  seniorcitizen    tenure  monthlycharges  \\\n",
       "0              1                   0              0  0.022881       -1.489476   \n",
       "1              1                   1              0 -0.344542        0.547812   \n",
       "2              0                   1              0 -1.120212       -0.009181   \n",
       "3              0                   1              0 -1.283510        0.313641   \n",
       "4              0                   0              0  1.370097       -0.071069   \n",
       "\n",
       "   totalcharges  totchg_per_tenure  monthly_div_tot  num_of_internet_services  \\\n",
       "0     -0.712634          -1.471300        -0.449101                 -1.095781   \n",
       "1     -0.157005           0.518759        -0.405672                  1.504422   \n",
       "2     -0.853459           0.198523         0.097378                  0.854371   \n",
       "3     -0.976974           0.313909         3.027120                 -0.445730   \n",
       "4      0.823734          -0.062752        -0.502407                  2.154473   \n",
       "\n",
       "   num_of_services  \n",
       "0        -1.107179  \n",
       "1         1.077941  \n",
       "2         0.531661  \n",
       "3        -0.560899  \n",
       "4         2.170501  \n",
       "\n",
       "[5 rows x 25 columns]"
      ]
     },
     "execution_count": 5,
     "metadata": {},
     "output_type": "execute_result"
    }
   ],
   "source": [
    "X_val_sc_df = pd.read_csv('../Warren/X_val_sc.csv')\n",
    "X_val_sc_df.drop('customerid', axis=1, inplace=True)\n",
    "X_val_sc_df.head()"
   ]
  },
  {
   "cell_type": "code",
   "execution_count": 6,
   "id": "7860d877-5214-4ce1-9af7-c2423e5befde",
   "metadata": {},
   "outputs": [
    {
     "data": {
      "text/html": [
       "<div>\n",
       "<style scoped>\n",
       "    .dataframe tbody tr th:only-of-type {\n",
       "        vertical-align: middle;\n",
       "    }\n",
       "\n",
       "    .dataframe tbody tr th {\n",
       "        vertical-align: top;\n",
       "    }\n",
       "\n",
       "    .dataframe thead th {\n",
       "        text-align: right;\n",
       "    }\n",
       "</style>\n",
       "<table border=\"1\" class=\"dataframe\">\n",
       "  <thead>\n",
       "    <tr style=\"text-align: right;\">\n",
       "      <th></th>\n",
       "      <th>churn</th>\n",
       "    </tr>\n",
       "  </thead>\n",
       "  <tbody>\n",
       "    <tr>\n",
       "      <th>0</th>\n",
       "      <td>0</td>\n",
       "    </tr>\n",
       "    <tr>\n",
       "      <th>1</th>\n",
       "      <td>1</td>\n",
       "    </tr>\n",
       "    <tr>\n",
       "      <th>2</th>\n",
       "      <td>0</td>\n",
       "    </tr>\n",
       "    <tr>\n",
       "      <th>3</th>\n",
       "      <td>0</td>\n",
       "    </tr>\n",
       "    <tr>\n",
       "      <th>4</th>\n",
       "      <td>0</td>\n",
       "    </tr>\n",
       "  </tbody>\n",
       "</table>\n",
       "</div>"
      ],
      "text/plain": [
       "   churn\n",
       "0      0\n",
       "1      1\n",
       "2      0\n",
       "3      0\n",
       "4      0"
      ]
     },
     "execution_count": 6,
     "metadata": {},
     "output_type": "execute_result"
    }
   ],
   "source": [
    "y_train_enc_df = pd.read_csv('../Warren/y_train_enc.csv')\n",
    "y_train_enc_df.head()"
   ]
  },
  {
   "cell_type": "code",
   "execution_count": 7,
   "id": "c7d6078f-1ea5-4531-9ec9-22840bbf365c",
   "metadata": {},
   "outputs": [
    {
     "data": {
      "text/html": [
       "<div>\n",
       "<style scoped>\n",
       "    .dataframe tbody tr th:only-of-type {\n",
       "        vertical-align: middle;\n",
       "    }\n",
       "\n",
       "    .dataframe tbody tr th {\n",
       "        vertical-align: top;\n",
       "    }\n",
       "\n",
       "    .dataframe thead th {\n",
       "        text-align: right;\n",
       "    }\n",
       "</style>\n",
       "<table border=\"1\" class=\"dataframe\">\n",
       "  <thead>\n",
       "    <tr style=\"text-align: right;\">\n",
       "      <th></th>\n",
       "      <th>churn</th>\n",
       "    </tr>\n",
       "  </thead>\n",
       "  <tbody>\n",
       "    <tr>\n",
       "      <th>0</th>\n",
       "      <td>0</td>\n",
       "    </tr>\n",
       "    <tr>\n",
       "      <th>1</th>\n",
       "      <td>0</td>\n",
       "    </tr>\n",
       "    <tr>\n",
       "      <th>2</th>\n",
       "      <td>0</td>\n",
       "    </tr>\n",
       "    <tr>\n",
       "      <th>3</th>\n",
       "      <td>0</td>\n",
       "    </tr>\n",
       "    <tr>\n",
       "      <th>4</th>\n",
       "      <td>0</td>\n",
       "    </tr>\n",
       "  </tbody>\n",
       "</table>\n",
       "</div>"
      ],
      "text/plain": [
       "   churn\n",
       "0      0\n",
       "1      0\n",
       "2      0\n",
       "3      0\n",
       "4      0"
      ]
     },
     "execution_count": 7,
     "metadata": {},
     "output_type": "execute_result"
    }
   ],
   "source": [
    "y_val_enc_df = pd.read_csv('../Warren/y_val_enc.csv')\n",
    "y_val_enc_df.head()"
   ]
  },
  {
   "cell_type": "markdown",
   "id": "67b50313-54a4-4d94-b7f9-8f85ca2113dd",
   "metadata": {},
   "source": [
    "# Modeling"
   ]
  },
  {
   "cell_type": "markdown",
   "id": "0407acbb-8048-4b51-adbd-18baab3f9376",
   "metadata": {},
   "source": [
    "Creating a function to fit, predict, and return scores for my models. "
   ]
  },
  {
   "cell_type": "code",
   "execution_count": 8,
   "id": "e20766a2-94a0-404a-859a-7348914e8728",
   "metadata": {},
   "outputs": [],
   "source": [
    "def modeling_function(model, X_train, y_train, X_val, y_val):\n",
    "\n",
    "    # fit model on training data\n",
    "    model.fit(X_train, y_train)\n",
    "\n",
    "    # make predictions on training and validation data\n",
    "    train_preds = model.predict(X_train)\n",
    "    val_preds = model.predict(X_val)\n",
    "\n",
    "    # Print accuracy score\n",
    "    print('Training Precision: ', precision_score(y_train, train_preds))\n",
    "    print('Validation Precision: ', precision_score(y_val, val_preds))\n",
    "    print('Training F1: ', f1_score(y_train, train_preds))\n",
    "    print('Validation F1: ', f1_score(y_val, val_preds))\n",
    "    print('Training Accuracy: ', accuracy_score(y_train, train_preds))\n",
    "    print('Validation Accuracy: ', accuracy_score(y_val, val_preds))\n",
    "    # return fitted model\n",
    "    return model"
   ]
  },
  {
   "cell_type": "markdown",
   "id": "7fbf5dd9-cf6f-4367-ac7d-35816e1ff923",
   "metadata": {},
   "source": [
    "### Initial Logistic Regression Model"
   ]
  },
  {
   "cell_type": "code",
   "execution_count": 9,
   "id": "896d8c7f-e702-404b-8be8-4fab6e3f3978",
   "metadata": {},
   "outputs": [],
   "source": [
    "logreg = LogisticRegression(random_state=10)"
   ]
  },
  {
   "cell_type": "code",
   "execution_count": 10,
   "id": "09065352-0189-46aa-b608-51f77e787dd0",
   "metadata": {},
   "outputs": [
    {
     "name": "stdout",
     "output_type": "stream",
     "text": [
      "Training Precision:  0.6840882694541232\n",
      "Validation Precision:  0.6666666666666666\n",
      "Training F1:  0.6145018257694315\n",
      "Validation F1:  0.6186830015313934\n",
      "Training Accuracy:  0.8134309517798536\n",
      "Validation Accuracy:  0.8115064345193036\n"
     ]
    },
    {
     "data": {
      "text/plain": [
       "LogisticRegression(random_state=10)"
      ]
     },
     "execution_count": 10,
     "metadata": {},
     "output_type": "execute_result"
    }
   ],
   "source": [
    "modeling_function(logreg, X_train_sc_df, y_train_enc_df, X_val_sc_df, y_val_enc_df)"
   ]
  },
  {
   "cell_type": "markdown",
   "id": "7430c6a1-f3bb-4398-a63e-9d1e34c2c758",
   "metadata": {},
   "source": [
    "#### Tuning the Logistic Regression"
   ]
  },
  {
   "cell_type": "code",
   "execution_count": 11,
   "id": "14b87a37-bb3f-4567-8829-3b698a981455",
   "metadata": {},
   "outputs": [],
   "source": [
    "logreg_tune = LogisticRegression(penalty= 'l1', C=0.2, solver='liblinear', random_state=10)"
   ]
  },
  {
   "cell_type": "code",
   "execution_count": 12,
   "id": "d64f8ca3-e543-47d2-91e6-71d35e673951",
   "metadata": {},
   "outputs": [
    {
     "name": "stdout",
     "output_type": "stream",
     "text": [
      "Training Precision:  0.6915017462165308\n",
      "Validation Precision:  0.67\n",
      "Training F1:  0.6203655352480417\n",
      "Validation F1:  0.6184615384615385\n",
      "Training Accuracy:  0.8164604897753093\n",
      "Validation Accuracy:  0.8122634367903103\n"
     ]
    },
    {
     "data": {
      "text/plain": [
       "LogisticRegression(C=0.2, penalty='l1', random_state=10, solver='liblinear')"
      ]
     },
     "execution_count": 12,
     "metadata": {},
     "output_type": "execute_result"
    }
   ],
   "source": [
    "modeling_function(logreg_tune, X_train_sc_df, y_train_enc_df, X_val_sc_df, y_val_enc_df)"
   ]
  },
  {
   "cell_type": "markdown",
   "id": "2468c0bf-52ba-4f77-bdaa-c753f126de4d",
   "metadata": {},
   "source": [
    "#### Smoting the data to see if it helped the scores (It made the scores worse for validation)"
   ]
  },
  {
   "cell_type": "code",
   "execution_count": 13,
   "id": "95bcf2f0-89b7-4de2-8833-125dcad43502",
   "metadata": {},
   "outputs": [],
   "source": [
    "sm = SMOTE(random_state=10)"
   ]
  },
  {
   "cell_type": "code",
   "execution_count": 14,
   "id": "4a38a61b-2815-4c22-b72f-908835f520da",
   "metadata": {},
   "outputs": [],
   "source": [
    "X_train_res, y_train_res = sm.fit_resample(X_train_sc_df, y_train_enc_df)"
   ]
  },
  {
   "cell_type": "code",
   "execution_count": 15,
   "id": "45e249db-dc35-40bb-b79b-11a094ea4905",
   "metadata": {},
   "outputs": [
    {
     "data": {
      "text/plain": [
       "churn\n",
       "0        0.733401\n",
       "1        0.266599\n",
       "dtype: float64"
      ]
     },
     "execution_count": 15,
     "metadata": {},
     "output_type": "execute_result"
    }
   ],
   "source": [
    "y_train_enc_df.value_counts(normalize=True)"
   ]
  },
  {
   "cell_type": "code",
   "execution_count": 16,
   "id": "a028c30f-a412-4e5b-8521-8998d58c322e",
   "metadata": {},
   "outputs": [
    {
     "data": {
      "text/plain": [
       "churn\n",
       "1        0.5\n",
       "0        0.5\n",
       "dtype: float64"
      ]
     },
     "execution_count": 16,
     "metadata": {},
     "output_type": "execute_result"
    }
   ],
   "source": [
    "y_train_res.value_counts(normalize=True)"
   ]
  },
  {
   "cell_type": "code",
   "execution_count": 17,
   "id": "c3a2f824-18c2-4f20-95c4-b63390ac79f4",
   "metadata": {},
   "outputs": [
    {
     "name": "stdout",
     "output_type": "stream",
     "text": [
      "Training Precision:  0.7737386399247884\n",
      "Validation Precision:  0.5134099616858238\n",
      "Training F1:  0.81003937007874\n",
      "Validation F1:  0.6146788990825688\n",
      "Training Accuracy:  0.8006884681583477\n",
      "Validation Accuracy:  0.7456472369417109\n"
     ]
    },
    {
     "data": {
      "text/plain": [
       "LogisticRegression(C=0.2, penalty='l1', random_state=10, solver='liblinear')"
      ]
     },
     "execution_count": 17,
     "metadata": {},
     "output_type": "execute_result"
    }
   ],
   "source": [
    "modeling_function(logreg_tune, X_train_res, y_train_res, X_val_sc_df, y_val_enc_df)"
   ]
  },
  {
   "cell_type": "code",
   "execution_count": 18,
   "id": "4fdd7405-89ae-406c-be76-a5275b278e1c",
   "metadata": {},
   "outputs": [],
   "source": [
    "logreg_tune_coef = pd.DataFrame(np.abs(logreg_tune.coef_.T), columns=['coefficient'], index=X_train_res.columns)"
   ]
  },
  {
   "cell_type": "code",
   "execution_count": 19,
   "id": "99e3e06c-7c63-4505-b068-7ef4c3674588",
   "metadata": {},
   "outputs": [
    {
     "data": {
      "text/html": [
       "<div>\n",
       "<style scoped>\n",
       "    .dataframe tbody tr th:only-of-type {\n",
       "        vertical-align: middle;\n",
       "    }\n",
       "\n",
       "    .dataframe tbody tr th {\n",
       "        vertical-align: top;\n",
       "    }\n",
       "\n",
       "    .dataframe thead th {\n",
       "        text-align: right;\n",
       "    }\n",
       "</style>\n",
       "<table border=\"1\" class=\"dataframe\">\n",
       "  <thead>\n",
       "    <tr style=\"text-align: right;\">\n",
       "      <th></th>\n",
       "      <th>coefficient</th>\n",
       "    </tr>\n",
       "  </thead>\n",
       "  <tbody>\n",
       "    <tr>\n",
       "      <th>gender</th>\n",
       "      <td>0.419721</td>\n",
       "    </tr>\n",
       "    <tr>\n",
       "      <th>partner</th>\n",
       "      <td>0.266899</td>\n",
       "    </tr>\n",
       "    <tr>\n",
       "      <th>dependents</th>\n",
       "      <td>0.697416</td>\n",
       "    </tr>\n",
       "    <tr>\n",
       "      <th>phoneservice</th>\n",
       "      <td>0.000000</td>\n",
       "    </tr>\n",
       "    <tr>\n",
       "      <th>multiplelines</th>\n",
       "      <td>0.111374</td>\n",
       "    </tr>\n",
       "    <tr>\n",
       "      <th>internetservice</th>\n",
       "      <td>0.029988</td>\n",
       "    </tr>\n",
       "    <tr>\n",
       "      <th>onlinesecurity</th>\n",
       "      <td>0.344061</td>\n",
       "    </tr>\n",
       "    <tr>\n",
       "      <th>onlinebackup</th>\n",
       "      <td>0.253006</td>\n",
       "    </tr>\n",
       "    <tr>\n",
       "      <th>deviceprotection</th>\n",
       "      <td>0.110095</td>\n",
       "    </tr>\n",
       "    <tr>\n",
       "      <th>techsupport</th>\n",
       "      <td>0.243313</td>\n",
       "    </tr>\n",
       "    <tr>\n",
       "      <th>streamingtv</th>\n",
       "      <td>0.001136</td>\n",
       "    </tr>\n",
       "    <tr>\n",
       "      <th>streamingmovies</th>\n",
       "      <td>0.019098</td>\n",
       "    </tr>\n",
       "    <tr>\n",
       "      <th>contract</th>\n",
       "      <td>1.234549</td>\n",
       "    </tr>\n",
       "    <tr>\n",
       "      <th>paperlessbilling</th>\n",
       "      <td>0.000000</td>\n",
       "    </tr>\n",
       "    <tr>\n",
       "      <th>paymentmethod</th>\n",
       "      <td>0.072023</td>\n",
       "    </tr>\n",
       "    <tr>\n",
       "      <th>single_parent</th>\n",
       "      <td>0.000000</td>\n",
       "    </tr>\n",
       "    <tr>\n",
       "      <th>phone_and_internet</th>\n",
       "      <td>1.255539</td>\n",
       "    </tr>\n",
       "    <tr>\n",
       "      <th>seniorcitizen</th>\n",
       "      <td>0.184786</td>\n",
       "    </tr>\n",
       "    <tr>\n",
       "      <th>tenure</th>\n",
       "      <td>0.472462</td>\n",
       "    </tr>\n",
       "    <tr>\n",
       "      <th>monthlycharges</th>\n",
       "      <td>1.178985</td>\n",
       "    </tr>\n",
       "    <tr>\n",
       "      <th>totalcharges</th>\n",
       "      <td>0.028127</td>\n",
       "    </tr>\n",
       "    <tr>\n",
       "      <th>totchg_per_tenure</th>\n",
       "      <td>0.157038</td>\n",
       "    </tr>\n",
       "    <tr>\n",
       "      <th>monthly_div_tot</th>\n",
       "      <td>0.423777</td>\n",
       "    </tr>\n",
       "    <tr>\n",
       "      <th>num_of_internet_services</th>\n",
       "      <td>0.000000</td>\n",
       "    </tr>\n",
       "    <tr>\n",
       "      <th>num_of_services</th>\n",
       "      <td>0.000000</td>\n",
       "    </tr>\n",
       "  </tbody>\n",
       "</table>\n",
       "</div>"
      ],
      "text/plain": [
       "                          coefficient\n",
       "gender                       0.419721\n",
       "partner                      0.266899\n",
       "dependents                   0.697416\n",
       "phoneservice                 0.000000\n",
       "multiplelines                0.111374\n",
       "internetservice              0.029988\n",
       "onlinesecurity               0.344061\n",
       "onlinebackup                 0.253006\n",
       "deviceprotection             0.110095\n",
       "techsupport                  0.243313\n",
       "streamingtv                  0.001136\n",
       "streamingmovies              0.019098\n",
       "contract                     1.234549\n",
       "paperlessbilling             0.000000\n",
       "paymentmethod                0.072023\n",
       "single_parent                0.000000\n",
       "phone_and_internet           1.255539\n",
       "seniorcitizen                0.184786\n",
       "tenure                       0.472462\n",
       "monthlycharges               1.178985\n",
       "totalcharges                 0.028127\n",
       "totchg_per_tenure            0.157038\n",
       "monthly_div_tot              0.423777\n",
       "num_of_internet_services     0.000000\n",
       "num_of_services              0.000000"
      ]
     },
     "execution_count": 19,
     "metadata": {},
     "output_type": "execute_result"
    }
   ],
   "source": [
    "logreg_tune_coef"
   ]
  },
  {
   "cell_type": "markdown",
   "id": "0ba9b7cc-2c28-49c4-9797-191eb3e49b11",
   "metadata": {},
   "source": [
    "#### Running a Grid Search for the Logistic Regression model"
   ]
  },
  {
   "cell_type": "code",
   "execution_count": 20,
   "id": "58b048ed-e3b3-4f4e-bf86-fa969a02735f",
   "metadata": {},
   "outputs": [],
   "source": [
    "weights = {0:1.0, 1:1.0}"
   ]
  },
  {
   "cell_type": "code",
   "execution_count": 21,
   "id": "fc665489-e214-433c-99a5-b9b9c6ea2289",
   "metadata": {},
   "outputs": [],
   "source": [
    "param_grid = {'penalty': ['l1', 'l2'],\n",
    "              'C': [.001, .01, .1, 1],\n",
    "              'class_weight': [None, weights],\n",
    "              'max_iter': [10, 50, 100, 200]}"
   ]
  },
  {
   "cell_type": "code",
   "execution_count": 22,
   "id": "3001fa82-93cd-4979-b90a-a9f941420349",
   "metadata": {},
   "outputs": [],
   "source": [
    "gs = GridSearchCV(logreg, param_grid, scoring='precision')"
   ]
  },
  {
   "cell_type": "code",
   "execution_count": 23,
   "id": "ec501113-981d-4b2a-b4b9-6ba125462d40",
   "metadata": {},
   "outputs": [
    {
     "data": {
      "text/plain": [
       "GridSearchCV(estimator=LogisticRegression(random_state=10),\n",
       "             param_grid={'C': [0.001, 0.01, 0.1, 1],\n",
       "                         'class_weight': [None, {0: 1.0, 1: 1.0}],\n",
       "                         'max_iter': [10, 50, 100, 200],\n",
       "                         'penalty': ['l1', 'l2']},\n",
       "             scoring='precision')"
      ]
     },
     "execution_count": 23,
     "metadata": {},
     "output_type": "execute_result"
    }
   ],
   "source": [
    "gs.fit(X_train_res, y_train_res)"
   ]
  },
  {
   "cell_type": "code",
   "execution_count": 24,
   "id": "f2d6f6ab-4ca0-4aa1-9efe-1faace37b94d",
   "metadata": {},
   "outputs": [
    {
     "data": {
      "text/plain": [
       "{'C': 1, 'class_weight': None, 'max_iter': 200, 'penalty': 'l2'}"
      ]
     },
     "execution_count": 24,
     "metadata": {},
     "output_type": "execute_result"
    }
   ],
   "source": [
    "gs.best_params_"
   ]
  },
  {
   "cell_type": "markdown",
   "id": "762c6243-90a5-4839-bade-d05056b4c63e",
   "metadata": {},
   "source": [
    "Changing the weights and regularization"
   ]
  },
  {
   "cell_type": "code",
   "execution_count": 25,
   "id": "259873a8-dc0a-4184-b9c5-66b8e2e71a07",
   "metadata": {},
   "outputs": [],
   "source": [
    "logreg_weights = LogisticRegression(random_state=10, class_weight=weights, C=.001)"
   ]
  },
  {
   "cell_type": "code",
   "execution_count": 26,
   "id": "68e207fa-2e54-400e-9bbf-6dc4e9c646a1",
   "metadata": {},
   "outputs": [
    {
     "name": "stdout",
     "output_type": "stream",
     "text": [
      "Training Precision:  0.8067226890756303\n",
      "Validation Precision:  0.7608695652173914\n",
      "Training F1:  0.40764331210191085\n",
      "Validation F1:  0.430327868852459\n",
      "Training Accuracy:  0.7886897248169654\n",
      "Validation Accuracy:  0.789553368660106\n"
     ]
    },
    {
     "data": {
      "text/plain": [
       "LogisticRegression(C=0.001, class_weight={0: 1.0, 1: 1.0}, random_state=10)"
      ]
     },
     "execution_count": 26,
     "metadata": {},
     "output_type": "execute_result"
    }
   ],
   "source": [
    "modeling_function(logreg_weights, X_train_sc_df, y_train_enc_df, X_val_sc_df, y_val_enc_df)"
   ]
  },
  {
   "cell_type": "markdown",
   "id": "72457eab-7ce9-45e7-89d1-3115ac03ba57",
   "metadata": {},
   "source": [
    "#### Creating a XGBoost model"
   ]
  },
  {
   "cell_type": "code",
   "execution_count": 27,
   "id": "d24d1ff3-12a7-4987-a194-3ba70d699290",
   "metadata": {},
   "outputs": [],
   "source": [
    "import xgboost as xgb"
   ]
  },
  {
   "cell_type": "code",
   "execution_count": 28,
   "id": "9f8e7014-514c-4601-8447-d3549fc00fab",
   "metadata": {},
   "outputs": [],
   "source": [
    "boost = xgb.XGBClassifier()"
   ]
  },
  {
   "cell_type": "code",
   "execution_count": 29,
   "id": "306f324e-ef12-4687-9d37-071ca1eccea0",
   "metadata": {},
   "outputs": [
    {
     "name": "stdout",
     "output_type": "stream",
     "text": [
      "Training Precision:  0.9623188405797102\n",
      "Validation Precision:  0.6394557823129252\n",
      "Training F1:  0.9526542324246772\n",
      "Validation F1:  0.5838509316770186\n",
      "Training Accuracy:  0.9750063115374905\n",
      "Validation Accuracy:  0.7971233913701741\n"
     ]
    },
    {
     "data": {
      "text/plain": [
       "XGBClassifier(base_score=0.5, booster='gbtree', colsample_bylevel=1,\n",
       "              colsample_bynode=1, colsample_bytree=1, gamma=0, gpu_id=-1,\n",
       "              importance_type='gain', interaction_constraints='',\n",
       "              learning_rate=0.300000012, max_delta_step=0, max_depth=6,\n",
       "              min_child_weight=1, missing=nan, monotone_constraints='()',\n",
       "              n_estimators=100, n_jobs=0, num_parallel_tree=1, random_state=0,\n",
       "              reg_alpha=0, reg_lambda=1, scale_pos_weight=1, subsample=1,\n",
       "              tree_method='exact', validate_parameters=1, verbosity=None)"
      ]
     },
     "execution_count": 29,
     "metadata": {},
     "output_type": "execute_result"
    }
   ],
   "source": [
    "modeling_function(boost, X_train_sc_df, y_train_enc_df, X_val_sc_df, y_val_enc_df)"
   ]
  },
  {
   "cell_type": "markdown",
   "id": "e2e49dfd-a7a4-4aff-acaa-3f28790794ff",
   "metadata": {},
   "source": [
    "#### Creating a SVC model"
   ]
  },
  {
   "cell_type": "code",
   "execution_count": 30,
   "id": "216f3e39-b75e-459a-a532-0bfcb9ea412a",
   "metadata": {},
   "outputs": [],
   "source": [
    "from sklearn.svm import SVC"
   ]
  },
  {
   "cell_type": "code",
   "execution_count": 31,
   "id": "039667e2-8778-4faf-ab87-793659672671",
   "metadata": {},
   "outputs": [],
   "source": [
    "vec_gs = SVC(random_state=10)"
   ]
  },
  {
   "cell_type": "code",
   "execution_count": 32,
   "id": "7a1f68e2-88bd-490a-94bf-cd0a19b7d987",
   "metadata": {},
   "outputs": [
    {
     "data": {
      "text/plain": [
       "SVC(random_state=10)"
      ]
     },
     "execution_count": 32,
     "metadata": {},
     "output_type": "execute_result"
    }
   ],
   "source": [
    "vec_gs.fit(X_train_sc_df, y_train_enc_df)"
   ]
  },
  {
   "cell_type": "code",
   "execution_count": 33,
   "id": "716833ed-032f-49b9-9fba-fa0f7c3eba15",
   "metadata": {},
   "outputs": [],
   "source": [
    "y_pred_try = vec_gs.predict(X_val_sc_df)"
   ]
  },
  {
   "cell_type": "code",
   "execution_count": 34,
   "id": "1412b249-63fb-4855-aa3f-f957d265dc86",
   "metadata": {},
   "outputs": [
    {
     "name": "stdout",
     "output_type": "stream",
     "text": [
      "[[894  77]\n",
      " [178 172]]\n",
      "              precision    recall  f1-score   support\n",
      "\n",
      "           0       0.83      0.92      0.88       971\n",
      "           1       0.69      0.49      0.57       350\n",
      "\n",
      "    accuracy                           0.81      1321\n",
      "   macro avg       0.76      0.71      0.72      1321\n",
      "weighted avg       0.80      0.81      0.80      1321\n",
      "\n"
     ]
    }
   ],
   "source": [
    "print(confusion_matrix(y_val_enc_df, y_pred_try))\n",
    "print(classification_report(y_val_enc_df, y_pred_try))"
   ]
  },
  {
   "cell_type": "code",
   "execution_count": 35,
   "id": "1d97b353-bb62-440d-b18d-f524085ef7c7",
   "metadata": {},
   "outputs": [],
   "source": [
    "vec = SVC(kernel='poly', degree=8, C=.01, random_state=10)"
   ]
  },
  {
   "cell_type": "code",
   "execution_count": 36,
   "id": "3c1247f3-b6f4-452e-b2f2-77e69720b1cc",
   "metadata": {},
   "outputs": [
    {
     "data": {
      "text/plain": [
       "SVC(C=0.01, degree=8, kernel='poly', random_state=10)"
      ]
     },
     "execution_count": 36,
     "metadata": {},
     "output_type": "execute_result"
    }
   ],
   "source": [
    "vec.fit(X_train_sc_df, y_train_enc_df)"
   ]
  },
  {
   "cell_type": "code",
   "execution_count": 37,
   "id": "e9db0635-7481-460c-afcc-fd0155bd5fbe",
   "metadata": {},
   "outputs": [],
   "source": [
    "y_pred = vec.predict(X_val_sc_df)"
   ]
  },
  {
   "cell_type": "code",
   "execution_count": 38,
   "id": "3f4bd3a4-21a8-4162-8949-9686b4c71273",
   "metadata": {},
   "outputs": [
    {
     "name": "stdout",
     "output_type": "stream",
     "text": [
      "[[954  17]\n",
      " [296  54]]\n",
      "              precision    recall  f1-score   support\n",
      "\n",
      "           0       0.76      0.98      0.86       971\n",
      "           1       0.76      0.15      0.26       350\n",
      "\n",
      "    accuracy                           0.76      1321\n",
      "   macro avg       0.76      0.57      0.56      1321\n",
      "weighted avg       0.76      0.76      0.70      1321\n",
      "\n"
     ]
    }
   ],
   "source": [
    "\n",
    "print(confusion_matrix(y_val_enc_df, y_pred))\n",
    "print(classification_report(y_val_enc_df, y_pred))"
   ]
  },
  {
   "cell_type": "markdown",
   "id": "53c33cf6-ca1d-4620-aaf2-01b5621577ea",
   "metadata": {},
   "source": [
    "#### Running a Grid Search on the SVC parameters"
   ]
  },
  {
   "cell_type": "code",
   "execution_count": 39,
   "id": "01191a31-cdf1-46b4-bab0-b0c7440c7ffa",
   "metadata": {},
   "outputs": [],
   "source": [
    "vec_params = {'kernel':['linear', 'poly', 'rbf'],\n",
    "              'C': [.0001, .001, .01, .1, 1],\n",
    "              'degree': [3, 4, 5, 6, 7, 8],\n",
    "              'max_iter': [-1, 5, 10, 50, 100],\n",
    "              'shrinking': [True, False],\n",
    "              'gamma': ['scale', 'auto'],\n",
    "              'probability': [True, False]}"
   ]
  },
  {
   "cell_type": "code",
   "execution_count": 40,
   "id": "a62a6bfb-ce7c-4337-9fae-4c529ae24a59",
   "metadata": {},
   "outputs": [],
   "source": [
    "vec_grid = GridSearchCV(vec_gs, vec_params, scoring='precision')"
   ]
  },
  {
   "cell_type": "code",
   "execution_count": 41,
   "id": "88e45b80-958b-437e-b497-b58413a1ffa3",
   "metadata": {},
   "outputs": [
    {
     "data": {
      "text/plain": [
       "GridSearchCV(estimator=SVC(random_state=10),\n",
       "             param_grid={'C': [0.0001, 0.001, 0.01, 0.1, 1],\n",
       "                         'degree': [3, 4, 5, 6, 7, 8],\n",
       "                         'gamma': ['scale', 'auto'],\n",
       "                         'kernel': ['linear', 'poly', 'rbf'],\n",
       "                         'max_iter': [-1, 5, 10, 50, 100],\n",
       "                         'probability': [True, False],\n",
       "                         'shrinking': [True, False]},\n",
       "             scoring='precision')"
      ]
     },
     "execution_count": 41,
     "metadata": {},
     "output_type": "execute_result"
    }
   ],
   "source": [
    "vec_grid.fit(X_train_sc_df, y_train_enc_df)"
   ]
  },
  {
   "cell_type": "code",
   "execution_count": 42,
   "id": "f48184bb-dfbd-4ee9-b4f0-419a9eabe21d",
   "metadata": {},
   "outputs": [
    {
     "data": {
      "text/plain": [
       "{'C': 0.01,\n",
       " 'degree': 4,\n",
       " 'gamma': 'auto',\n",
       " 'kernel': 'poly',\n",
       " 'max_iter': -1,\n",
       " 'probability': True,\n",
       " 'shrinking': True}"
      ]
     },
     "execution_count": 42,
     "metadata": {},
     "output_type": "execute_result"
    }
   ],
   "source": [
    "vec_grid.best_params_"
   ]
  },
  {
   "cell_type": "code",
   "execution_count": 43,
   "id": "72b29863-7788-4778-91d0-0b88ef48fa8a",
   "metadata": {},
   "outputs": [],
   "source": [
    "best_vec = vec_grid.best_estimator_"
   ]
  },
  {
   "cell_type": "code",
   "execution_count": 44,
   "id": "51bfdde0-e513-4b4a-b2b1-7ac257b08237",
   "metadata": {},
   "outputs": [
    {
     "name": "stdout",
     "output_type": "stream",
     "text": [
      "Training Precision:  0.9523809523809523\n",
      "Validation Precision:  0.8125\n",
      "Training F1:  0.03714020427112349\n",
      "Validation F1:  0.07103825136612021\n",
      "Training Accuracy:  0.7381974248927039\n",
      "Validation Accuracy:  0.7426192278576835\n"
     ]
    },
    {
     "data": {
      "text/plain": [
       "SVC(C=0.01, degree=4, gamma='auto', kernel='poly', probability=True,\n",
       "    random_state=10)"
      ]
     },
     "execution_count": 44,
     "metadata": {},
     "output_type": "execute_result"
    }
   ],
   "source": [
    "modeling_function(best_vec, X_train_sc_df, y_train_enc_df, X_val_sc_df, y_val_enc_df)"
   ]
  },
  {
   "cell_type": "markdown",
   "id": "d32e8837-148d-4ca2-86f1-73956e10f4d3",
   "metadata": {},
   "source": [
    "## Best Model (Not used in presentation model because of complexity and roc_auc_score)"
   ]
  },
  {
   "cell_type": "code",
   "execution_count": 83,
   "id": "2edce2bf-c9dc-442c-b45f-5eacafca65c1",
   "metadata": {},
   "outputs": [],
   "source": [
    "vec_best = SVC(kernel='poly', degree=2, C=.01, random_state=10)"
   ]
  },
  {
   "cell_type": "code",
   "execution_count": 55,
   "id": "03aead34-6a32-4e42-a52a-275a7937cade",
   "metadata": {},
   "outputs": [
    {
     "name": "stdout",
     "output_type": "stream",
     "text": [
      "Training Precision:  0.8741258741258742\n",
      "Validation Precision:  0.8181818181818182\n",
      "Training F1:  0.2085070892410342\n",
      "Validation F1:  0.2222222222222222\n",
      "Training Accuracy:  0.7604140368593789\n",
      "Validation Accuracy:  0.761544284632854\n"
     ]
    },
    {
     "data": {
      "text/plain": [
       "SVC(C=0.01, kernel='poly', random_state=10)"
      ]
     },
     "execution_count": 55,
     "metadata": {},
     "output_type": "execute_result"
    }
   ],
   "source": [
    "modeling_function(vec_best, X_train_sc_df, y_train_enc_df, X_val_sc_df, y_val_enc_df)"
   ]
  },
  {
   "cell_type": "code",
   "execution_count": 58,
   "id": "70d17e53-e703-4c83-95cb-6bb7a3e61418",
   "metadata": {},
   "outputs": [],
   "source": [
    "try_X_train_df = pd.read_csv('new_X_train_sc.csv')\n",
    "try_X_train_df.drop('customerid', axis=1, inplace=True)\n",
    "try_X_val_df = pd.read_csv('new_X_val_sc.csv')\n",
    "try_X_val_df.drop('customerid', axis=1, inplace=True)\n",
    "try_y_train_df = pd.read_csv('new_y_train_enc.csv')\n",
    "try_y_val_df = pd.read_csv('new_y_val_enc.csv')"
   ]
  },
  {
   "cell_type": "code",
   "execution_count": 84,
   "id": "df1d6fb8-4246-4963-b32e-e0ffa5d4acee",
   "metadata": {},
   "outputs": [
    {
     "name": "stdout",
     "output_type": "stream",
     "text": [
      "Training Precision:  0.9010989010989011\n",
      "Validation Precision:  0.8717948717948718\n",
      "Training F1:  0.14298169136878816\n",
      "Validation F1:  0.1748071979434447\n",
      "Training Accuracy:  0.7518303458722545\n",
      "Validation Accuracy:  0.757002271006813\n"
     ]
    },
    {
     "data": {
      "text/plain": [
       "SVC(C=0.01, degree=2, kernel='poly', random_state=10)"
      ]
     },
     "execution_count": 84,
     "metadata": {},
     "output_type": "execute_result"
    }
   ],
   "source": [
    "modeling_function(vec_best, try_X_train_df, try_y_train_df, try_X_val_df, try_y_val_df)"
   ]
  },
  {
   "cell_type": "code",
   "execution_count": 91,
   "id": "bc99b9b8-c7b8-4ffd-9f48-be9b7471fa00",
   "metadata": {},
   "outputs": [
    {
     "data": {
      "text/plain": [
       "0.5459967632779168"
      ]
     },
     "execution_count": 91,
     "metadata": {},
     "output_type": "execute_result"
    }
   ],
   "source": [
    "roc_auc_score(try_y_val_df, vec_best.predict(try_X_val_df))"
   ]
  },
  {
   "cell_type": "code",
   "execution_count": 85,
   "id": "a32f5eb6-3fe1-4e46-bee5-a5ece6c53961",
   "metadata": {},
   "outputs": [],
   "source": [
    "from sklearn.metrics import roc_auc_score"
   ]
  },
  {
   "cell_type": "code",
   "execution_count": 86,
   "id": "debb66f3-3e52-44b9-b843-2f8e8a69bc18",
   "metadata": {},
   "outputs": [],
   "source": [
    "X_test_df = pd.read_csv('new_X_test_sc.csv')\n",
    "X_test_df.drop('customerid', axis=1, inplace=True)\n",
    "y_test_df = pd.read_csv('new_y_test_enc.csv')"
   ]
  },
  {
   "cell_type": "code",
   "execution_count": 87,
   "id": "cc1f1da7-20b9-49e7-ab6c-4ec0f9d12c27",
   "metadata": {},
   "outputs": [],
   "source": [
    " test_preds = vec_best.predict(X_test_df)"
   ]
  },
  {
   "cell_type": "code",
   "execution_count": 88,
   "id": "4e628890-3f1b-40a4-8b69-49cfde95c0da",
   "metadata": {},
   "outputs": [
    {
     "name": "stdout",
     "output_type": "stream",
     "text": [
      "Training Precision:  0.9010989010989011\n",
      "Validation Precision:  0.8205128205128205\n",
      "Training F1:  0.14298169136878816\n",
      "Validation F1:  0.12749003984063745\n",
      "Training Accuracy:  0.7518303458722545\n",
      "Validation Accuracy:  0.7512776831345827\n"
     ]
    },
    {
     "data": {
      "text/plain": [
       "SVC(C=0.01, degree=2, kernel='poly', random_state=10)"
      ]
     },
     "execution_count": 88,
     "metadata": {},
     "output_type": "execute_result"
    }
   ],
   "source": [
    "modeling_function(vec_best, try_X_train_df, try_y_train_df, X_test_df, y_test_df)"
   ]
  },
  {
   "cell_type": "code",
   "execution_count": 82,
   "id": "4b6b40ee-22c1-4dbf-96c8-59524ed92c72",
   "metadata": {},
   "outputs": [
    {
     "data": {
      "text/plain": [
       "0.5310903633102264"
      ]
     },
     "execution_count": 82,
     "metadata": {},
     "output_type": "execute_result"
    }
   ],
   "source": [
    "roc_auc_score(y_test_df, test_preds)"
   ]
  },
  {
   "cell_type": "code",
   "execution_count": null,
   "id": "f98638c9-1cae-435a-88f1-d803e8d79a41",
   "metadata": {},
   "outputs": [],
   "source": []
  }
 ],
 "metadata": {
  "kernelspec": {
   "display_name": "learn-env",
   "language": "python",
   "name": "learn-env"
  },
  "language_info": {
   "codemirror_mode": {
    "name": "ipython",
    "version": 3
   },
   "file_extension": ".py",
   "mimetype": "text/x-python",
   "name": "python",
   "nbconvert_exporter": "python",
   "pygments_lexer": "ipython3",
   "version": "3.8.5"
  }
 },
 "nbformat": 4,
 "nbformat_minor": 5
}
