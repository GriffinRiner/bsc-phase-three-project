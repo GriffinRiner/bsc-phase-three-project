{
 "cells": [
  {
   "cell_type": "code",
   "execution_count": 74,
   "id": "f518a5f5-72be-4b76-9a12-8de24bb07ea0",
   "metadata": {},
   "outputs": [],
   "source": [
    "import pandas as pd\n",
    "import numpy as np\n",
    "from sklearn.model_selection import train_test_split, GridSearchCV, cross_val_score\n",
    "from sklearn.linear_model import LogisticRegression\n",
    "from sklearn.preprocessing import StandardScaler, OneHotEncoder\n",
    "from sklearn.impute import SimpleImputer\n",
    "from sklearn.tree import DecisionTreeClassifier\n",
    "from sklearn.ensemble import RandomForestClassifier\n",
    "from sklearn.metrics import accuracy_score, precision_score, f1_score\n",
    "from sklearn.pipeline import Pipeline, make_pipeline\n",
    "from sklearn.compose import make_column_selector, make_column_transformer\n",
    "from imblearn.over_sampling import SMOTE\n",
    "from sklearn.linear_model import Ridge\n",
    "from sklearn.neighbors import KNeighborsClassifier\n",
    "import warnings\n",
    "warnings.filterwarnings(\"ignore\")"
   ]
  },
  {
   "cell_type": "code",
   "execution_count": 211,
   "id": "94fd06bd-cfeb-4207-b993-39f658c26ecc",
   "metadata": {},
   "outputs": [
    {
     "data": {
      "text/html": [
       "<div>\n",
       "<style scoped>\n",
       "    .dataframe tbody tr th:only-of-type {\n",
       "        vertical-align: middle;\n",
       "    }\n",
       "\n",
       "    .dataframe tbody tr th {\n",
       "        vertical-align: top;\n",
       "    }\n",
       "\n",
       "    .dataframe thead th {\n",
       "        text-align: right;\n",
       "    }\n",
       "</style>\n",
       "<table border=\"1\" class=\"dataframe\">\n",
       "  <thead>\n",
       "    <tr style=\"text-align: right;\">\n",
       "      <th></th>\n",
       "      <th>gender</th>\n",
       "      <th>partner</th>\n",
       "      <th>dependents</th>\n",
       "      <th>phoneservice</th>\n",
       "      <th>multiplelines</th>\n",
       "      <th>internetservice</th>\n",
       "      <th>onlinesecurity</th>\n",
       "      <th>onlinebackup</th>\n",
       "      <th>deviceprotection</th>\n",
       "      <th>techsupport</th>\n",
       "      <th>streamingtv</th>\n",
       "      <th>streamingmovies</th>\n",
       "      <th>contract</th>\n",
       "      <th>paperlessbilling</th>\n",
       "      <th>paymentmethod</th>\n",
       "      <th>seniorcitizen</th>\n",
       "      <th>tenure</th>\n",
       "      <th>monthlycharges</th>\n",
       "      <th>totalcharges</th>\n",
       "    </tr>\n",
       "  </thead>\n",
       "  <tbody>\n",
       "    <tr>\n",
       "      <th>0</th>\n",
       "      <td>0</td>\n",
       "      <td>1</td>\n",
       "      <td>1</td>\n",
       "      <td>1</td>\n",
       "      <td>0</td>\n",
       "      <td>0</td>\n",
       "      <td>2</td>\n",
       "      <td>2</td>\n",
       "      <td>0</td>\n",
       "      <td>2</td>\n",
       "      <td>0</td>\n",
       "      <td>0</td>\n",
       "      <td>0</td>\n",
       "      <td>0</td>\n",
       "      <td>0</td>\n",
       "      <td>-0.427069</td>\n",
       "      <td>-0.017944</td>\n",
       "      <td>-0.107867</td>\n",
       "      <td>-0.183246</td>\n",
       "    </tr>\n",
       "    <tr>\n",
       "      <th>1</th>\n",
       "      <td>0</td>\n",
       "      <td>1</td>\n",
       "      <td>0</td>\n",
       "      <td>1</td>\n",
       "      <td>2</td>\n",
       "      <td>1</td>\n",
       "      <td>2</td>\n",
       "      <td>0</td>\n",
       "      <td>0</td>\n",
       "      <td>2</td>\n",
       "      <td>2</td>\n",
       "      <td>0</td>\n",
       "      <td>0</td>\n",
       "      <td>1</td>\n",
       "      <td>1</td>\n",
       "      <td>-0.427069</td>\n",
       "      <td>-0.875263</td>\n",
       "      <td>1.056297</td>\n",
       "      <td>-0.468087</td>\n",
       "    </tr>\n",
       "    <tr>\n",
       "      <th>2</th>\n",
       "      <td>0</td>\n",
       "      <td>1</td>\n",
       "      <td>1</td>\n",
       "      <td>1</td>\n",
       "      <td>0</td>\n",
       "      <td>2</td>\n",
       "      <td>1</td>\n",
       "      <td>1</td>\n",
       "      <td>1</td>\n",
       "      <td>1</td>\n",
       "      <td>1</td>\n",
       "      <td>1</td>\n",
       "      <td>2</td>\n",
       "      <td>0</td>\n",
       "      <td>1</td>\n",
       "      <td>-0.427069</td>\n",
       "      <td>1.165973</td>\n",
       "      <td>-1.501185</td>\n",
       "      <td>-0.428393</td>\n",
       "    </tr>\n",
       "    <tr>\n",
       "      <th>3</th>\n",
       "      <td>0</td>\n",
       "      <td>0</td>\n",
       "      <td>0</td>\n",
       "      <td>1</td>\n",
       "      <td>0</td>\n",
       "      <td>1</td>\n",
       "      <td>0</td>\n",
       "      <td>0</td>\n",
       "      <td>0</td>\n",
       "      <td>0</td>\n",
       "      <td>0</td>\n",
       "      <td>0</td>\n",
       "      <td>0</td>\n",
       "      <td>1</td>\n",
       "      <td>0</td>\n",
       "      <td>-0.427069</td>\n",
       "      <td>-1.038562</td>\n",
       "      <td>0.174811</td>\n",
       "      <td>-0.781296</td>\n",
       "    </tr>\n",
       "    <tr>\n",
       "      <th>4</th>\n",
       "      <td>0</td>\n",
       "      <td>0</td>\n",
       "      <td>1</td>\n",
       "      <td>1</td>\n",
       "      <td>0</td>\n",
       "      <td>2</td>\n",
       "      <td>1</td>\n",
       "      <td>1</td>\n",
       "      <td>1</td>\n",
       "      <td>1</td>\n",
       "      <td>1</td>\n",
       "      <td>1</td>\n",
       "      <td>1</td>\n",
       "      <td>0</td>\n",
       "      <td>1</td>\n",
       "      <td>-0.427069</td>\n",
       "      <td>0.676076</td>\n",
       "      <td>-1.511220</td>\n",
       "      <td>-0.601398</td>\n",
       "    </tr>\n",
       "  </tbody>\n",
       "</table>\n",
       "</div>"
      ],
      "text/plain": [
       "   gender  partner  dependents  phoneservice  multiplelines  internetservice  \\\n",
       "0       0        1           1             1              0                0   \n",
       "1       0        1           0             1              2                1   \n",
       "2       0        1           1             1              0                2   \n",
       "3       0        0           0             1              0                1   \n",
       "4       0        0           1             1              0                2   \n",
       "\n",
       "   onlinesecurity  onlinebackup  deviceprotection  techsupport  streamingtv  \\\n",
       "0               2             2                 0            2            0   \n",
       "1               2             0                 0            2            2   \n",
       "2               1             1                 1            1            1   \n",
       "3               0             0                 0            0            0   \n",
       "4               1             1                 1            1            1   \n",
       "\n",
       "   streamingmovies  contract  paperlessbilling  paymentmethod  seniorcitizen  \\\n",
       "0                0         0                 0              0      -0.427069   \n",
       "1                0         0                 1              1      -0.427069   \n",
       "2                1         2                 0              1      -0.427069   \n",
       "3                0         0                 1              0      -0.427069   \n",
       "4                1         1                 0              1      -0.427069   \n",
       "\n",
       "     tenure  monthlycharges  totalcharges  \n",
       "0 -0.017944       -0.107867     -0.183246  \n",
       "1 -0.875263        1.056297     -0.468087  \n",
       "2  1.165973       -1.501185     -0.428393  \n",
       "3 -1.038562        0.174811     -0.781296  \n",
       "4  0.676076       -1.511220     -0.601398  "
      ]
     },
     "execution_count": 211,
     "metadata": {},
     "output_type": "execute_result"
    }
   ],
   "source": [
    "X_train_sc_df = pd.read_csv('../Warren/X_train_sc.csv')\n",
    "X_train_sc_df.head()"
   ]
  },
  {
   "cell_type": "code",
   "execution_count": null,
   "id": "e24cef9d-1ddc-4f03-8003-593697b82e57",
   "metadata": {},
   "outputs": [],
   "source": [
    "X_train_sc_df.corr()"
   ]
  },
  {
   "cell_type": "code",
   "execution_count": 5,
   "id": "d4147eaf-300f-4370-bb4d-58363ca7a237",
   "metadata": {},
   "outputs": [
    {
     "data": {
      "text/html": [
       "<div>\n",
       "<style scoped>\n",
       "    .dataframe tbody tr th:only-of-type {\n",
       "        vertical-align: middle;\n",
       "    }\n",
       "\n",
       "    .dataframe tbody tr th {\n",
       "        vertical-align: top;\n",
       "    }\n",
       "\n",
       "    .dataframe thead th {\n",
       "        text-align: right;\n",
       "    }\n",
       "</style>\n",
       "<table border=\"1\" class=\"dataframe\">\n",
       "  <thead>\n",
       "    <tr style=\"text-align: right;\">\n",
       "      <th></th>\n",
       "      <th>gender</th>\n",
       "      <th>partner</th>\n",
       "      <th>dependents</th>\n",
       "      <th>phoneservice</th>\n",
       "      <th>multiplelines</th>\n",
       "      <th>internetservice</th>\n",
       "      <th>onlinesecurity</th>\n",
       "      <th>onlinebackup</th>\n",
       "      <th>deviceprotection</th>\n",
       "      <th>techsupport</th>\n",
       "      <th>streamingtv</th>\n",
       "      <th>streamingmovies</th>\n",
       "      <th>contract</th>\n",
       "      <th>paperlessbilling</th>\n",
       "      <th>paymentmethod</th>\n",
       "      <th>seniorcitizen</th>\n",
       "      <th>tenure</th>\n",
       "      <th>monthlycharges</th>\n",
       "      <th>totalcharges</th>\n",
       "    </tr>\n",
       "  </thead>\n",
       "  <tbody>\n",
       "    <tr>\n",
       "      <th>0</th>\n",
       "      <td>0</td>\n",
       "      <td>1</td>\n",
       "      <td>1</td>\n",
       "      <td>1</td>\n",
       "      <td>0</td>\n",
       "      <td>2</td>\n",
       "      <td>1</td>\n",
       "      <td>1</td>\n",
       "      <td>1</td>\n",
       "      <td>1</td>\n",
       "      <td>1</td>\n",
       "      <td>1</td>\n",
       "      <td>2</td>\n",
       "      <td>0</td>\n",
       "      <td>3</td>\n",
       "      <td>-0.427069</td>\n",
       "      <td>0.022881</td>\n",
       "      <td>-1.489476</td>\n",
       "      <td>-0.712634</td>\n",
       "    </tr>\n",
       "    <tr>\n",
       "      <th>1</th>\n",
       "      <td>1</td>\n",
       "      <td>1</td>\n",
       "      <td>1</td>\n",
       "      <td>1</td>\n",
       "      <td>2</td>\n",
       "      <td>0</td>\n",
       "      <td>2</td>\n",
       "      <td>0</td>\n",
       "      <td>0</td>\n",
       "      <td>2</td>\n",
       "      <td>2</td>\n",
       "      <td>2</td>\n",
       "      <td>0</td>\n",
       "      <td>0</td>\n",
       "      <td>0</td>\n",
       "      <td>-0.427069</td>\n",
       "      <td>-0.344542</td>\n",
       "      <td>0.547812</td>\n",
       "      <td>-0.157005</td>\n",
       "    </tr>\n",
       "    <tr>\n",
       "      <th>2</th>\n",
       "      <td>0</td>\n",
       "      <td>0</td>\n",
       "      <td>0</td>\n",
       "      <td>1</td>\n",
       "      <td>0</td>\n",
       "      <td>0</td>\n",
       "      <td>2</td>\n",
       "      <td>0</td>\n",
       "      <td>0</td>\n",
       "      <td>2</td>\n",
       "      <td>2</td>\n",
       "      <td>0</td>\n",
       "      <td>0</td>\n",
       "      <td>1</td>\n",
       "      <td>2</td>\n",
       "      <td>-0.427069</td>\n",
       "      <td>-1.120212</td>\n",
       "      <td>-0.009181</td>\n",
       "      <td>-0.853459</td>\n",
       "    </tr>\n",
       "    <tr>\n",
       "      <th>3</th>\n",
       "      <td>1</td>\n",
       "      <td>0</td>\n",
       "      <td>0</td>\n",
       "      <td>1</td>\n",
       "      <td>0</td>\n",
       "      <td>1</td>\n",
       "      <td>0</td>\n",
       "      <td>0</td>\n",
       "      <td>0</td>\n",
       "      <td>2</td>\n",
       "      <td>0</td>\n",
       "      <td>0</td>\n",
       "      <td>0</td>\n",
       "      <td>0</td>\n",
       "      <td>2</td>\n",
       "      <td>-0.427069</td>\n",
       "      <td>-1.283510</td>\n",
       "      <td>0.313641</td>\n",
       "      <td>-0.976974</td>\n",
       "    </tr>\n",
       "    <tr>\n",
       "      <th>4</th>\n",
       "      <td>0</td>\n",
       "      <td>0</td>\n",
       "      <td>0</td>\n",
       "      <td>0</td>\n",
       "      <td>1</td>\n",
       "      <td>0</td>\n",
       "      <td>2</td>\n",
       "      <td>2</td>\n",
       "      <td>2</td>\n",
       "      <td>2</td>\n",
       "      <td>2</td>\n",
       "      <td>2</td>\n",
       "      <td>2</td>\n",
       "      <td>1</td>\n",
       "      <td>0</td>\n",
       "      <td>-0.427069</td>\n",
       "      <td>1.370097</td>\n",
       "      <td>-0.071069</td>\n",
       "      <td>0.823734</td>\n",
       "    </tr>\n",
       "  </tbody>\n",
       "</table>\n",
       "</div>"
      ],
      "text/plain": [
       "   gender  partner  dependents  phoneservice  multiplelines  internetservice  \\\n",
       "0       0        1           1             1              0                2   \n",
       "1       1        1           1             1              2                0   \n",
       "2       0        0           0             1              0                0   \n",
       "3       1        0           0             1              0                1   \n",
       "4       0        0           0             0              1                0   \n",
       "\n",
       "   onlinesecurity  onlinebackup  deviceprotection  techsupport  streamingtv  \\\n",
       "0               1             1                 1            1            1   \n",
       "1               2             0                 0            2            2   \n",
       "2               2             0                 0            2            2   \n",
       "3               0             0                 0            2            0   \n",
       "4               2             2                 2            2            2   \n",
       "\n",
       "   streamingmovies  contract  paperlessbilling  paymentmethod  seniorcitizen  \\\n",
       "0                1         2                 0              3      -0.427069   \n",
       "1                2         0                 0              0      -0.427069   \n",
       "2                0         0                 1              2      -0.427069   \n",
       "3                0         0                 0              2      -0.427069   \n",
       "4                2         2                 1              0      -0.427069   \n",
       "\n",
       "     tenure  monthlycharges  totalcharges  \n",
       "0  0.022881       -1.489476     -0.712634  \n",
       "1 -0.344542        0.547812     -0.157005  \n",
       "2 -1.120212       -0.009181     -0.853459  \n",
       "3 -1.283510        0.313641     -0.976974  \n",
       "4  1.370097       -0.071069      0.823734  "
      ]
     },
     "execution_count": 5,
     "metadata": {},
     "output_type": "execute_result"
    }
   ],
   "source": [
    "X_val_sc_df = pd.read_csv('../Warren/X_val_sc.csv')\n",
    "X_val_sc_df.head()"
   ]
  },
  {
   "cell_type": "code",
   "execution_count": 6,
   "id": "7d66d3ba-ceda-41e2-a916-6299f04f37f8",
   "metadata": {},
   "outputs": [
    {
     "data": {
      "text/html": [
       "<div>\n",
       "<style scoped>\n",
       "    .dataframe tbody tr th:only-of-type {\n",
       "        vertical-align: middle;\n",
       "    }\n",
       "\n",
       "    .dataframe tbody tr th {\n",
       "        vertical-align: top;\n",
       "    }\n",
       "\n",
       "    .dataframe thead th {\n",
       "        text-align: right;\n",
       "    }\n",
       "</style>\n",
       "<table border=\"1\" class=\"dataframe\">\n",
       "  <thead>\n",
       "    <tr style=\"text-align: right;\">\n",
       "      <th></th>\n",
       "      <th>churn</th>\n",
       "    </tr>\n",
       "  </thead>\n",
       "  <tbody>\n",
       "    <tr>\n",
       "      <th>0</th>\n",
       "      <td>0</td>\n",
       "    </tr>\n",
       "    <tr>\n",
       "      <th>1</th>\n",
       "      <td>1</td>\n",
       "    </tr>\n",
       "    <tr>\n",
       "      <th>2</th>\n",
       "      <td>0</td>\n",
       "    </tr>\n",
       "    <tr>\n",
       "      <th>3</th>\n",
       "      <td>0</td>\n",
       "    </tr>\n",
       "    <tr>\n",
       "      <th>4</th>\n",
       "      <td>0</td>\n",
       "    </tr>\n",
       "  </tbody>\n",
       "</table>\n",
       "</div>"
      ],
      "text/plain": [
       "   churn\n",
       "0      0\n",
       "1      1\n",
       "2      0\n",
       "3      0\n",
       "4      0"
      ]
     },
     "execution_count": 6,
     "metadata": {},
     "output_type": "execute_result"
    }
   ],
   "source": [
    "y_train_enc_df = pd.read_csv('../Warren/y_train_enc.csv')\n",
    "y_train_enc_df.head()"
   ]
  },
  {
   "cell_type": "code",
   "execution_count": 7,
   "id": "deff15b5-9823-4b12-8cca-40c085771739",
   "metadata": {},
   "outputs": [
    {
     "data": {
      "text/html": [
       "<div>\n",
       "<style scoped>\n",
       "    .dataframe tbody tr th:only-of-type {\n",
       "        vertical-align: middle;\n",
       "    }\n",
       "\n",
       "    .dataframe tbody tr th {\n",
       "        vertical-align: top;\n",
       "    }\n",
       "\n",
       "    .dataframe thead th {\n",
       "        text-align: right;\n",
       "    }\n",
       "</style>\n",
       "<table border=\"1\" class=\"dataframe\">\n",
       "  <thead>\n",
       "    <tr style=\"text-align: right;\">\n",
       "      <th></th>\n",
       "      <th>churn</th>\n",
       "    </tr>\n",
       "  </thead>\n",
       "  <tbody>\n",
       "    <tr>\n",
       "      <th>0</th>\n",
       "      <td>0</td>\n",
       "    </tr>\n",
       "    <tr>\n",
       "      <th>1</th>\n",
       "      <td>0</td>\n",
       "    </tr>\n",
       "    <tr>\n",
       "      <th>2</th>\n",
       "      <td>0</td>\n",
       "    </tr>\n",
       "    <tr>\n",
       "      <th>3</th>\n",
       "      <td>0</td>\n",
       "    </tr>\n",
       "    <tr>\n",
       "      <th>4</th>\n",
       "      <td>0</td>\n",
       "    </tr>\n",
       "  </tbody>\n",
       "</table>\n",
       "</div>"
      ],
      "text/plain": [
       "   churn\n",
       "0      0\n",
       "1      0\n",
       "2      0\n",
       "3      0\n",
       "4      0"
      ]
     },
     "execution_count": 7,
     "metadata": {},
     "output_type": "execute_result"
    }
   ],
   "source": [
    "y_val_enc_df = pd.read_csv('../Warren/y_val_enc.csv')\n",
    "y_val_enc_df.head()"
   ]
  },
  {
   "cell_type": "code",
   "execution_count": 69,
   "id": "29a4377b-7479-4ea9-9252-00896b77ae61",
   "metadata": {},
   "outputs": [
    {
     "name": "stdout",
     "output_type": "stream",
     "text": [
      "Training Precision:  0.6625560538116592\n",
      "Validation Precision:  0.6355140186915887\n",
      "Training F1:  0.606776180698152\n",
      "Validation F1:  0.6080476900149031\n"
     ]
    },
    {
     "name": "stderr",
     "output_type": "stream",
     "text": [
      "C:\\Users\\gnr40\\anaconda3\\envs\\learn-env\\lib\\site-packages\\sklearn\\utils\\validation.py:72: DataConversionWarning: A column-vector y was passed when a 1d array was expected. Please change the shape of y to (n_samples, ), for example using ravel().\n",
      "  return f(**kwargs)\n"
     ]
    }
   ],
   "source": [
    "logreg = LogisticRegression(penalty= 'l1', C=0.2, solver='liblinear', random_state=10)\n",
    "logreg.fit(X_train_sc_df, y_train_enc_df)\n",
    "train_preds = logreg.predict(X_train_sc_df)\n",
    "val_preds = logreg.predict(X_val_sc_df)\n",
    "print('Training Precision: ', precision_score(y_train_enc_df, train_preds))\n",
    "print('Validation Precision: ', precision_score(y_val_enc_df, val_preds))\n",
    "print('Training F1: ', f1_score(y_train_enc_df, train_preds))\n",
    "print('Validation F1: ', f1_score(y_val_enc_df, val_preds))"
   ]
  },
  {
   "cell_type": "code",
   "execution_count": 139,
   "id": "87b18ecb-d513-451a-97b4-fd076d0007cd",
   "metadata": {},
   "outputs": [],
   "source": [
    "def modeling_function(model, X_train, y_train, X_val, y_val):\n",
    "\n",
    "    # fit model on training data\n",
    "    model.fit(X_train, y_train)\n",
    "\n",
    "    # make predictions on training and validation data\n",
    "    train_preds = model.predict(X_train)\n",
    "    val_preds = model.predict(X_val)\n",
    "\n",
    "    # Print accuracy score\n",
    "    print('Training Precision: ', precision_score(y_train, train_preds))\n",
    "    print('Validation Precision: ', precision_score(y_val, val_preds))\n",
    "    print('Training F1: ', f1_score(y_train, train_preds))\n",
    "    print('Validation F1: ', f1_score(y_val, val_preds))\n",
    "    print('Training Accuracy: ', accuracy_score(y_train, train_preds))\n",
    "    print('Validation Accuracy: ', accuracy_score(y_val, val_preds))\n",
    "    # return fitted model\n",
    "    return model"
   ]
  },
  {
   "cell_type": "code",
   "execution_count": 34,
   "id": "371d4ca4-c207-42ef-bbc6-2496780938ed",
   "metadata": {},
   "outputs": [
    {
     "name": "stdout",
     "output_type": "stream",
     "text": [
      "Training Precision:  0.6625560538116592\n",
      "Validation Precision:  0.6355140186915887\n",
      "Training F1:  0.606776180698152\n",
      "Validation F1:  0.6080476900149031\n"
     ]
    },
    {
     "name": "stderr",
     "output_type": "stream",
     "text": [
      "C:\\Users\\gnr40\\anaconda3\\envs\\learn-env\\lib\\site-packages\\sklearn\\utils\\validation.py:72: DataConversionWarning: A column-vector y was passed when a 1d array was expected. Please change the shape of y to (n_samples, ), for example using ravel().\n",
      "  return f(**kwargs)\n"
     ]
    },
    {
     "data": {
      "text/plain": [
       "LogisticRegression(C=0.2, penalty='l1', random_state=10, solver='liblinear')"
      ]
     },
     "execution_count": 34,
     "metadata": {},
     "output_type": "execute_result"
    }
   ],
   "source": [
    "modeling_function(logreg, X_train_sc_df, y_train_enc_df, X_val_sc_df, y_val_enc_df)"
   ]
  },
  {
   "cell_type": "code",
   "execution_count": 35,
   "id": "0ff46055-ec85-4adb-95b5-a8afc5333a16",
   "metadata": {},
   "outputs": [],
   "source": [
    "sm = SMOTE(random_state=10)"
   ]
  },
  {
   "cell_type": "code",
   "execution_count": 36,
   "id": "5bb3a4b7-2469-40d1-8c93-81d52347f02b",
   "metadata": {},
   "outputs": [],
   "source": [
    "X_train_res, y_train_res = sm.fit_resample(X_train_sc_df, y_train_enc_df)"
   ]
  },
  {
   "cell_type": "code",
   "execution_count": 37,
   "id": "1655ddf2-52b1-471d-84d2-ee2235377b57",
   "metadata": {},
   "outputs": [
    {
     "data": {
      "text/plain": [
       "churn\n",
       "1        2905\n",
       "0        2905\n",
       "dtype: int64"
      ]
     },
     "execution_count": 37,
     "metadata": {},
     "output_type": "execute_result"
    }
   ],
   "source": [
    "y_train_res.value_counts()"
   ]
  },
  {
   "cell_type": "code",
   "execution_count": 38,
   "id": "4ec227b7-d375-47a0-a90e-4c04e6bc6765",
   "metadata": {},
   "outputs": [
    {
     "name": "stdout",
     "output_type": "stream",
     "text": [
      "Training Precision:  0.7709779179810725\n",
      "Validation Precision:  0.5027726432532348\n",
      "Training F1:  0.8046090534979423\n",
      "Validation F1:  0.6105499438832772\n"
     ]
    },
    {
     "name": "stderr",
     "output_type": "stream",
     "text": [
      "C:\\Users\\gnr40\\anaconda3\\envs\\learn-env\\lib\\site-packages\\sklearn\\utils\\validation.py:72: DataConversionWarning: A column-vector y was passed when a 1d array was expected. Please change the shape of y to (n_samples, ), for example using ravel().\n",
      "  return f(**kwargs)\n"
     ]
    },
    {
     "data": {
      "text/plain": [
       "LogisticRegression(C=0.2, penalty='l1', random_state=10, solver='liblinear')"
      ]
     },
     "execution_count": 38,
     "metadata": {},
     "output_type": "execute_result"
    }
   ],
   "source": [
    "modeling_function(logreg, X_train_res, y_train_res, X_val_sc_df, y_val_enc_df)"
   ]
  },
  {
   "cell_type": "code",
   "execution_count": 57,
   "id": "984371d7-ea91-4bd3-9bc5-2c61c9cd43ba",
   "metadata": {},
   "outputs": [],
   "source": [
    "#ridge_model = Ridge(random_state=10)\n",
    "#ridge_model.fit(X_train_sc_df, y_train_enc_df)\n",
    "#train_preds_ridge = ridge_model.predict(X_train_sc_df)\n",
    "#val_preds_ridge = ridge_model.predict(X_val_sc_df)\n",
    "#print('Training Precision: ', precision_score(y_train_enc_df, train_preds_ridge_sm))\n",
    "#print('Validation Precision: ', precision_score(y_val_enc_df, val_preds_ridge_sm))\n",
    "#print('Training F1: ', f1_score(y_train_enc_df, train_preds_ridge))\n",
    "#print('Validation F1: ', f1_score(y_val_enc_df, val_preds_ridge))"
   ]
  },
  {
   "cell_type": "code",
   "execution_count": 56,
   "id": "c13e837e-8778-4ffd-abb5-956c2fea944f",
   "metadata": {},
   "outputs": [],
   "source": [
    "#train_preds_ridge_sm = ridge_model.predict(X_train_res)\n",
    "#val_preds_ridge_sm = ridge_model.predict(X_val_sc_df)\n",
    "#print('Training Precision: ', precision_score(y_train_res, train_preds_ridge_sm))\n",
    "#print('Validation Precision: ', precision_score(y_val_enc_df, val_preds_ridge_sm))\n",
    "#print('Training F1: ', f1_score(y_train_res, train_preds_ridge_sm))\n",
    "#print('Validation F1: ', f1_score(y_val_enc_df, val_preds_ridge_sm))"
   ]
  },
  {
   "cell_type": "code",
   "execution_count": 58,
   "id": "bcdf6b57-a374-4bf6-864f-f07c9ac4c34e",
   "metadata": {},
   "outputs": [],
   "source": [
    "#modeling_function(ridge_model, X_train_res, y_train_res, X_val_sc_df, y_val_enc_df)"
   ]
  },
  {
   "cell_type": "code",
   "execution_count": 55,
   "id": "dbb11dc0-7b6c-4bc3-b945-5abfe4aefd19",
   "metadata": {},
   "outputs": [],
   "source": [
    "knn = KNeighborsClassifier()"
   ]
  },
  {
   "cell_type": "code",
   "execution_count": 59,
   "id": "6bdb146d-d024-4e15-b838-8e8f024dc5d2",
   "metadata": {},
   "outputs": [
    {
     "name": "stderr",
     "output_type": "stream",
     "text": [
      "<ipython-input-33-eb31644b8094>:4: DataConversionWarning: A column-vector y was passed when a 1d array was expected. Please change the shape of y to (n_samples, ), for example using ravel().\n",
      "  model.fit(X_train, y_train)\n"
     ]
    },
    {
     "name": "stdout",
     "output_type": "stream",
     "text": [
      "Training Precision:  0.8140082401412596\n",
      "Validation Precision:  0.4551971326164875\n",
      "Training F1:  0.877677296525464\n",
      "Validation F1:  0.5594713656387665\n"
     ]
    },
    {
     "data": {
      "text/plain": [
       "KNeighborsClassifier()"
      ]
     },
     "execution_count": 59,
     "metadata": {},
     "output_type": "execute_result"
    }
   ],
   "source": [
    "modeling_function(knn, X_train_res, y_train_res, X_val_sc_df, y_val_enc_df)"
   ]
  },
  {
   "cell_type": "code",
   "execution_count": 60,
   "id": "b8ecf127-3f3b-4ed3-9a08-9eb0989da4fe",
   "metadata": {},
   "outputs": [
    {
     "name": "stderr",
     "output_type": "stream",
     "text": [
      "<ipython-input-33-eb31644b8094>:4: DataConversionWarning: A column-vector y was passed when a 1d array was expected. Please change the shape of y to (n_samples, ), for example using ravel().\n",
      "  model.fit(X_train, y_train)\n"
     ]
    },
    {
     "name": "stdout",
     "output_type": "stream",
     "text": [
      "Training Precision:  0.6995753715498938\n",
      "Validation Precision:  0.5714285714285714\n",
      "Training F1:  0.6596596596596596\n",
      "Validation F1:  0.5476190476190477\n"
     ]
    },
    {
     "data": {
      "text/plain": [
       "KNeighborsClassifier()"
      ]
     },
     "execution_count": 60,
     "metadata": {},
     "output_type": "execute_result"
    }
   ],
   "source": [
    "modeling_function(knn, X_train_sc_df, y_train_enc_df, X_val_sc_df, y_val_enc_df)"
   ]
  },
  {
   "cell_type": "code",
   "execution_count": 61,
   "id": "d3175298-58cd-4240-8158-e56b8e05fc92",
   "metadata": {},
   "outputs": [],
   "source": [
    "tree = DecisionTreeClassifier(random_state=10)"
   ]
  },
  {
   "cell_type": "code",
   "execution_count": 62,
   "id": "e8eaeacc-4df1-4381-a914-4bd5cc6a5696",
   "metadata": {},
   "outputs": [
    {
     "name": "stdout",
     "output_type": "stream",
     "text": [
      "Training Precision:  0.9996549344375432\n",
      "Validation Precision:  0.46064814814814814\n",
      "Training F1:  0.9984490780630708\n",
      "Validation F1:  0.5089514066496164\n"
     ]
    },
    {
     "data": {
      "text/plain": [
       "DecisionTreeClassifier(random_state=10)"
      ]
     },
     "execution_count": 62,
     "metadata": {},
     "output_type": "execute_result"
    }
   ],
   "source": [
    "modeling_function(tree, X_train_res, y_train_res, X_val_sc_df, y_val_enc_df)"
   ]
  },
  {
   "cell_type": "code",
   "execution_count": 63,
   "id": "a80702f2-f678-484c-bd8a-94413cc704af",
   "metadata": {},
   "outputs": [
    {
     "name": "stdout",
     "output_type": "stream",
     "text": [
      "Training Precision:  1.0\n",
      "Validation Precision:  0.49441340782122906\n",
      "Training F1:  0.9957203994293866\n",
      "Validation F1:  0.5\n"
     ]
    },
    {
     "data": {
      "text/plain": [
       "DecisionTreeClassifier(random_state=10)"
      ]
     },
     "execution_count": 63,
     "metadata": {},
     "output_type": "execute_result"
    }
   ],
   "source": [
    "modeling_function(tree, X_train_sc_df, y_train_enc_df, X_val_sc_df, y_val_enc_df)"
   ]
  },
  {
   "cell_type": "code",
   "execution_count": 64,
   "id": "e66fa622-f347-435e-a0f6-b48d7c076b54",
   "metadata": {},
   "outputs": [],
   "source": [
    "forest = RandomForestClassifier(random_state=10)"
   ]
  },
  {
   "cell_type": "code",
   "execution_count": 65,
   "id": "67f84ea1-d785-4c96-8618-1e887521bcdd",
   "metadata": {},
   "outputs": [
    {
     "name": "stderr",
     "output_type": "stream",
     "text": [
      "<ipython-input-33-eb31644b8094>:4: DataConversionWarning: A column-vector y was passed when a 1d array was expected. Please change the shape of y to (n_samples,), for example using ravel().\n",
      "  model.fit(X_train, y_train)\n"
     ]
    },
    {
     "name": "stdout",
     "output_type": "stream",
     "text": [
      "Training Precision:  0.9975945017182131\n",
      "Validation Precision:  0.5754475703324808\n",
      "Training F1:  0.9984522785898539\n",
      "Validation F1:  0.6072874493927126\n"
     ]
    },
    {
     "data": {
      "text/plain": [
       "RandomForestClassifier(random_state=10)"
      ]
     },
     "execution_count": 65,
     "metadata": {},
     "output_type": "execute_result"
    }
   ],
   "source": [
    "modeling_function(forest, X_train_res, y_train_res, X_val_sc_df, y_val_enc_df)"
   ]
  },
  {
   "cell_type": "code",
   "execution_count": 66,
   "id": "bb78284f-5fef-4214-baa4-6595e88a58e4",
   "metadata": {},
   "outputs": [
    {
     "name": "stderr",
     "output_type": "stream",
     "text": [
      "<ipython-input-33-eb31644b8094>:4: DataConversionWarning: A column-vector y was passed when a 1d array was expected. Please change the shape of y to (n_samples,), for example using ravel().\n",
      "  model.fit(X_train, y_train)\n"
     ]
    },
    {
     "name": "stdout",
     "output_type": "stream",
     "text": [
      "Training Precision:  0.9943342776203966\n",
      "Validation Precision:  0.6630824372759857\n",
      "Training F1:  0.9957446808510638\n",
      "Validation F1:  0.5882352941176471\n"
     ]
    },
    {
     "data": {
      "text/plain": [
       "RandomForestClassifier(random_state=10)"
      ]
     },
     "execution_count": 66,
     "metadata": {},
     "output_type": "execute_result"
    }
   ],
   "source": [
    "modeling_function(forest, X_train_sc_df, y_train_enc_df, X_val_sc_df, y_val_enc_df)"
   ]
  },
  {
   "cell_type": "code",
   "execution_count": 70,
   "id": "8ca6ea32-0665-4c7f-9543-41e722340b2f",
   "metadata": {},
   "outputs": [],
   "source": [
    "param_grid_knn = {'n_neighbors': [3, 5, 10, 15, 20, 25, 30, 35, 40, 45, 50],\n",
    "                  'leaf_size': [3, 5, 10, 15, 20, 25, 30, 35, 40, 45, 50],\n",
    "                  'metric': ['minkowski', 'euclidean', 'manhattan']}"
   ]
  },
  {
   "cell_type": "code",
   "execution_count": 71,
   "id": "92f050cb-7b32-4461-9bc0-2aaca869c370",
   "metadata": {},
   "outputs": [],
   "source": [
    "gs_knn = GridSearchCV(knn, param_grid_knn, scoring='precision')"
   ]
  },
  {
   "cell_type": "code",
   "execution_count": 78,
   "id": "14058be9-f4da-4673-b03d-0e5405f905c7",
   "metadata": {},
   "outputs": [
    {
     "data": {
      "text/plain": [
       "GridSearchCV(estimator=KNeighborsClassifier(),\n",
       "             param_grid={'leaf_size': [3, 5, 10, 15, 20, 25, 30, 35, 40, 45,\n",
       "                                       50],\n",
       "                         'metric': ['minkowski', 'euclidean', 'manhattan'],\n",
       "                         'n_neighbors': [3, 5, 10, 15, 20, 25, 30, 35, 40, 45,\n",
       "                                         50]},\n",
       "             scoring='precision')"
      ]
     },
     "execution_count": 78,
     "metadata": {},
     "output_type": "execute_result"
    }
   ],
   "source": [
    "gs_knn.fit(X_train_res, y_train_res)"
   ]
  },
  {
   "cell_type": "code",
   "execution_count": 79,
   "id": "c2392277-41d3-444c-a1d8-126c7b2091b4",
   "metadata": {},
   "outputs": [
    {
     "data": {
      "text/plain": [
       "{'leaf_size': 10, 'metric': 'manhattan', 'n_neighbors': 3}"
      ]
     },
     "execution_count": 79,
     "metadata": {},
     "output_type": "execute_result"
    }
   ],
   "source": [
    "gs_knn.best_params_"
   ]
  },
  {
   "cell_type": "code",
   "execution_count": 81,
   "id": "f74a702e-2541-460c-8244-c998420cb800",
   "metadata": {},
   "outputs": [],
   "source": [
    "best_knn_sm = gs_knn.best_estimator_"
   ]
  },
  {
   "cell_type": "code",
   "execution_count": 82,
   "id": "3206a05a-d7f6-44ab-b396-298ee970de51",
   "metadata": {},
   "outputs": [
    {
     "name": "stdout",
     "output_type": "stream",
     "text": [
      "Training Precision:  0.8607867240319607\n",
      "Validation Precision:  0.4749034749034749\n",
      "Training F1:  0.9095632407858418\n",
      "Validation F1:  0.5668202764976958\n"
     ]
    },
    {
     "data": {
      "text/plain": [
       "KNeighborsClassifier(leaf_size=10, metric='manhattan', n_neighbors=3)"
      ]
     },
     "execution_count": 82,
     "metadata": {},
     "output_type": "execute_result"
    }
   ],
   "source": [
    "modeling_function(best_knn_sm, X_train_res, y_train_res, X_val_sc_df, y_val_enc_df)"
   ]
  },
  {
   "cell_type": "code",
   "execution_count": 84,
   "id": "3b33b31b-503d-4923-baa6-bbbc0f78e98b",
   "metadata": {},
   "outputs": [],
   "source": [
    "gs_knn_no_sm = gs_knn.fit(X_train_sc_df, y_train_enc_df)"
   ]
  },
  {
   "cell_type": "code",
   "execution_count": 75,
   "id": "a36cb808-a885-491e-b22a-a9652c7f95d6",
   "metadata": {},
   "outputs": [
    {
     "data": {
      "text/plain": [
       "{'leaf_size': 3, 'metric': 'manhattan', 'n_neighbors': 20}"
      ]
     },
     "execution_count": 75,
     "metadata": {},
     "output_type": "execute_result"
    }
   ],
   "source": [
    "gs_knn_no_sm.best_params_"
   ]
  },
  {
   "cell_type": "code",
   "execution_count": 76,
   "id": "22d0343f-3e25-436c-a6a6-dad909288844",
   "metadata": {},
   "outputs": [],
   "source": [
    "best_knn = gs_knn.best_estimator_"
   ]
  },
  {
   "cell_type": "code",
   "execution_count": 77,
   "id": "4484254a-f869-4b91-82b4-6d29b1ab5da3",
   "metadata": {},
   "outputs": [
    {
     "name": "stdout",
     "output_type": "stream",
     "text": [
      "Training Precision:  0.6662983425414365\n",
      "Validation Precision:  0.6209150326797386\n",
      "Training F1:  0.6149923508414075\n",
      "Validation F1:  0.5792682926829268\n"
     ]
    },
    {
     "data": {
      "text/plain": [
       "KNeighborsClassifier(leaf_size=3, metric='manhattan', n_neighbors=20)"
      ]
     },
     "execution_count": 77,
     "metadata": {},
     "output_type": "execute_result"
    }
   ],
   "source": [
    "modeling_function(best_knn, X_train_sc_df, y_train_enc_df, X_val_sc_df, y_val_enc_df)"
   ]
  },
  {
   "cell_type": "code",
   "execution_count": 85,
   "id": "7250bd3a-593c-4041-b8dd-1e80cfbbeb6b",
   "metadata": {},
   "outputs": [],
   "source": [
    "param_grid_forest = {'n_estimators': [3, 5, 10, 15, 20, 25, 30, 35, 40, 45, 50],\n",
    "                     'criterion': ['gini', 'entropy'],\n",
    "                     'max_depth': [3, 5, 8, 10, 15, 20],\n",
    "                     'min_samples_split': [2, 4, 6, 8, 10],\n",
    "                     'min_samples_leaf': [2, 4, 6, 8, 10]}"
   ]
  },
  {
   "cell_type": "code",
   "execution_count": 86,
   "id": "fe7d0b75-bfa9-4851-8b0c-55f61307a4b9",
   "metadata": {},
   "outputs": [],
   "source": [
    "gs_forest = GridSearchCV(forest, param_grid_forest, scoring='precision')"
   ]
  },
  {
   "cell_type": "code",
   "execution_count": 87,
   "id": "06efdd74-6c8d-40ac-befe-4a38b0276bfc",
   "metadata": {},
   "outputs": [],
   "source": [
    "gs_forest.fit(X_train_res, y_train_res)"
   ]
  },
  {
   "cell_type": "code",
   "execution_count": 88,
   "id": "eccbe8cb-2c9d-4673-9f62-0b6058f5994f",
   "metadata": {},
   "outputs": [
    {
     "data": {
      "text/plain": [
       "{'criterion': 'gini',\n",
       " 'max_depth': 15,\n",
       " 'min_samples_leaf': 2,\n",
       " 'min_samples_split': 2,\n",
       " 'n_estimators': 30}"
      ]
     },
     "execution_count": 88,
     "metadata": {},
     "output_type": "execute_result"
    }
   ],
   "source": [
    "gs_forest.best_params_"
   ]
  },
  {
   "cell_type": "code",
   "execution_count": 89,
   "id": "59d4e0d3-44ae-40f7-a460-a563062075bd",
   "metadata": {},
   "outputs": [],
   "source": [
    "best_random = gs_forest.best_estimator_"
   ]
  },
  {
   "cell_type": "code",
   "execution_count": 90,
   "id": "a269e6cc-68b5-4656-befd-d1daae4ad181",
   "metadata": {},
   "outputs": [
    {
     "name": "stdout",
     "output_type": "stream",
     "text": [
      "Training Precision:  0.9241086032057573\n",
      "Validation Precision:  0.5606407322654462\n",
      "Training F1:  0.9476685675947668\n",
      "Validation F1:  0.6226175349428209\n"
     ]
    },
    {
     "data": {
      "text/plain": [
       "RandomForestClassifier(max_depth=15, min_samples_leaf=2, n_estimators=30,\n",
       "                       random_state=10)"
      ]
     },
     "execution_count": 90,
     "metadata": {},
     "output_type": "execute_result"
    }
   ],
   "source": [
    "modeling_function(best_random, X_train_res, y_train_res, X_val_sc_df, y_val_enc_df)"
   ]
  },
  {
   "cell_type": "code",
   "execution_count": 91,
   "id": "8c477b9e-8670-4b25-917b-25266c11d62f",
   "metadata": {},
   "outputs": [
    {
     "name": "stdout",
     "output_type": "stream",
     "text": [
      "Requirement already satisfied: xgboost in c:\\users\\gnr40\\anaconda3\\envs\\learn-env\\lib\\site-packages (1.2.1)\n",
      "Requirement already satisfied: scipy in c:\\users\\gnr40\\anaconda3\\envs\\learn-env\\lib\\site-packages (from xgboost) (1.5.0)\n",
      "Requirement already satisfied: numpy in c:\\users\\gnr40\\anaconda3\\envs\\learn-env\\lib\\site-packages (from xgboost) (1.18.5)\n",
      "Note: you may need to restart the kernel to use updated packages.\n"
     ]
    }
   ],
   "source": [
    "pip install xgboost"
   ]
  },
  {
   "cell_type": "code",
   "execution_count": 92,
   "id": "834b38dd-e7a8-46df-92d7-d32f81b55a91",
   "metadata": {},
   "outputs": [],
   "source": [
    "import xgboost as xgb"
   ]
  },
  {
   "cell_type": "code",
   "execution_count": 207,
   "id": "05f41382-ab8d-4343-95ad-c480aaf6aba2",
   "metadata": {},
   "outputs": [],
   "source": [
    " boost_model = xgb.XGBClassifier(early_stopping_rounds=10, eta=.1, gamma=.1, alpha=1, max_leaves=10)"
   ]
  },
  {
   "cell_type": "code",
   "execution_count": 208,
   "id": "b8caca11-624c-4205-8e83-2880460d4791",
   "metadata": {},
   "outputs": [
    {
     "name": "stdout",
     "output_type": "stream",
     "text": [
      "[13:32:45] WARNING: C:\\Users\\Administrator\\workspace\\xgboost-win64_release_1.2.0\\src\\learner.cc:516: \n",
      "Parameters: { early_stopping_rounds } might not be used.\n",
      "\n",
      "  This may not be accurate due to some parameters are only used in language bindings but\n",
      "  passed down to XGBoost core.  Or some parameters are not used but slip through this\n",
      "  verification. Please open an issue if you find above cases.\n",
      "\n",
      "\n",
      "Training Precision:  0.8783697047496791\n",
      "Validation Precision:  0.5652173913043478\n",
      "Training F1:  0.9091513037701378\n",
      "Validation F1:  0.6277001270648029\n",
      "Training Accuracy:  0.9058519793459553\n",
      "Validation Accuracy:  0.7781983345950038\n"
     ]
    },
    {
     "data": {
      "text/plain": [
       "XGBClassifier(alpha=1, base_score=0.5, booster='gbtree', colsample_bylevel=1,\n",
       "              colsample_bynode=1, colsample_bytree=1, early_stopping_rounds=10,\n",
       "              eta=0.1, gamma=0.1, gpu_id=-1, importance_type='gain',\n",
       "              interaction_constraints='', learning_rate=0.100000001,\n",
       "              max_delta_step=0, max_depth=6, max_leaves=10, min_child_weight=1,\n",
       "              missing=nan, monotone_constraints='()', n_estimators=100,\n",
       "              n_jobs=0, num_parallel_tree=1, random_state=0, reg_alpha=1,\n",
       "              reg_lambda=1, scale_pos_weight=1, subsample=1,\n",
       "              tree_method='exact', validate_parameters=1, verbosity=None)"
      ]
     },
     "execution_count": 208,
     "metadata": {},
     "output_type": "execute_result"
    }
   ],
   "source": [
    "modeling_function(boost_model, X_train_res, y_train_res, X_val_sc_df, y_val_enc_df)"
   ]
  },
  {
   "cell_type": "code",
   "execution_count": 202,
   "id": "c042dce0-03a2-4b50-b187-2a39146164a7",
   "metadata": {},
   "outputs": [
    {
     "name": "stdout",
     "output_type": "stream",
     "text": [
      "[13:31:17] WARNING: C:\\Users\\Administrator\\workspace\\xgboost-win64_release_1.2.0\\src\\learner.cc:516: \n",
      "Parameters: { early_stopping_rounds } might not be used.\n",
      "\n",
      "  This may not be accurate due to some parameters are only used in language bindings but\n",
      "  passed down to XGBoost core.  Or some parameters are not used but slip through this\n",
      "  verification. Please open an issue if you find above cases.\n",
      "\n",
      "\n",
      "Training Precision:  0.8458149779735683\n",
      "Validation Precision:  0.6411960132890365\n",
      "Training F1:  0.7820773930753563\n",
      "Validation F1:  0.5929339477726574\n",
      "Training Accuracy:  0.8919464781620803\n",
      "Validation Accuracy:  0.7993943981831946\n"
     ]
    },
    {
     "data": {
      "text/plain": [
       "XGBClassifier(alpha=1, base_score=0.5, booster='gbtree', colsample_bylevel=1,\n",
       "              colsample_bynode=1, colsample_bytree=1, early_stopping_rounds=10,\n",
       "              eta=0.1, gamma=0.1, gpu_id=-1, importance_type='gain',\n",
       "              interaction_constraints='', learning_rate=0.100000001,\n",
       "              max_delta_step=0, max_depth=6, max_leaves=6, min_child_weight=1,\n",
       "              missing=nan, monotone_constraints='()', n_estimators=100,\n",
       "              n_jobs=0, num_parallel_tree=1, random_state=0, reg_alpha=1,\n",
       "              reg_lambda=1, scale_pos_weight=1, subsample=1,\n",
       "              tree_method='exact', validate_parameters=1, verbosity=None)"
      ]
     },
     "execution_count": 202,
     "metadata": {},
     "output_type": "execute_result"
    }
   ],
   "source": [
    "modeling_function(boost_model, X_train_sc_df, y_train_enc_df, X_val_sc_df, y_val_enc_df)"
   ]
  },
  {
   "cell_type": "code",
   "execution_count": 105,
   "id": "43988d63-0db2-4bcc-aabc-536866ac1a35",
   "metadata": {},
   "outputs": [
    {
     "data": {
      "text/plain": [
       "array([[-0.09542229,  0.        , -0.20908884, -1.00181051,  0.10036993,\n",
       "         0.22760317, -0.27529663, -0.1832553 , -0.10676363, -0.24078737,\n",
       "         0.00694504,  0.        , -0.76995869,  0.26026604,  0.04381296,\n",
       "         0.10776281, -1.13071954,  0.73786007,  0.36940274]])"
      ]
     },
     "execution_count": 105,
     "metadata": {},
     "output_type": "execute_result"
    }
   ],
   "source": [
    "logreg.coef_"
   ]
  },
  {
   "cell_type": "code",
   "execution_count": 107,
   "id": "b519bee1-6916-419b-9c5e-dc5f63dc2ef5",
   "metadata": {},
   "outputs": [
    {
     "data": {
      "text/html": [
       "<div>\n",
       "<style scoped>\n",
       "    .dataframe tbody tr th:only-of-type {\n",
       "        vertical-align: middle;\n",
       "    }\n",
       "\n",
       "    .dataframe tbody tr th {\n",
       "        vertical-align: top;\n",
       "    }\n",
       "\n",
       "    .dataframe thead th {\n",
       "        text-align: right;\n",
       "    }\n",
       "</style>\n",
       "<table border=\"1\" class=\"dataframe\">\n",
       "  <thead>\n",
       "    <tr style=\"text-align: right;\">\n",
       "      <th></th>\n",
       "      <th>coefficient</th>\n",
       "    </tr>\n",
       "  </thead>\n",
       "  <tbody>\n",
       "    <tr>\n",
       "      <th>partner</th>\n",
       "      <td>0.000000</td>\n",
       "    </tr>\n",
       "    <tr>\n",
       "      <th>streamingmovies</th>\n",
       "      <td>0.000000</td>\n",
       "    </tr>\n",
       "    <tr>\n",
       "      <th>streamingtv</th>\n",
       "      <td>0.006945</td>\n",
       "    </tr>\n",
       "    <tr>\n",
       "      <th>paymentmethod</th>\n",
       "      <td>0.043813</td>\n",
       "    </tr>\n",
       "    <tr>\n",
       "      <th>gender</th>\n",
       "      <td>0.095422</td>\n",
       "    </tr>\n",
       "    <tr>\n",
       "      <th>multiplelines</th>\n",
       "      <td>0.100370</td>\n",
       "    </tr>\n",
       "    <tr>\n",
       "      <th>deviceprotection</th>\n",
       "      <td>0.106764</td>\n",
       "    </tr>\n",
       "    <tr>\n",
       "      <th>seniorcitizen</th>\n",
       "      <td>0.107763</td>\n",
       "    </tr>\n",
       "    <tr>\n",
       "      <th>onlinebackup</th>\n",
       "      <td>0.183255</td>\n",
       "    </tr>\n",
       "    <tr>\n",
       "      <th>dependents</th>\n",
       "      <td>0.209089</td>\n",
       "    </tr>\n",
       "    <tr>\n",
       "      <th>internetservice</th>\n",
       "      <td>0.227603</td>\n",
       "    </tr>\n",
       "    <tr>\n",
       "      <th>techsupport</th>\n",
       "      <td>0.240787</td>\n",
       "    </tr>\n",
       "    <tr>\n",
       "      <th>paperlessbilling</th>\n",
       "      <td>0.260266</td>\n",
       "    </tr>\n",
       "    <tr>\n",
       "      <th>onlinesecurity</th>\n",
       "      <td>0.275297</td>\n",
       "    </tr>\n",
       "    <tr>\n",
       "      <th>totalcharges</th>\n",
       "      <td>0.369403</td>\n",
       "    </tr>\n",
       "    <tr>\n",
       "      <th>monthlycharges</th>\n",
       "      <td>0.737860</td>\n",
       "    </tr>\n",
       "    <tr>\n",
       "      <th>contract</th>\n",
       "      <td>0.769959</td>\n",
       "    </tr>\n",
       "    <tr>\n",
       "      <th>phoneservice</th>\n",
       "      <td>1.001811</td>\n",
       "    </tr>\n",
       "    <tr>\n",
       "      <th>tenure</th>\n",
       "      <td>1.130720</td>\n",
       "    </tr>\n",
       "  </tbody>\n",
       "</table>\n",
       "</div>"
      ],
      "text/plain": [
       "                  coefficient\n",
       "partner              0.000000\n",
       "streamingmovies      0.000000\n",
       "streamingtv          0.006945\n",
       "paymentmethod        0.043813\n",
       "gender               0.095422\n",
       "multiplelines        0.100370\n",
       "deviceprotection     0.106764\n",
       "seniorcitizen        0.107763\n",
       "onlinebackup         0.183255\n",
       "dependents           0.209089\n",
       "internetservice      0.227603\n",
       "techsupport          0.240787\n",
       "paperlessbilling     0.260266\n",
       "onlinesecurity       0.275297\n",
       "totalcharges         0.369403\n",
       "monthlycharges       0.737860\n",
       "contract             0.769959\n",
       "phoneservice         1.001811\n",
       "tenure               1.130720"
      ]
     },
     "execution_count": 107,
     "metadata": {},
     "output_type": "execute_result"
    }
   ],
   "source": [
    "logreg_coefs = pd.DataFrame(np.abs(logreg.coef_.T), columns=['coefficient'], index=X_train_sc_df.columns)\n",
    "logreg_coefs.sort_values('coefficient')"
   ]
  },
  {
   "cell_type": "code",
   "execution_count": 212,
   "id": "3683ebec-6332-4b60-af93-65f5db8adc48",
   "metadata": {},
   "outputs": [],
   "source": [
    "boost_params = {'eta': [.01, .1, 1, 2, 5],\n",
    "                'gamma': [.01, .1, 1, 2, 5],\n",
    "                'alpha': [.01, .1, 1, 2, 5],\n",
    "                'max_leaves': [2, 5, 10, 15, 20],\n",
    "                'max_depth': [1, 5, 10, 15, 20, 25]}"
   ]
  },
  {
   "cell_type": "code",
   "execution_count": 213,
   "id": "6ec51fee-4086-428c-830b-7bb4d40c7543",
   "metadata": {},
   "outputs": [],
   "source": [
    "gs_boost = GridSearchCV(boost_model, boost_params, scoring='precision')"
   ]
  },
  {
   "cell_type": "code",
   "execution_count": null,
   "id": "fa784f5a-6152-4169-ae0a-a3ec2b3f06af",
   "metadata": {},
   "outputs": [],
   "source": []
  },
  {
   "cell_type": "code",
   "execution_count": null,
   "id": "e41c9f64-3fd7-4356-bb90-c3895c42f394",
   "metadata": {},
   "outputs": [],
   "source": []
  }
 ],
 "metadata": {
  "kernelspec": {
   "display_name": "learn-env",
   "language": "python",
   "name": "learn-env"
  },
  "language_info": {
   "codemirror_mode": {
    "name": "ipython",
    "version": 3
   },
   "file_extension": ".py",
   "mimetype": "text/x-python",
   "name": "python",
   "nbconvert_exporter": "python",
   "pygments_lexer": "ipython3",
   "version": "3.8.5"
  }
 },
 "nbformat": 4,
 "nbformat_minor": 5
}
