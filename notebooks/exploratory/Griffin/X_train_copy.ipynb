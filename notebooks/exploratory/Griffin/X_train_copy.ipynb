{
 "cells": [
  {
   "cell_type": "markdown",
   "metadata": {},
   "source": [
    "Importing packages"
   ]
  },
  {
   "cell_type": "code",
   "execution_count": 1,
   "metadata": {},
   "outputs": [],
   "source": [
    "import pandas as pd\n",
    "import numpy as np\n",
    "import matplotlib.pyplot as plt\n",
    "import seaborn as sns"
   ]
  },
  {
   "cell_type": "markdown",
   "metadata": {},
   "source": [
    "Reading in the data"
   ]
  },
  {
   "cell_type": "code",
   "execution_count": 2,
   "metadata": {},
   "outputs": [
    {
     "name": "stdout",
     "output_type": "stream",
     "text": [
      "<class 'pandas.core.frame.DataFrame'>\n",
      "RangeIndex: 7043 entries, 0 to 7042\n",
      "Data columns (total 21 columns):\n",
      " #   Column            Non-Null Count  Dtype  \n",
      "---  ------            --------------  -----  \n",
      " 0   customerID        7043 non-null   object \n",
      " 1   gender            7043 non-null   object \n",
      " 2   SeniorCitizen     7043 non-null   int64  \n",
      " 3   Partner           7043 non-null   object \n",
      " 4   Dependents        7043 non-null   object \n",
      " 5   tenure            7043 non-null   int64  \n",
      " 6   PhoneService      7043 non-null   object \n",
      " 7   MultipleLines     7043 non-null   object \n",
      " 8   InternetService   7043 non-null   object \n",
      " 9   OnlineSecurity    7043 non-null   object \n",
      " 10  OnlineBackup      7043 non-null   object \n",
      " 11  DeviceProtection  7043 non-null   object \n",
      " 12  TechSupport       7043 non-null   object \n",
      " 13  StreamingTV       7043 non-null   object \n",
      " 14  StreamingMovies   7043 non-null   object \n",
      " 15  Contract          7043 non-null   object \n",
      " 16  PaperlessBilling  7043 non-null   object \n",
      " 17  PaymentMethod     7043 non-null   object \n",
      " 18  MonthlyCharges    7043 non-null   float64\n",
      " 19  TotalCharges      7043 non-null   object \n",
      " 20  Churn             7043 non-null   object \n",
      "dtypes: float64(1), int64(2), object(18)\n",
      "memory usage: 1.1+ MB\n"
     ]
    }
   ],
   "source": [
    "df = pd.read_csv('../../../data/WA_Fn-UseC_-Telco-Customer-Churn.csv')\n",
    "df.info()"
   ]
  },
  {
   "cell_type": "markdown",
   "metadata": {},
   "source": [
    "Making charges numeric and mapping senior citizen to be consistient with other categorical columns."
   ]
  },
  {
   "cell_type": "code",
   "execution_count": 3,
   "metadata": {},
   "outputs": [],
   "source": [
    "df['TotalCharges'] = pd.to_numeric(df['TotalCharges'], errors='coerce')"
   ]
  },
  {
   "cell_type": "code",
   "execution_count": 4,
   "metadata": {},
   "outputs": [],
   "source": [
    "df['SeniorCitizen'] = df['SeniorCitizen'].map(lambda x: 'No' if x == 0 else 'Yes')"
   ]
  },
  {
   "cell_type": "markdown",
   "metadata": {},
   "source": [
    "Lowercase column names so that they are easier to work with."
   ]
  },
  {
   "cell_type": "code",
   "execution_count": 5,
   "metadata": {},
   "outputs": [],
   "source": [
    "df.columns = df.columns.str.lower()"
   ]
  },
  {
   "cell_type": "markdown",
   "metadata": {},
   "source": [
    "Lets see how many unique values there are in each column."
   ]
  },
  {
   "cell_type": "code",
   "execution_count": 6,
   "metadata": {},
   "outputs": [
    {
     "name": "stdout",
     "output_type": "stream",
     "text": [
      "customerid 7043\n",
      "gender 2\n",
      "seniorcitizen 2\n",
      "partner 2\n",
      "dependents 2\n",
      "tenure 73\n",
      "phoneservice 2\n",
      "multiplelines 3\n",
      "internetservice 3\n",
      "onlinesecurity 3\n",
      "onlinebackup 3\n",
      "deviceprotection 3\n",
      "techsupport 3\n",
      "streamingtv 3\n",
      "streamingmovies 3\n",
      "contract 3\n",
      "paperlessbilling 2\n",
      "paymentmethod 4\n",
      "monthlycharges 1585\n",
      "totalcharges 6530\n",
      "churn 2\n"
     ]
    }
   ],
   "source": [
    "for col in df.columns:\n",
    "    print(col,df[col].nunique())"
   ]
  },
  {
   "cell_type": "markdown",
   "metadata": {},
   "source": [
    "Most columns are categorical so it makes sense that those don't have many uniquw values. Customer id's are all unique and the rest are numerical columns. First, pull out the customer id's so we can match them up with model predictions later. Then, make some engineered features."
   ]
  },
  {
   "cell_type": "code",
   "execution_count": 7,
   "metadata": {},
   "outputs": [],
   "source": [
    "cust_id = df['customerid']\n",
    "df = df.drop('customerid',axis=1)\n",
    "\n",
    "df['totchg_per_tenure'] = df['totalcharges'] / df['tenure']\n",
    "df['monthly_div_tot'] = df['monthlycharges'] / df['totalcharges']\n"
   ]
  },
  {
   "cell_type": "markdown",
   "metadata": {},
   "source": [
    "Griffin's engineered features"
   ]
  },
  {
   "cell_type": "code",
   "execution_count": 8,
   "metadata": {},
   "outputs": [],
   "source": [
    "df['partner_cont'] = df['partner'].map({'No': 0, 'Yes': 1, })\n",
    "df['dependent_cont'] = df['dependents'].map({'No': 0, 'Yes': 1, })\n",
    "df['single_parent'] = df['partner_cont'] + df['dependent_cont']\n",
    "df['single_parent'] = df['single_parent'].map({1: 'No', 0: 'No', 2: 'Yes' })\n",
    "df.drop(['partner_cont', 'dependent_cont'], axis=1, inplace=True)\n",
    "df['phone_count'] = df['phoneservice'].map({'No': 0, 'Yes': 1, })\n",
    "df['internet_count'] = df['internetservice'].map({'No': 0, 'DSL': 1, 'Fiber optic': 1 })\n",
    "df['phone_and_internet'] = df['phone_count'] + df['internet_count']\n",
    "df['phone_and_internet'] = df['phone_and_internet'].map({1: 'No', 0: 'No', 2: 'Yes' })\n",
    "df.drop(['phone_count', 'internet_count'], axis=1, inplace=True)"
   ]
  },
  {
   "cell_type": "code",
   "execution_count": 9,
   "metadata": {},
   "outputs": [],
   "source": [
    "df['o_sec'] = df['onlinesecurity'].map({'No': 0, 'Yes': 1})\n",
    "df['o_back'] = df['onlinebackup'].map({'No': 0, 'Yes': 1})\n",
    "df['t_sup'] = df['techsupport'].map({'No': 0, 'Yes': 1})\n",
    "df['tv'] = df['streamingtv'].map({'No': 0, 'Yes': 1})\n",
    "df['movie'] = df['streamingmovies'].map({'No': 0, 'Yes': 1})\n",
    "df['protect'] = df['deviceprotection'].map({'No': 0, 'Yes': 1})\n",
    "df['num_of_internet_services'] = df['o_sec'] + df['o_back'] + df['t_sup'] + df['tv'] + df['movie']\n",
    "df['num_of_services'] = df['num_of_internet_services'] + df['protect']\n",
    "df.drop(['o_back', 't_sup', 'tv', 'movie','protect'], axis=1, inplace=True)\n",
    "df.drop('o_sec', axis=1, inplace=True)"
   ]
  },
  {
   "cell_type": "code",
   "execution_count": 10,
   "metadata": {},
   "outputs": [],
   "source": [
    "df['num_of_ser_times_tot_charges'] = df['num_of_services'] * df['totalcharges']"
   ]
  },
  {
   "cell_type": "code",
   "execution_count": 11,
   "metadata": {},
   "outputs": [],
   "source": [
    "df['tenure_times_tot_charges'] = df['tenure'] * df['totalcharges']"
   ]
  },
  {
   "cell_type": "markdown",
   "metadata": {},
   "source": [
    "Make lists that have each type of column. This organizes the columns for imputing, scaling, and encoding."
   ]
  },
  {
   "cell_type": "code",
   "execution_count": 12,
   "metadata": {},
   "outputs": [],
   "source": [
    "ord_encode = ['gender','partner','dependents','phoneservice','multiplelines','internetservice','onlinesecurity','onlinebackup',\n",
    "              'deviceprotection','techsupport','streamingtv','streamingmovies','contract','paperlessbilling','paymentmethod','single_parent','phone_and_internet','seniorcitizen']\n",
    "labelencode =['churn']\n",
    "num = ['tenure','monthlycharges','totalcharges','totchg_per_tenure','monthly_div_tot','num_of_internet_services','num_of_services','num_of_ser_times_tot_charges']"
   ]
  },
  {
   "cell_type": "markdown",
   "metadata": {},
   "source": [
    "Make feature and target sets and then make train, validation, and test sets."
   ]
  },
  {
   "cell_type": "code",
   "execution_count": 13,
   "metadata": {},
   "outputs": [],
   "source": [
    "X = df[ord_encode].join(df[num],how='left')\n",
    "X = X.join(cust_id,how='left')\n",
    "y = df[labelencode]\n",
    "\n",
    "from sklearn.model_selection import train_test_split\n",
    "\n",
    "X_t, X_test, y_t, y_test = train_test_split(X,y,random_state=0)"
   ]
  },
  {
   "cell_type": "code",
   "execution_count": 14,
   "metadata": {},
   "outputs": [],
   "source": [
    "X_train, X_val, y_train, y_val = train_test_split(X_t,y_t,random_state=0)"
   ]
  },
  {
   "cell_type": "markdown",
   "metadata": {},
   "source": [
    "Impute missing values as 0"
   ]
  },
  {
   "cell_type": "code",
   "execution_count": 15,
   "metadata": {},
   "outputs": [],
   "source": [
    "from sklearn.impute import SimpleImputer\n",
    "\n",
    "impute = SimpleImputer(strategy='constant',fill_value=0)\n",
    "X_train_im = impute.fit_transform(X_train)\n",
    "X_val_im = impute.transform(X_val)\n",
    "\n",
    "X_test_im = impute.transform(X_test)\n",
    "\n",
    "X_train_im = pd.DataFrame(X_train_im,columns=X.columns)\n",
    "X_val_im = pd.DataFrame(X_val_im,columns=X.columns)\n",
    "\n",
    "X_test_im = pd.DataFrame(X_test_im,columns=X.columns)"
   ]
  },
  {
   "cell_type": "code",
   "execution_count": 16,
   "metadata": {},
   "outputs": [
    {
     "name": "stdout",
     "output_type": "stream",
     "text": [
      "<class 'pandas.core.frame.DataFrame'>\n",
      "RangeIndex: 3961 entries, 0 to 3960\n",
      "Data columns (total 27 columns):\n",
      " #   Column                        Non-Null Count  Dtype \n",
      "---  ------                        --------------  ----- \n",
      " 0   gender                        3961 non-null   object\n",
      " 1   partner                       3961 non-null   object\n",
      " 2   dependents                    3961 non-null   object\n",
      " 3   phoneservice                  3961 non-null   object\n",
      " 4   multiplelines                 3961 non-null   object\n",
      " 5   internetservice               3961 non-null   object\n",
      " 6   onlinesecurity                3961 non-null   object\n",
      " 7   onlinebackup                  3961 non-null   object\n",
      " 8   deviceprotection              3961 non-null   object\n",
      " 9   techsupport                   3961 non-null   object\n",
      " 10  streamingtv                   3961 non-null   object\n",
      " 11  streamingmovies               3961 non-null   object\n",
      " 12  contract                      3961 non-null   object\n",
      " 13  paperlessbilling              3961 non-null   object\n",
      " 14  paymentmethod                 3961 non-null   object\n",
      " 15  single_parent                 3961 non-null   object\n",
      " 16  phone_and_internet            3961 non-null   object\n",
      " 17  seniorcitizen                 3961 non-null   object\n",
      " 18  tenure                        3961 non-null   object\n",
      " 19  monthlycharges                3961 non-null   object\n",
      " 20  totalcharges                  3961 non-null   object\n",
      " 21  totchg_per_tenure             3961 non-null   object\n",
      " 22  monthly_div_tot               3961 non-null   object\n",
      " 23  num_of_internet_services      3961 non-null   object\n",
      " 24  num_of_services               3961 non-null   object\n",
      " 25  num_of_ser_times_tot_charges  3961 non-null   object\n",
      " 26  customerid                    3961 non-null   object\n",
      "dtypes: object(27)\n",
      "memory usage: 835.6+ KB\n"
     ]
    }
   ],
   "source": [
    "X_train_im.info()"
   ]
  },
  {
   "cell_type": "code",
   "execution_count": 17,
   "metadata": {},
   "outputs": [],
   "source": [
    "from sklearn.preprocessing import OrdinalEncoder\n",
    "#ord encode categoticals\n",
    "ordi = OrdinalEncoder(dtype=np.int)\n",
    "\n",
    "X_train_ord = ordi.fit_transform(X_train_im[ord_encode])\n",
    "X_val_ord = ordi.transform(X_val_im[ord_encode])\n",
    "\n",
    "X_test_ord = ordi.transform(X_test_im[ord_encode])\n",
    "\n",
    "X_train_ord = pd.DataFrame(X_train_ord,columns=X[ord_encode].columns)\n",
    "X_val_ord = pd.DataFrame(X_val_ord,columns=X[ord_encode].columns)\n",
    "\n",
    "X_test_ord = pd.DataFrame(X_test_ord,columns=X[ord_encode].columns)\n",
    "\n",
    "from sklearn.preprocessing import StandardScaler\n",
    "#scale numerical\n",
    "#use median for limit effect of outliers\n",
    "ss = StandardScaler()\n",
    "\n",
    "X_train_num = ss.fit_transform(X_train_im[num])\n",
    "X_val_num = ss.transform(X_val_im[num])\n",
    "\n",
    "X_test_num = ss.transform(X_test_im[num])\n",
    "\n",
    "X_train_num = pd.DataFrame(X_train_num,columns=X[num].columns)\n",
    "X_val_num = pd.DataFrame(X_val_num,columns=X[num].columns)\n",
    "\n",
    "X_test_num = pd.DataFrame(X_test_num,columns=X[num].columns)\n",
    "\n",
    "#add customer id\n",
    "X_train_num = X_train_num.join(X_train_im['customerid'],how='right')\n",
    "X_val_num = X_val_num.join(X_val_im['customerid'],how='right')\n",
    "\n",
    "X_test_num = X_test_num.join(X_test_im['customerid'],how='right')"
   ]
  },
  {
   "cell_type": "code",
   "execution_count": 18,
   "metadata": {},
   "outputs": [
    {
     "data": {
      "text/html": [
       "<div>\n",
       "<style scoped>\n",
       "    .dataframe tbody tr th:only-of-type {\n",
       "        vertical-align: middle;\n",
       "    }\n",
       "\n",
       "    .dataframe tbody tr th {\n",
       "        vertical-align: top;\n",
       "    }\n",
       "\n",
       "    .dataframe thead th {\n",
       "        text-align: right;\n",
       "    }\n",
       "</style>\n",
       "<table border=\"1\" class=\"dataframe\">\n",
       "  <thead>\n",
       "    <tr style=\"text-align: right;\">\n",
       "      <th></th>\n",
       "      <th>tenure</th>\n",
       "      <th>monthlycharges</th>\n",
       "      <th>totalcharges</th>\n",
       "      <th>totchg_per_tenure</th>\n",
       "      <th>monthly_div_tot</th>\n",
       "      <th>num_of_internet_services</th>\n",
       "      <th>num_of_services</th>\n",
       "      <th>num_of_ser_times_tot_charges</th>\n",
       "      <th>customerid</th>\n",
       "    </tr>\n",
       "  </thead>\n",
       "  <tbody>\n",
       "    <tr>\n",
       "      <th>0</th>\n",
       "      <td>0.022881</td>\n",
       "      <td>-1.489476</td>\n",
       "      <td>-0.712634</td>\n",
       "      <td>-1.471300</td>\n",
       "      <td>-0.449101</td>\n",
       "      <td>-1.095781</td>\n",
       "      <td>-1.107179</td>\n",
       "      <td>-0.683896</td>\n",
       "      <td>3769-MHZNV</td>\n",
       "    </tr>\n",
       "    <tr>\n",
       "      <th>1</th>\n",
       "      <td>-0.344542</td>\n",
       "      <td>0.547812</td>\n",
       "      <td>-0.157005</td>\n",
       "      <td>0.518759</td>\n",
       "      <td>-0.405672</td>\n",
       "      <td>1.504422</td>\n",
       "      <td>1.077941</td>\n",
       "      <td>0.002328</td>\n",
       "      <td>4277-UDIEF</td>\n",
       "    </tr>\n",
       "    <tr>\n",
       "      <th>2</th>\n",
       "      <td>-1.120212</td>\n",
       "      <td>-0.009181</td>\n",
       "      <td>-0.853459</td>\n",
       "      <td>0.198523</td>\n",
       "      <td>0.097378</td>\n",
       "      <td>0.854371</td>\n",
       "      <td>0.531661</td>\n",
       "      <td>-0.589555</td>\n",
       "      <td>7905-TVXTA</td>\n",
       "    </tr>\n",
       "    <tr>\n",
       "      <th>3</th>\n",
       "      <td>-1.283510</td>\n",
       "      <td>0.313641</td>\n",
       "      <td>-0.976974</td>\n",
       "      <td>0.313909</td>\n",
       "      <td>3.027120</td>\n",
       "      <td>-0.445730</td>\n",
       "      <td>-0.560899</td>\n",
       "      <td>-0.677297</td>\n",
       "      <td>8687-BAFGU</td>\n",
       "    </tr>\n",
       "    <tr>\n",
       "      <th>4</th>\n",
       "      <td>1.370097</td>\n",
       "      <td>-0.071069</td>\n",
       "      <td>0.823734</td>\n",
       "      <td>-0.062752</td>\n",
       "      <td>-0.502407</td>\n",
       "      <td>2.154473</td>\n",
       "      <td>2.170501</td>\n",
       "      <td>1.529241</td>\n",
       "      <td>8404-VIOMB</td>\n",
       "    </tr>\n",
       "    <tr>\n",
       "      <th>...</th>\n",
       "      <td>...</td>\n",
       "      <td>...</td>\n",
       "      <td>...</td>\n",
       "      <td>...</td>\n",
       "      <td>...</td>\n",
       "      <td>...</td>\n",
       "      <td>...</td>\n",
       "      <td>...</td>\n",
       "      <td>...</td>\n",
       "    </tr>\n",
       "    <tr>\n",
       "      <th>1316</th>\n",
       "      <td>-1.161036</td>\n",
       "      <td>-1.504530</td>\n",
       "      <td>-0.979833</td>\n",
       "      <td>-1.585227</td>\n",
       "      <td>0.485920</td>\n",
       "      <td>-1.095781</td>\n",
       "      <td>-1.107179</td>\n",
       "      <td>-0.683896</td>\n",
       "      <td>0690-SRQID</td>\n",
       "    </tr>\n",
       "    <tr>\n",
       "      <th>1317</th>\n",
       "      <td>0.349479</td>\n",
       "      <td>-1.516238</td>\n",
       "      <td>-0.667400</td>\n",
       "      <td>-1.520334</td>\n",
       "      <td>-0.467010</td>\n",
       "      <td>-1.095781</td>\n",
       "      <td>-1.107179</td>\n",
       "      <td>-0.683896</td>\n",
       "      <td>5465-BUBFA</td>\n",
       "    </tr>\n",
       "    <tr>\n",
       "      <th>1318</th>\n",
       "      <td>-0.875263</td>\n",
       "      <td>0.721767</td>\n",
       "      <td>-0.613853</td>\n",
       "      <td>0.553328</td>\n",
       "      <td>-0.210706</td>\n",
       "      <td>-0.445730</td>\n",
       "      <td>-0.560899</td>\n",
       "      <td>-0.604246</td>\n",
       "      <td>3797-FKOGQ</td>\n",
       "    </tr>\n",
       "    <tr>\n",
       "      <th>1319</th>\n",
       "      <td>1.615045</td>\n",
       "      <td>0.766929</td>\n",
       "      <td>1.855095</td>\n",
       "      <td>0.838168</td>\n",
       "      <td>-0.508011</td>\n",
       "      <td>2.154473</td>\n",
       "      <td>2.170501</td>\n",
       "      <td>2.774144</td>\n",
       "      <td>4077-HWUYD</td>\n",
       "    </tr>\n",
       "    <tr>\n",
       "      <th>1320</th>\n",
       "      <td>0.022881</td>\n",
       "      <td>1.203490</td>\n",
       "      <td>0.439803</td>\n",
       "      <td>1.148498</td>\n",
       "      <td>-0.446314</td>\n",
       "      <td>0.854371</td>\n",
       "      <td>0.531661</td>\n",
       "      <td>0.190961</td>\n",
       "      <td>1932-UEDCX</td>\n",
       "    </tr>\n",
       "  </tbody>\n",
       "</table>\n",
       "<p>1321 rows × 9 columns</p>\n",
       "</div>"
      ],
      "text/plain": [
       "        tenure  monthlycharges  totalcharges  totchg_per_tenure  \\\n",
       "0     0.022881       -1.489476     -0.712634          -1.471300   \n",
       "1    -0.344542        0.547812     -0.157005           0.518759   \n",
       "2    -1.120212       -0.009181     -0.853459           0.198523   \n",
       "3    -1.283510        0.313641     -0.976974           0.313909   \n",
       "4     1.370097       -0.071069      0.823734          -0.062752   \n",
       "...        ...             ...           ...                ...   \n",
       "1316 -1.161036       -1.504530     -0.979833          -1.585227   \n",
       "1317  0.349479       -1.516238     -0.667400          -1.520334   \n",
       "1318 -0.875263        0.721767     -0.613853           0.553328   \n",
       "1319  1.615045        0.766929      1.855095           0.838168   \n",
       "1320  0.022881        1.203490      0.439803           1.148498   \n",
       "\n",
       "      monthly_div_tot  num_of_internet_services  num_of_services  \\\n",
       "0           -0.449101                 -1.095781        -1.107179   \n",
       "1           -0.405672                  1.504422         1.077941   \n",
       "2            0.097378                  0.854371         0.531661   \n",
       "3            3.027120                 -0.445730        -0.560899   \n",
       "4           -0.502407                  2.154473         2.170501   \n",
       "...               ...                       ...              ...   \n",
       "1316         0.485920                 -1.095781        -1.107179   \n",
       "1317        -0.467010                 -1.095781        -1.107179   \n",
       "1318        -0.210706                 -0.445730        -0.560899   \n",
       "1319        -0.508011                  2.154473         2.170501   \n",
       "1320        -0.446314                  0.854371         0.531661   \n",
       "\n",
       "      num_of_ser_times_tot_charges  customerid  \n",
       "0                        -0.683896  3769-MHZNV  \n",
       "1                         0.002328  4277-UDIEF  \n",
       "2                        -0.589555  7905-TVXTA  \n",
       "3                        -0.677297  8687-BAFGU  \n",
       "4                         1.529241  8404-VIOMB  \n",
       "...                            ...         ...  \n",
       "1316                     -0.683896  0690-SRQID  \n",
       "1317                     -0.683896  5465-BUBFA  \n",
       "1318                     -0.604246  3797-FKOGQ  \n",
       "1319                      2.774144  4077-HWUYD  \n",
       "1320                      0.190961  1932-UEDCX  \n",
       "\n",
       "[1321 rows x 9 columns]"
      ]
     },
     "execution_count": 18,
     "metadata": {},
     "output_type": "execute_result"
    }
   ],
   "source": [
    "X_val_num"
   ]
  },
  {
   "cell_type": "code",
   "execution_count": 19,
   "metadata": {},
   "outputs": [],
   "source": [
    "#combine the categorical and numerical dfs\n",
    "\n",
    "X_train_sc = X_train_ord.join(X_train_num,how='left')\n",
    "X_val_sc = X_val_ord.join(X_val_num,how='left')\n",
    "\n",
    "X_test_sc = X_test_ord.join(X_test_num,how='left')"
   ]
  },
  {
   "cell_type": "code",
   "execution_count": 20,
   "metadata": {},
   "outputs": [
    {
     "name": "stderr",
     "output_type": "stream",
     "text": [
      "C:\\Users\\gnr40\\anaconda3\\envs\\learn-env\\lib\\site-packages\\sklearn\\utils\\validation.py:72: DataConversionWarning: A column-vector y was passed when a 1d array was expected. Please change the shape of y to (n_samples, ), for example using ravel().\n",
      "  return f(**kwargs)\n"
     ]
    }
   ],
   "source": [
    "#encode the labels\n",
    "\n",
    "from sklearn.preprocessing import LabelEncoder\n",
    "\n",
    "lbl = LabelEncoder()\n",
    "\n",
    "y_train = lbl.fit_transform(np.array(y_train))\n",
    "y_val = lbl.transform(y_val)\n",
    "\n",
    "y_test = lbl.transform(y_test)\n",
    "\n",
    "y_train_enc = pd.DataFrame(y_train,columns=y.columns)\n",
    "y_val_enc = pd.DataFrame(y_val,columns=y.columns)\n",
    "\n",
    "y_test_enc = pd.DataFrame(y_test,columns=y.columns)"
   ]
  },
  {
   "cell_type": "code",
   "execution_count": 21,
   "metadata": {},
   "outputs": [
    {
     "data": {
      "text/plain": [
       "churn\n",
       "0        1298\n",
       "1         463\n",
       "dtype: int64"
      ]
     },
     "execution_count": 21,
     "metadata": {},
     "output_type": "execute_result"
    }
   ],
   "source": [
    "y_test_enc.value_counts()"
   ]
  },
  {
   "cell_type": "code",
   "execution_count": 22,
   "metadata": {},
   "outputs": [],
   "source": [
    "X_train_sc.to_csv('new_X_train_sc.csv',index=False)\n",
    "X_val_sc.to_csv('new_X_val_sc.csv',index=False)\n",
    "\n",
    "y_train_enc.to_csv('new_y_train_enc.csv',index=False)\n",
    "y_val_enc.to_csv('new_y_val_enc.csv',index=False)\n",
    "\n",
    "X_test_sc.to_csv('new_X_test_sc.csv',index=False)\n",
    "y_test_enc.to_csv('new_y_test_enc.csv',index=False)"
   ]
  },
  {
   "cell_type": "code",
   "execution_count": 23,
   "metadata": {},
   "outputs": [
    {
     "name": "stdout",
     "output_type": "stream",
     "text": [
      "<class 'pandas.core.frame.DataFrame'>\n",
      "RangeIndex: 1321 entries, 0 to 1320\n",
      "Data columns (total 27 columns):\n",
      " #   Column                        Non-Null Count  Dtype  \n",
      "---  ------                        --------------  -----  \n",
      " 0   gender                        1321 non-null   int32  \n",
      " 1   partner                       1321 non-null   int32  \n",
      " 2   dependents                    1321 non-null   int32  \n",
      " 3   phoneservice                  1321 non-null   int32  \n",
      " 4   multiplelines                 1321 non-null   int32  \n",
      " 5   internetservice               1321 non-null   int32  \n",
      " 6   onlinesecurity                1321 non-null   int32  \n",
      " 7   onlinebackup                  1321 non-null   int32  \n",
      " 8   deviceprotection              1321 non-null   int32  \n",
      " 9   techsupport                   1321 non-null   int32  \n",
      " 10  streamingtv                   1321 non-null   int32  \n",
      " 11  streamingmovies               1321 non-null   int32  \n",
      " 12  contract                      1321 non-null   int32  \n",
      " 13  paperlessbilling              1321 non-null   int32  \n",
      " 14  paymentmethod                 1321 non-null   int32  \n",
      " 15  single_parent                 1321 non-null   int32  \n",
      " 16  phone_and_internet            1321 non-null   int32  \n",
      " 17  seniorcitizen                 1321 non-null   int32  \n",
      " 18  tenure                        1321 non-null   float64\n",
      " 19  monthlycharges                1321 non-null   float64\n",
      " 20  totalcharges                  1321 non-null   float64\n",
      " 21  totchg_per_tenure             1321 non-null   float64\n",
      " 22  monthly_div_tot               1321 non-null   float64\n",
      " 23  num_of_internet_services      1321 non-null   float64\n",
      " 24  num_of_services               1321 non-null   float64\n",
      " 25  num_of_ser_times_tot_charges  1321 non-null   float64\n",
      " 26  customerid                    1321 non-null   object \n",
      "dtypes: float64(8), int32(18), object(1)\n",
      "memory usage: 185.9+ KB\n"
     ]
    }
   ],
   "source": [
    "X_val_sc.info()"
   ]
  },
  {
   "cell_type": "markdown",
   "metadata": {},
   "source": [
    "Used this notebook to add my experimental features to the split data"
   ]
  },
  {
   "cell_type": "code",
   "execution_count": null,
   "metadata": {},
   "outputs": [],
   "source": []
  }
 ],
 "metadata": {
  "kernelspec": {
   "display_name": "learn-env",
   "language": "python",
   "name": "learn-env"
  },
  "language_info": {
   "codemirror_mode": {
    "name": "ipython",
    "version": 3
   },
   "file_extension": ".py",
   "mimetype": "text/x-python",
   "name": "python",
   "nbconvert_exporter": "python",
   "pygments_lexer": "ipython3",
   "version": "3.8.5"
  }
 },
 "nbformat": 4,
 "nbformat_minor": 4
}
