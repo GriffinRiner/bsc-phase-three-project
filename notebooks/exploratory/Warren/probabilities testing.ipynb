{
 "cells": [
  {
   "cell_type": "markdown",
   "metadata": {},
   "source": [
    "a/b testing for new models using metric: maximize precision score and output raw probabilities, get those from pred proba"
   ]
  },
  {
   "cell_type": "code",
   "execution_count": null,
   "metadata": {},
   "outputs": [],
   "source": []
  },
  {
   "cell_type": "code",
   "execution_count": 1,
   "metadata": {},
   "outputs": [],
   "source": [
    "import pandas as pd\n",
    "import numpy as np\n",
    "from joblib import dump, load"
   ]
  },
  {
   "cell_type": "code",
   "execution_count": 2,
   "metadata": {},
   "outputs": [],
   "source": [
    "X_train_sc = pd.read_csv('X_train_sc.csv')\n",
    "X_val_sc = pd.read_csv('X_val_sc.csv')\n",
    "y_train_enc = np.ravel(pd.read_csv('y_train_enc.csv'))\n",
    "y_val_enc = np.ravel(pd.read_csv('y_val_enc.csv'))\n",
    "\n",
    "\n",
    "#make train and val customer id frames and drop from data\n",
    "X_train_id = X_train_sc['customerid']\n",
    "X_train_sc.drop('customerid',axis=1,inplace=True)\n",
    "X_val_id = X_val_sc['customerid']\n",
    "X_val_sc.drop('customerid',axis=1,inplace=True)\n",
    "\n",
    "\n",
    "X_test_sc = pd.read_csv('X_test_sc.csv')\n",
    "y_test_enc = pd.read_csv('y_test_enc.csv')\n",
    "\n",
    "X_test_id = X_test_sc['customerid']\n",
    "X_test_sc.drop('customerid',axis=1,inplace=True)"
   ]
  },
  {
   "cell_type": "code",
   "execution_count": 3,
   "metadata": {},
   "outputs": [],
   "source": [
    "# from imblearn.over_sampling import SMOTE\n",
    "# sm = SMOTE()\n",
    "# X_train_sc, y_train_enc = sm.fit_resample(X_train_sc,y_train_enc)"
   ]
  },
  {
   "cell_type": "code",
   "execution_count": 4,
   "metadata": {},
   "outputs": [],
   "source": [
    "from sklearn.linear_model import LogisticRegression\n",
    "from sklearn.model_selection import cross_val_score\n",
    "from sklearn.metrics import classification_report\n"
   ]
  },
  {
   "cell_type": "code",
   "execution_count": 5,
   "metadata": {},
   "outputs": [],
   "source": [
    "def modeler(est,X_train,y_train,X_val,y_val):\n",
    "    \n",
    "    est.fit(X_train,y_train)\n",
    "    \n",
    "    \n",
    "    train_acc_score = np.mean(cross_val_score(est,X_train,y_train,scoring='precision',cv=7,n_jobs=4))\n",
    "    val_acc_score = np.mean(cross_val_score(est,X_val,y_val,scoring='precision',cv=7,n_jobs=4))\n",
    "    diff = abs(train_acc_score - val_acc_score)\n",
    "    \n",
    "    y_val_pred = est.predict(X_val)\n",
    "    \n",
    "    \n",
    "    print(f'train precision: {round(train_acc_score,5)}')\n",
    "    print('-'*40)\n",
    "    print(f'val precision: {round(val_acc_score,5)}')\n",
    "    print('-'*40)\n",
    "    print(f'difference: {round(diff,7)}')\n",
    "    print('-'*40)\n",
    "    print(f'val report: ')\n",
    "    print(classification_report(y_val,y_val_pred))\n",
    "    print('-'*40)\n",
    "    return est"
   ]
  },
  {
   "cell_type": "markdown",
   "metadata": {},
   "source": [
    "Get probabilities for most likely to churn"
   ]
  },
  {
   "cell_type": "code",
   "execution_count": 6,
   "metadata": {},
   "outputs": [
    {
     "name": "stdout",
     "output_type": "stream",
     "text": [
      "train precision: 0.67208\n",
      "----------------------------------------\n",
      "val precision: 0.65765\n",
      "----------------------------------------\n",
      "difference: 0.0144367\n",
      "----------------------------------------\n",
      "val report: \n",
      "              precision    recall  f1-score   support\n",
      "\n",
      "           0       0.85      0.90      0.87       971\n",
      "           1       0.67      0.58      0.62       350\n",
      "\n",
      "    accuracy                           0.81      1321\n",
      "   macro avg       0.76      0.74      0.75      1321\n",
      "weighted avg       0.80      0.81      0.81      1321\n",
      "\n",
      "----------------------------------------\n"
     ]
    }
   ],
   "source": [
    "lr = LogisticRegression()\n",
    "\n",
    "est = modeler(lr,X_train_sc,y_train_enc,X_val_sc,y_val_enc)"
   ]
  },
  {
   "cell_type": "code",
   "execution_count": 7,
   "metadata": {},
   "outputs": [],
   "source": [
    "pred_probs = pd.DataFrame(est.predict_proba(X_test_sc))"
   ]
  },
  {
   "cell_type": "code",
   "execution_count": 8,
   "metadata": {},
   "outputs": [],
   "source": [
    "#add the customer ids\n",
    "pred_probs = pred_probs.join(X_test_id,how='left')"
   ]
  },
  {
   "cell_type": "code",
   "execution_count": 9,
   "metadata": {},
   "outputs": [],
   "source": [
    "most_prob = pred_probs.groupby(['customerid',1]).sum().nsmallest(20,columns=0)"
   ]
  },
  {
   "cell_type": "code",
   "execution_count": 10,
   "metadata": {},
   "outputs": [
    {
     "name": "stdout",
     "output_type": "stream",
     "text": [
      "The 20 customers most likely to churn are: ('5178-LMXOP', 0.9594319614041189)\n"
     ]
    }
   ],
   "source": [
    "print(f'The 20 customers most likely to churn are: {most_prob.index[:][0]}')"
   ]
  },
  {
   "cell_type": "code",
   "execution_count": 11,
   "metadata": {},
   "outputs": [],
   "source": [
    "lr_bag = load('models/lr_bag.joblib')\n"
   ]
  },
  {
   "cell_type": "code",
   "execution_count": 12,
   "metadata": {},
   "outputs": [
    {
     "name": "stdout",
     "output_type": "stream",
     "text": [
      "The 10 customers most likely to churn are:\n"
     ]
    }
   ],
   "source": [
    "stack_probs = pd.DataFrame(lr_bag.predict_proba(X_test_sc))\n",
    "stack_probs = stack_probs.join(X_test_id,how='left')\n",
    "most_prob = stack_probs.sort_values(by=1,ascending=False)[:5]\n",
    "print(f'The 10 customers most likely to churn are:')\n",
    "most_prob.columns = ['prob_wont_churn','prob_churn','customerid']\n",
    "most_prob = most_prob[['prob_churn','customerid']].set_index('customerid')\n",
    "\n",
    "most_prob.to_csv('likelytochurn.csv')"
   ]
  },
  {
   "cell_type": "code",
   "execution_count": null,
   "metadata": {},
   "outputs": [],
   "source": []
  },
  {
   "cell_type": "code",
   "execution_count": null,
   "metadata": {},
   "outputs": [],
   "source": []
  }
 ],
 "metadata": {
  "kernelspec": {
   "display_name": "learn-env",
   "language": "python",
   "name": "learn-env"
  },
  "language_info": {
   "codemirror_mode": {
    "name": "ipython",
    "version": 3
   },
   "file_extension": ".py",
   "mimetype": "text/x-python",
   "name": "python",
   "nbconvert_exporter": "python",
   "pygments_lexer": "ipython3",
   "version": "3.8.5"
  }
 },
 "nbformat": 4,
 "nbformat_minor": 4
}
