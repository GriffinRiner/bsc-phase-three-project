{
 "cells": [
  {
   "cell_type": "markdown",
   "metadata": {},
   "source": [
    "a/b testing for new models using metric: maximize precision score and output raw probabilities, get those from pred proba"
   ]
  },
  {
   "cell_type": "code",
   "execution_count": null,
   "metadata": {},
   "outputs": [],
   "source": []
  },
  {
   "cell_type": "code",
   "execution_count": 1,
   "metadata": {},
   "outputs": [],
   "source": [
    "import pandas as pd\n",
    "import numpy as np\n",
    "from joblib import dump, load"
   ]
  },
  {
   "cell_type": "code",
   "execution_count": 2,
   "metadata": {},
   "outputs": [],
   "source": [
    "X_train_sc = pd.read_csv('X_train_sc.csv')\n",
    "X_val_sc = pd.read_csv('X_val_sc.csv')\n",
    "y_train_enc = np.ravel(pd.read_csv('y_train_enc.csv'))\n",
    "y_val_enc = np.ravel(pd.read_csv('y_val_enc.csv'))\n"
   ]
  },
  {
   "cell_type": "code",
   "execution_count": 3,
   "metadata": {},
   "outputs": [],
   "source": [
    "from imblearn.over_sampling import SMOTE\n",
    "sm = SMOTE()\n",
    "X_train_sc, y_train_enc = sm.fit_resample(X_train_sc,y_train_enc)"
   ]
  },
  {
   "cell_type": "code",
   "execution_count": 4,
   "metadata": {},
   "outputs": [],
   "source": [
    "from sklearn.linear_model import LogisticRegression\n",
    "from sklearn.model_selection import cross_val_score\n",
    "from sklearn.metrics import classification_report\n"
   ]
  },
  {
   "cell_type": "code",
   "execution_count": 5,
   "metadata": {},
   "outputs": [],
   "source": [
    "def modeler(est,X_train,y_train,X_val,y_val):\n",
    "    \n",
    "    est.fit(X_train,y_train)\n",
    "    \n",
    "    \n",
    "    train_acc_score = np.mean(cross_val_score(est,X_train,y_train,scoring='precision',cv=7,n_jobs=4))\n",
    "    val_acc_score = np.mean(cross_val_score(est,X_val,y_val,scoring='precision',cv=7,n_jobs=4))\n",
    "    diff = abs(train_acc_score - val_acc_score)\n",
    "    \n",
    "    y_val_pred = est.predict(X_val)\n",
    "    \n",
    "    \n",
    "    print(f'train precision: {round(train_acc_score,5)}')\n",
    "    print('-'*40)\n",
    "    print(f'val precision: {round(val_acc_score,5)}')\n",
    "    print('-'*40)\n",
    "    print(f'difference: {round(diff,7)}')\n",
    "    print('-'*40)\n",
    "    print(f'val report: ')\n",
    "    print(classification_report(y_val,y_val_pred))\n",
    "    print('-'*40)\n",
    "    return est"
   ]
  },
  {
   "cell_type": "markdown",
   "metadata": {},
   "source": [
    "Get probabilities for most likely to churn"
   ]
  },
  {
   "cell_type": "code",
   "execution_count": 9,
   "metadata": {},
   "outputs": [
    {
     "name": "stdout",
     "output_type": "stream",
     "text": [
      "train precision: 0.77144\n",
      "----------------------------------------\n",
      "val precision: 0.65911\n",
      "----------------------------------------\n",
      "difference: 0.1123231\n",
      "----------------------------------------\n",
      "val report: \n",
      "              precision    recall  f1-score   support\n",
      "\n",
      "           0       0.90      0.73      0.81       971\n",
      "           1       0.51      0.77      0.61       350\n",
      "\n",
      "    accuracy                           0.74      1321\n",
      "   macro avg       0.70      0.75      0.71      1321\n",
      "weighted avg       0.79      0.74      0.75      1321\n",
      "\n",
      "----------------------------------------\n"
     ]
    }
   ],
   "source": [
    "lr = LogisticRegression()\n",
    "\n",
    "est = modeler(lr,X_train_sc,y_train_enc,X_val_sc,y_val_enc)"
   ]
  },
  {
   "cell_type": "code",
   "execution_count": 13,
   "metadata": {},
   "outputs": [],
   "source": [
    "pred_probs = pd.DataFrame(est.predict_proba(X_val_sc))"
   ]
  },
  {
   "cell_type": "code",
   "execution_count": 32,
   "metadata": {},
   "outputs": [
    {
     "data": {
      "text/html": [
       "<div>\n",
       "<style scoped>\n",
       "    .dataframe tbody tr th:only-of-type {\n",
       "        vertical-align: middle;\n",
       "    }\n",
       "\n",
       "    .dataframe tbody tr th {\n",
       "        vertical-align: top;\n",
       "    }\n",
       "\n",
       "    .dataframe thead th {\n",
       "        text-align: right;\n",
       "    }\n",
       "</style>\n",
       "<table border=\"1\" class=\"dataframe\">\n",
       "  <thead>\n",
       "    <tr style=\"text-align: right;\">\n",
       "      <th></th>\n",
       "      <th>0</th>\n",
       "    </tr>\n",
       "    <tr>\n",
       "      <th>1</th>\n",
       "      <th></th>\n",
       "    </tr>\n",
       "  </thead>\n",
       "  <tbody>\n",
       "    <tr>\n",
       "      <th>0.980881</th>\n",
       "      <td>0.019119</td>\n",
       "    </tr>\n",
       "    <tr>\n",
       "      <th>0.979518</th>\n",
       "      <td>0.020482</td>\n",
       "    </tr>\n",
       "    <tr>\n",
       "      <th>0.976344</th>\n",
       "      <td>0.023656</td>\n",
       "    </tr>\n",
       "    <tr>\n",
       "      <th>0.975200</th>\n",
       "      <td>0.024800</td>\n",
       "    </tr>\n",
       "    <tr>\n",
       "      <th>0.972325</th>\n",
       "      <td>0.027675</td>\n",
       "    </tr>\n",
       "    <tr>\n",
       "      <th>0.972069</th>\n",
       "      <td>0.027931</td>\n",
       "    </tr>\n",
       "    <tr>\n",
       "      <th>0.967254</th>\n",
       "      <td>0.032746</td>\n",
       "    </tr>\n",
       "    <tr>\n",
       "      <th>0.966392</th>\n",
       "      <td>0.033608</td>\n",
       "    </tr>\n",
       "    <tr>\n",
       "      <th>0.963226</th>\n",
       "      <td>0.036774</td>\n",
       "    </tr>\n",
       "    <tr>\n",
       "      <th>0.961829</th>\n",
       "      <td>0.038171</td>\n",
       "    </tr>\n",
       "    <tr>\n",
       "      <th>0.961030</th>\n",
       "      <td>0.038970</td>\n",
       "    </tr>\n",
       "    <tr>\n",
       "      <th>0.960053</th>\n",
       "      <td>0.039947</td>\n",
       "    </tr>\n",
       "    <tr>\n",
       "      <th>0.959750</th>\n",
       "      <td>0.040250</td>\n",
       "    </tr>\n",
       "    <tr>\n",
       "      <th>0.957829</th>\n",
       "      <td>0.042171</td>\n",
       "    </tr>\n",
       "    <tr>\n",
       "      <th>0.957705</th>\n",
       "      <td>0.042295</td>\n",
       "    </tr>\n",
       "    <tr>\n",
       "      <th>0.956654</th>\n",
       "      <td>0.043346</td>\n",
       "    </tr>\n",
       "    <tr>\n",
       "      <th>0.956143</th>\n",
       "      <td>0.043857</td>\n",
       "    </tr>\n",
       "    <tr>\n",
       "      <th>0.955894</th>\n",
       "      <td>0.044106</td>\n",
       "    </tr>\n",
       "    <tr>\n",
       "      <th>0.955812</th>\n",
       "      <td>0.044188</td>\n",
       "    </tr>\n",
       "    <tr>\n",
       "      <th>0.955748</th>\n",
       "      <td>0.044252</td>\n",
       "    </tr>\n",
       "  </tbody>\n",
       "</table>\n",
       "</div>"
      ],
      "text/plain": [
       "                 0\n",
       "1                 \n",
       "0.980881  0.019119\n",
       "0.979518  0.020482\n",
       "0.976344  0.023656\n",
       "0.975200  0.024800\n",
       "0.972325  0.027675\n",
       "0.972069  0.027931\n",
       "0.967254  0.032746\n",
       "0.966392  0.033608\n",
       "0.963226  0.036774\n",
       "0.961829  0.038171\n",
       "0.961030  0.038970\n",
       "0.960053  0.039947\n",
       "0.959750  0.040250\n",
       "0.957829  0.042171\n",
       "0.957705  0.042295\n",
       "0.956654  0.043346\n",
       "0.956143  0.043857\n",
       "0.955894  0.044106\n",
       "0.955812  0.044188\n",
       "0.955748  0.044252"
      ]
     },
     "execution_count": 32,
     "metadata": {},
     "output_type": "execute_result"
    }
   ],
   "source": [
    "pred_probs.groupby(pred_probs[1]).sum().nsmallest(20,columns=0)"
   ]
  },
  {
   "cell_type": "code",
   "execution_count": null,
   "metadata": {},
   "outputs": [],
   "source": []
  }
 ],
 "metadata": {
  "kernelspec": {
   "display_name": "learn-env",
   "language": "python",
   "name": "learn-env"
  },
  "language_info": {
   "codemirror_mode": {
    "name": "ipython",
    "version": 3
   },
   "file_extension": ".py",
   "mimetype": "text/x-python",
   "name": "python",
   "nbconvert_exporter": "python",
   "pygments_lexer": "ipython3",
   "version": "3.8.5"
  }
 },
 "nbformat": 4,
 "nbformat_minor": 4
}
