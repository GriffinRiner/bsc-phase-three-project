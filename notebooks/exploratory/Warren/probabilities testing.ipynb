{
 "cells": [
  {
   "cell_type": "markdown",
   "metadata": {},
   "source": [
    "a/b testing for new models using metric: maximize precision score and output raw probabilities, get those from pred proba"
   ]
  },
  {
   "cell_type": "code",
   "execution_count": null,
   "metadata": {},
   "outputs": [],
   "source": []
  },
  {
   "cell_type": "code",
   "execution_count": 1,
   "metadata": {},
   "outputs": [],
   "source": [
    "import pandas as pd\n",
    "import numpy as np\n",
    "from joblib import dump, load"
   ]
  },
  {
   "cell_type": "code",
   "execution_count": 2,
   "metadata": {},
   "outputs": [],
   "source": [
    "X_train_sc = pd.read_csv('X_train_sc.csv')\n",
    "X_val_sc = pd.read_csv('X_val_sc.csv')\n",
    "y_train_enc = np.ravel(pd.read_csv('y_train_enc.csv'))\n",
    "y_val_enc = np.ravel(pd.read_csv('y_val_enc.csv'))\n",
    "\n",
    "\n",
    "#make train and val customer id frames and drop from data\n",
    "X_train_id = X_train_sc['customerid']\n",
    "X_train_sc.drop('customerid',axis=1,inplace=True)\n",
    "X_val_id = X_val_sc['customerid']\n",
    "X_val_sc.drop('customerid',axis=1,inplace=True)\n"
   ]
  },
  {
   "cell_type": "code",
   "execution_count": 3,
   "metadata": {},
   "outputs": [],
   "source": [
    "from imblearn.over_sampling import SMOTE\n",
    "sm = SMOTE()\n",
    "X_train_sc, y_train_enc = sm.fit_resample(X_train_sc,y_train_enc)"
   ]
  },
  {
   "cell_type": "code",
   "execution_count": 4,
   "metadata": {},
   "outputs": [],
   "source": [
    "from sklearn.linear_model import LogisticRegression\n",
    "from sklearn.model_selection import cross_val_score\n",
    "from sklearn.metrics import classification_report\n"
   ]
  },
  {
   "cell_type": "code",
   "execution_count": 5,
   "metadata": {},
   "outputs": [],
   "source": [
    "def modeler(est,X_train,y_train,X_val,y_val):\n",
    "    \n",
    "    est.fit(X_train,y_train)\n",
    "    \n",
    "    \n",
    "    train_acc_score = np.mean(cross_val_score(est,X_train,y_train,scoring='precision',cv=7,n_jobs=4))\n",
    "    val_acc_score = np.mean(cross_val_score(est,X_val,y_val,scoring='precision',cv=7,n_jobs=4))\n",
    "    diff = abs(train_acc_score - val_acc_score)\n",
    "    \n",
    "    y_val_pred = est.predict(X_val)\n",
    "    \n",
    "    \n",
    "    print(f'train precision: {round(train_acc_score,5)}')\n",
    "    print('-'*40)\n",
    "    print(f'val precision: {round(val_acc_score,5)}')\n",
    "    print('-'*40)\n",
    "    print(f'difference: {round(diff,7)}')\n",
    "    print('-'*40)\n",
    "    print(f'val report: ')\n",
    "    print(classification_report(y_val,y_val_pred))\n",
    "    print('-'*40)\n",
    "    return est"
   ]
  },
  {
   "cell_type": "markdown",
   "metadata": {},
   "source": [
    "Get probabilities for most likely to churn"
   ]
  },
  {
   "cell_type": "code",
   "execution_count": 6,
   "metadata": {},
   "outputs": [
    {
     "name": "stderr",
     "output_type": "stream",
     "text": [
      "C:\\Users\\umbac\\anaconda3\\envs\\learn-env\\lib\\site-packages\\sklearn\\linear_model\\_logistic.py:763: ConvergenceWarning: lbfgs failed to converge (status=1):\n",
      "STOP: TOTAL NO. of ITERATIONS REACHED LIMIT.\n",
      "\n",
      "Increase the number of iterations (max_iter) or scale the data as shown in:\n",
      "    https://scikit-learn.org/stable/modules/preprocessing.html\n",
      "Please also refer to the documentation for alternative solver options:\n",
      "    https://scikit-learn.org/stable/modules/linear_model.html#logistic-regression\n",
      "  n_iter_i = _check_optimize_result(\n"
     ]
    },
    {
     "name": "stdout",
     "output_type": "stream",
     "text": [
      "train precision: 0.77625\n",
      "----------------------------------------\n",
      "val precision: 0.65765\n",
      "----------------------------------------\n",
      "difference: 0.118605\n",
      "----------------------------------------\n",
      "val report: \n",
      "              precision    recall  f1-score   support\n",
      "\n",
      "           0       0.90      0.74      0.81       971\n",
      "           1       0.51      0.77      0.61       350\n",
      "\n",
      "    accuracy                           0.74      1321\n",
      "   macro avg       0.71      0.75      0.71      1321\n",
      "weighted avg       0.80      0.74      0.76      1321\n",
      "\n",
      "----------------------------------------\n"
     ]
    }
   ],
   "source": [
    "lr = LogisticRegression()\n",
    "\n",
    "est = modeler(lr,X_train_sc,y_train_enc,X_val_sc,y_val_enc)"
   ]
  },
  {
   "cell_type": "code",
   "execution_count": 7,
   "metadata": {},
   "outputs": [],
   "source": [
    "pred_probs = pd.DataFrame(est.predict_proba(X_val_sc))"
   ]
  },
  {
   "cell_type": "code",
   "execution_count": 8,
   "metadata": {},
   "outputs": [],
   "source": [
    "#add the customer ids\n",
    "pred_probs = pred_probs.join(X_val_id,how='left')"
   ]
  },
  {
   "cell_type": "code",
   "execution_count": 9,
   "metadata": {},
   "outputs": [],
   "source": [
    "most_prob = pred_probs.groupby(['customerid',1]).sum().nsmallest(20,columns=0)"
   ]
  },
  {
   "cell_type": "code",
   "execution_count": 10,
   "metadata": {},
   "outputs": [
    {
     "name": "stdout",
     "output_type": "stream",
     "text": [
      "The 20 customers most likely to churn are: ('4910-GMJOT', 0.9814132228015611)\n"
     ]
    }
   ],
   "source": [
    "print(f'The 20 customers most likely to churn are: {most_prob.index[:][0]}')"
   ]
  },
  {
   "cell_type": "code",
   "execution_count": null,
   "metadata": {},
   "outputs": [],
   "source": []
  }
 ],
 "metadata": {
  "kernelspec": {
   "display_name": "learn-env",
   "language": "python",
   "name": "learn-env"
  },
  "language_info": {
   "codemirror_mode": {
    "name": "ipython",
    "version": 3
   },
   "file_extension": ".py",
   "mimetype": "text/x-python",
   "name": "python",
   "nbconvert_exporter": "python",
   "pygments_lexer": "ipython3",
   "version": "3.8.5"
  }
 },
 "nbformat": 4,
 "nbformat_minor": 4
}
