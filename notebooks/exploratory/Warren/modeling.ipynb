{
 "cells": [
  {
   "cell_type": "code",
   "execution_count": 6,
   "metadata": {},
   "outputs": [],
   "source": [
    "import pandas as pd\n",
    "import numpy as np\n",
    "from joblib import dump, load"
   ]
  },
  {
   "cell_type": "code",
   "execution_count": 7,
   "metadata": {},
   "outputs": [],
   "source": [
    "X_train_sc = pd.read_csv('X_train_sc.csv')\n",
    "X_val_sc = pd.read_csv('X_val_sc.csv')\n",
    "y_train_enc = np.ravel(pd.read_csv('y_train_enc.csv'))\n",
    "y_val_enc = np.ravel(pd.read_csv('y_val_enc.csv'))\n",
    "\n",
    "#make train and val customer id frames and drop from data\n",
    "X_train_id = X_train_sc['customerid']\n",
    "X_train_sc.drop('customerid',axis=1,inplace=True)\n",
    "X_val_id = X_val_sc['customerid']\n",
    "X_val_sc.drop('customerid',axis=1,inplace=True)\n"
   ]
  },
  {
   "cell_type": "code",
   "execution_count": 8,
   "metadata": {},
   "outputs": [],
   "source": [
    "from sklearn.model_selection import GridSearchCV\n"
   ]
  },
  {
   "cell_type": "code",
   "execution_count": 9,
   "metadata": {},
   "outputs": [],
   "source": [
    "from imblearn.over_sampling import SMOTE\n",
    "sm = SMOTE()\n",
    "X_train_sc, y_train_enc = sm.fit_resample(X_train_sc,y_train_enc)"
   ]
  },
  {
   "cell_type": "code",
   "execution_count": 10,
   "metadata": {},
   "outputs": [
    {
     "data": {
      "text/plain": [
       "['1stlr.joblib']"
      ]
     },
     "execution_count": 10,
     "metadata": {},
     "output_type": "execute_result"
    }
   ],
   "source": [
    "from sklearn.linear_model import LogisticRegression\n",
    "from sklearn.model_selection import cross_val_score\n",
    "from sklearn.metrics import classification_report\n",
    "\n",
    "lr = LogisticRegression(solver='liblinear',C=1,tol=0.001)\n",
    "dump(lr,'1stlr.joblib')"
   ]
  },
  {
   "cell_type": "code",
   "execution_count": 11,
   "metadata": {},
   "outputs": [],
   "source": [
    "def modeler(est,X_train,y_train,X_val,y_val):\n",
    "    \n",
    "    est.fit(X_train,y_train)\n",
    "    \n",
    "    \n",
    "    train_acc_score = np.mean(cross_val_score(est,X_train,y_train,scoring='precision',cv=7,n_jobs=-1))\n",
    "    val_acc_score = np.mean(cross_val_score(est,X_val,y_val,scoring='precision',cv=7,n_jobs=4))\n",
    "    diff = abs(train_acc_score - val_acc_score)\n",
    "    \n",
    "    y_val_pred = est.predict(X_val)\n",
    "    \n",
    "    \n",
    "    print(f'train precision: {round(train_acc_score,5)}')\n",
    "    print('-'*40)\n",
    "    print(f'val precision: {round(val_acc_score,5)}')\n",
    "    print('-'*40)\n",
    "    print(f'difference: {round(diff,7)}')\n",
    "    print('-'*40)\n",
    "    print(f'val report: ')\n",
    "    print(classification_report(y_val,y_val_pred))\n",
    "    print('-'*40)\n",
    "    return est"
   ]
  },
  {
   "cell_type": "code",
   "execution_count": 12,
   "metadata": {},
   "outputs": [
    {
     "name": "stdout",
     "output_type": "stream",
     "text": [
      "train precision: 0.76871\n",
      "----------------------------------------\n",
      "val precision: 0.66031\n",
      "----------------------------------------\n",
      "difference: 0.1084043\n",
      "----------------------------------------\n",
      "val report: \n",
      "              precision    recall  f1-score   support\n",
      "\n",
      "           0       0.90      0.73      0.81       971\n",
      "           1       0.51      0.77      0.61       350\n",
      "\n",
      "    accuracy                           0.74      1321\n",
      "   macro avg       0.70      0.75      0.71      1321\n",
      "weighted avg       0.79      0.74      0.76      1321\n",
      "\n",
      "----------------------------------------\n"
     ]
    },
    {
     "data": {
      "text/plain": [
       "LogisticRegression(C=1, solver='liblinear', tol=0.001)"
      ]
     },
     "execution_count": 12,
     "metadata": {},
     "output_type": "execute_result"
    }
   ],
   "source": [
    "modeler(lr,X_train_sc,y_train_enc,X_val_sc,y_val_enc)\n"
   ]
  },
  {
   "cell_type": "markdown",
   "metadata": {},
   "source": [
    "This one is less accurate, but scores are still close. Might be good for bagging."
   ]
  },
  {
   "cell_type": "code",
   "execution_count": 7,
   "metadata": {},
   "outputs": [
    {
     "name": "stdout",
     "output_type": "stream",
     "text": [
      "train accuracy: 0.5\n",
      "----------------------------------------\n",
      "val accuracy: 0.73505\n",
      "----------------------------------------\n",
      "difference: 0.2350477\n",
      "----------------------------------------\n",
      "              precision    recall  f1-score   support\n",
      "\n",
      "           0       0.74      1.00      0.85       971\n",
      "           1       0.00      0.00      0.00       350\n",
      "\n",
      "    accuracy                           0.74      1321\n",
      "   macro avg       0.37      0.50      0.42      1321\n",
      "weighted avg       0.54      0.74      0.62      1321\n",
      "\n",
      "val report: None\n",
      "----------------------------------------\n"
     ]
    },
    {
     "name": "stderr",
     "output_type": "stream",
     "text": [
      "C:\\Users\\umbac\\anaconda3\\envs\\learn-env\\lib\\site-packages\\sklearn\\metrics\\_classification.py:1248: UndefinedMetricWarning: Precision and F-score are ill-defined and being set to 0.0 in labels with no predicted samples. Use `zero_division` parameter to control this behavior.\n",
      "  _warn_prf(average, modifier, msg_start, len(result))\n",
      "C:\\Users\\umbac\\anaconda3\\envs\\learn-env\\lib\\site-packages\\sklearn\\metrics\\_classification.py:1248: UndefinedMetricWarning: Precision and F-score are ill-defined and being set to 0.0 in labels with no predicted samples. Use `zero_division` parameter to control this behavior.\n",
      "  _warn_prf(average, modifier, msg_start, len(result))\n",
      "C:\\Users\\umbac\\anaconda3\\envs\\learn-env\\lib\\site-packages\\sklearn\\metrics\\_classification.py:1248: UndefinedMetricWarning: Precision and F-score are ill-defined and being set to 0.0 in labels with no predicted samples. Use `zero_division` parameter to control this behavior.\n",
      "  _warn_prf(average, modifier, msg_start, len(result))\n"
     ]
    },
    {
     "data": {
      "text/plain": [
       "LogisticRegression(C=1, solver='liblinear', tol=5)"
      ]
     },
     "execution_count": 7,
     "metadata": {},
     "output_type": "execute_result"
    }
   ],
   "source": [
    "lr2 = LogisticRegression(solver='liblinear',C=1,tol=5)\n",
    "modeler(lr2,X_train_sc,y_train_enc,X_val_sc,y_val_enc)\n",
    "\n",
    "dump(lr2,'2ndlr.joblib')"
   ]
  },
  {
   "cell_type": "code",
   "execution_count": 8,
   "metadata": {},
   "outputs": [],
   "source": [
    "from sklearn.linear_model import RidgeClassifier\n",
    "\n",
    "ridge = RidgeClassifier()\n"
   ]
  },
  {
   "cell_type": "code",
   "execution_count": 9,
   "metadata": {},
   "outputs": [
    {
     "name": "stdout",
     "output_type": "stream",
     "text": [
      "train accuracy: 0.79948\n",
      "----------------------------------------\n",
      "val accuracy: 0.80093\n",
      "----------------------------------------\n",
      "difference: 0.0014443\n",
      "----------------------------------------\n",
      "              precision    recall  f1-score   support\n",
      "\n",
      "           0       0.90      0.73      0.80       971\n",
      "           1       0.51      0.77      0.61       350\n",
      "\n",
      "    accuracy                           0.74      1321\n",
      "   macro avg       0.70      0.75      0.71      1321\n",
      "weighted avg       0.80      0.74      0.75      1321\n",
      "\n",
      "val report: None\n",
      "----------------------------------------\n"
     ]
    }
   ],
   "source": [
    "param_grid = {'alpha':[0.5,1], 'solver':['sparse_cg','lsqr','saga']}\n",
    "grid = GridSearchCV(ridge,param_grid,n_jobs=4,scoring='precision')\n",
    "modeler(grid,X_train_sc,y_train_enc,X_val_sc,y_val_enc)\n",
    "\n",
    "ridge_best = grid.best_estimator_\n",
    "\n",
    "dump(ridge_best,'ridge.joblib')"
   ]
  },
  {
   "cell_type": "code",
   "execution_count": 10,
   "metadata": {},
   "outputs": [
    {
     "data": {
      "text/plain": [
       "{'alpha': 1, 'solver': 'sparse_cg'}"
      ]
     },
     "execution_count": 10,
     "metadata": {},
     "output_type": "execute_result"
    }
   ],
   "source": [
    "grid.best_params_"
   ]
  },
  {
   "cell_type": "code",
   "execution_count": 11,
   "metadata": {},
   "outputs": [
    {
     "name": "stdout",
     "output_type": "stream",
     "text": [
      "train accuracy: 0.80103\n",
      "----------------------------------------\n",
      "val accuracy: 0.80015\n",
      "----------------------------------------\n",
      "difference: 0.0008807\n",
      "----------------------------------------\n",
      "              precision    recall  f1-score   support\n",
      "\n",
      "           0       0.90      0.73      0.81       971\n",
      "           1       0.51      0.77      0.61       350\n",
      "\n",
      "    accuracy                           0.74      1321\n",
      "   macro avg       0.70      0.75      0.71      1321\n",
      "weighted avg       0.80      0.74      0.76      1321\n",
      "\n",
      "val report: None\n",
      "----------------------------------------\n"
     ]
    }
   ],
   "source": [
    "lr3 = LogisticRegression()\n",
    "param_grid = {'C':[0.01,1], 'solver':['liblinear']}\n",
    "grid = GridSearchCV(lr3,param_grid,n_jobs=4,scoring='precision')\n",
    "modeler(grid,X_train_sc,y_train_enc,X_val_sc,y_val_enc)\n",
    "lr3_best = grid.best_estimator_\n",
    "\n",
    "dump(lr3_best.'3rdlr.joblib')"
   ]
  },
  {
   "cell_type": "code",
   "execution_count": 12,
   "metadata": {},
   "outputs": [
    {
     "data": {
      "text/plain": [
       "{'C': 1, 'solver': 'liblinear'}"
      ]
     },
     "execution_count": 12,
     "metadata": {},
     "output_type": "execute_result"
    }
   ],
   "source": [
    "grid.best_params_"
   ]
  },
  {
   "cell_type": "code",
   "execution_count": 13,
   "metadata": {},
   "outputs": [
    {
     "name": "stdout",
     "output_type": "stream",
     "text": [
      "train accuracy: 0.79914\n",
      "----------------------------------------\n",
      "val accuracy: 0.80089\n",
      "----------------------------------------\n",
      "difference: 0.0017523\n",
      "----------------------------------------\n",
      "              precision    recall  f1-score   support\n",
      "\n",
      "           0       0.90      0.73      0.81       971\n",
      "           1       0.51      0.78      0.61       350\n",
      "\n",
      "    accuracy                           0.74      1321\n",
      "   macro avg       0.70      0.75      0.71      1321\n",
      "weighted avg       0.80      0.74      0.76      1321\n",
      "\n",
      "val report: None\n",
      "----------------------------------------\n"
     ]
    }
   ],
   "source": [
    "from sklearn.linear_model import SGDClassifier\n",
    "\n",
    "sgd = SGDClassifier()\n",
    "\n",
    "param_grid = {'loss':['modified_huber'],\n",
    "             'penalty':['l2'],\n",
    "             'alpha':[0.001,1,10],\n",
    "             'learning_rate':['adaptive'],\n",
    "             'eta0':[1]}\n",
    "grid = GridSearchCV(sgd,param_grid,n_jobs=4,scoring='precision')\n",
    "modeler(grid,X_train_sc,y_train_enc,X_val_sc,y_val_enc)\n",
    "sgd_best = grid.best_estimator_\n",
    "\n",
    "dump(sgd_best,'sgd.joblib')"
   ]
  },
  {
   "cell_type": "code",
   "execution_count": 14,
   "metadata": {},
   "outputs": [
    {
     "data": {
      "text/plain": [
       "{'alpha': 0.001,\n",
       " 'eta0': 1,\n",
       " 'learning_rate': 'adaptive',\n",
       " 'loss': 'modified_huber',\n",
       " 'penalty': 'l2'}"
      ]
     },
     "execution_count": 14,
     "metadata": {},
     "output_type": "execute_result"
    }
   ],
   "source": [
    "grid.best_params_"
   ]
  },
  {
   "cell_type": "code",
   "execution_count": 15,
   "metadata": {},
   "outputs": [
    {
     "name": "stdout",
     "output_type": "stream",
     "text": [
      "train accuracy: 0.80052\n",
      "----------------------------------------\n",
      "val accuracy: 0.79335\n",
      "----------------------------------------\n",
      "difference: 0.0071631\n",
      "----------------------------------------\n",
      "              precision    recall  f1-score   support\n",
      "\n",
      "           0       0.90      0.71      0.79       971\n",
      "           1       0.49      0.79      0.61       350\n",
      "\n",
      "    accuracy                           0.73      1321\n",
      "   macro avg       0.70      0.75      0.70      1321\n",
      "weighted avg       0.79      0.73      0.74      1321\n",
      "\n",
      "val report: None\n",
      "----------------------------------------\n"
     ]
    }
   ],
   "source": [
    "from sklearn.svm import SVC\n",
    "\n",
    "svc = SVC()\n",
    "\n",
    "param_grid = {'kernel':['linear'],\n",
    "             'C':[0.01,1]}\n",
    "grid = GridSearchCV(svc,param_grid,n_jobs=4,scoring='precision')\n",
    "modeler(grid,X_train_sc,y_train_enc,X_val_sc,y_val_enc)\n",
    "svc_best = grid.best_estimator_\n",
    "\n",
    "dump(svc_best,'svc.joblib')"
   ]
  },
  {
   "cell_type": "code",
   "execution_count": 16,
   "metadata": {},
   "outputs": [
    {
     "data": {
      "text/plain": [
       "{'C': 1, 'kernel': 'linear'}"
      ]
     },
     "execution_count": 16,
     "metadata": {},
     "output_type": "execute_result"
    }
   ],
   "source": [
    "grid.best_params_"
   ]
  },
  {
   "cell_type": "code",
   "execution_count": 17,
   "metadata": {},
   "outputs": [
    {
     "name": "stdout",
     "output_type": "stream",
     "text": [
      "train accuracy: 0.82048\n",
      "----------------------------------------\n",
      "val accuracy: 0.74488\n",
      "----------------------------------------\n",
      "difference: 0.0756001\n",
      "----------------------------------------\n",
      "              precision    recall  f1-score   support\n",
      "\n",
      "           0       0.88      0.72      0.79       971\n",
      "           1       0.48      0.72      0.58       350\n",
      "\n",
      "    accuracy                           0.72      1321\n",
      "   macro avg       0.68      0.72      0.69      1321\n",
      "weighted avg       0.77      0.72      0.74      1321\n",
      "\n",
      "val report: None\n",
      "----------------------------------------\n"
     ]
    }
   ],
   "source": [
    "from sklearn.neighbors import KNeighborsClassifier\n",
    "\n",
    "knn = KNeighborsClassifier()\n",
    "\n",
    "param_grid = {'n_neighbors':[3,5,7],\n",
    "             'weights':['uniform','distance'],\n",
    "             'algorithm':['kd_tree'],\n",
    "             'leaf_size':[15,30],\n",
    "             'p':[1]}\n",
    "grid = GridSearchCV(knn,param_grid,n_jobs=4,scoring='precision')\n",
    "modeler(grid,X_train_sc,y_train_enc,X_val_sc,y_val_enc)\n",
    "knn_best = grid.best_estimator_\n",
    "\n",
    "dump(knn_best,'knn.joblisb')"
   ]
  },
  {
   "cell_type": "code",
   "execution_count": 18,
   "metadata": {},
   "outputs": [
    {
     "data": {
      "text/plain": [
       "{'algorithm': 'kd_tree',\n",
       " 'leaf_size': 15,\n",
       " 'n_neighbors': 5,\n",
       " 'p': 1,\n",
       " 'weights': 'uniform'}"
      ]
     },
     "execution_count": 18,
     "metadata": {},
     "output_type": "execute_result"
    }
   ],
   "source": [
    "grid.best_params_"
   ]
  },
  {
   "cell_type": "code",
   "execution_count": 19,
   "metadata": {},
   "outputs": [],
   "source": [
    "# from sklearn.gaussian_process import GaussianProcessClassifier\n",
    "\n",
    "# gp = GaussianProcessClassifier()\n",
    "\n",
    "# param_grid = {'n_restarts_optimizer':[0]}\n",
    "# grid = GridSearchCV(gp,param_grid,n_jobs=-1,scoring='accuracy')\n",
    "# modeler(grid,X_train_sc,y_train_enc,X_val_sc,y_val_enc)\n",
    "# gp_best = grid.best_estimator_\n"
   ]
  },
  {
   "cell_type": "code",
   "execution_count": 20,
   "metadata": {},
   "outputs": [
    {
     "name": "stdout",
     "output_type": "stream",
     "text": [
      "train accuracy: 0.78141\n",
      "----------------------------------------\n",
      "val accuracy: 0.76461\n",
      "----------------------------------------\n",
      "difference: 0.0168048\n",
      "----------------------------------------\n",
      "              precision    recall  f1-score   support\n",
      "\n",
      "           0       0.90      0.74      0.81       971\n",
      "           1       0.51      0.77      0.61       350\n",
      "\n",
      "    accuracy                           0.74      1321\n",
      "   macro avg       0.70      0.75      0.71      1321\n",
      "weighted avg       0.79      0.74      0.76      1321\n",
      "\n",
      "val report: None\n",
      "----------------------------------------\n"
     ]
    }
   ],
   "source": [
    "from sklearn.naive_bayes import GaussianNB\n",
    "\n",
    "nb = GaussianNB()\n",
    "\n",
    "param_grid = {'var_smoothing':[0.0001,0.01,1]}\n",
    "\n",
    "grid = GridSearchCV(nb,param_grid,n_jobs=4,scoring='precision')\n",
    "modeler(grid,X_train_sc,y_train_enc,X_val_sc,y_val_enc)\n",
    "nb_best = grid.best_estimator_\n",
    "\n",
    "dump(nb_best,'nb.joblib')"
   ]
  },
  {
   "cell_type": "code",
   "execution_count": 21,
   "metadata": {},
   "outputs": [
    {
     "name": "stdout",
     "output_type": "stream",
     "text": [
      "train accuracy: 0.73666\n",
      "----------------------------------------\n",
      "val accuracy: 0.76834\n",
      "----------------------------------------\n",
      "difference: 0.0316807\n",
      "----------------------------------------\n",
      "              precision    recall  f1-score   support\n",
      "\n",
      "           0       0.88      0.63      0.73       971\n",
      "           1       0.43      0.75      0.54       350\n",
      "\n",
      "    accuracy                           0.66      1321\n",
      "   macro avg       0.65      0.69      0.64      1321\n",
      "weighted avg       0.76      0.66      0.68      1321\n",
      "\n",
      "val report: None\n",
      "----------------------------------------\n"
     ]
    }
   ],
   "source": [
    "from sklearn.tree import DecisionTreeClassifier\n",
    "\n",
    "tree = DecisionTreeClassifier()\n",
    "\n",
    "param_grid = {'criterion':['gini','entropy'],\n",
    "             'splitter':['best'],\n",
    "             'max_depth':[2,3,4],\n",
    "             'max_features':['auto','sqrt']}\n",
    "\n",
    "grid = GridSearchCV(tree,param_grid,n_jobs=4,scoring='precision')\n",
    "modeler(grid,X_train_sc,y_train_enc,X_val_sc,y_val_enc)\n",
    "tree_best = grid.best_estimator_\n",
    "\n",
    "dump(tree_best,'tree.joblib')"
   ]
  },
  {
   "cell_type": "code",
   "execution_count": 22,
   "metadata": {},
   "outputs": [
    {
     "name": "stdout",
     "output_type": "stream",
     "text": [
      "train accuracy: 0.78434\n",
      "----------------------------------------\n",
      "val accuracy: 0.77973\n",
      "----------------------------------------\n",
      "difference: 0.0046056\n",
      "----------------------------------------\n",
      "              precision    recall  f1-score   support\n",
      "\n",
      "           0       0.91      0.71      0.80       971\n",
      "           1       0.50      0.80      0.62       350\n",
      "\n",
      "    accuracy                           0.74      1321\n",
      "   macro avg       0.70      0.76      0.71      1321\n",
      "weighted avg       0.80      0.74      0.75      1321\n",
      "\n",
      "val report: None\n",
      "----------------------------------------\n"
     ]
    }
   ],
   "source": [
    "from sklearn.ensemble import RandomForestClassifier\n",
    "\n",
    "rfr = RandomForestClassifier()\n",
    "\n",
    "param_grid = {'n_estimators':[100,200],\n",
    "             'criterion':['gini','entropy'],\n",
    "             'max_depth':[2,3,4],\n",
    "             'max_features':['sqrt']}\n",
    "\n",
    "grid = GridSearchCV(rfr,param_grid,n_jobs=4,scoring='precision')\n",
    "modeler(grid,X_train_sc,y_train_enc,X_val_sc,y_val_enc)\n",
    "rfr_best = grid.best_estimator_\n",
    "\n",
    "dump(rfr_best,'rfr.joblib')"
   ]
  },
  {
   "cell_type": "code",
   "execution_count": 23,
   "metadata": {},
   "outputs": [
    {
     "name": "stdout",
     "output_type": "stream",
     "text": [
      "train accuracy: 0.78468\n",
      "----------------------------------------\n",
      "val accuracy: 0.76911\n",
      "----------------------------------------\n",
      "difference: 0.015572\n",
      "----------------------------------------\n",
      "              precision    recall  f1-score   support\n",
      "\n",
      "           0       0.91      0.70      0.79       971\n",
      "           1       0.49      0.80      0.61       350\n",
      "\n",
      "    accuracy                           0.72      1321\n",
      "   macro avg       0.70      0.75      0.70      1321\n",
      "weighted avg       0.80      0.72      0.74      1321\n",
      "\n",
      "val report: None\n",
      "----------------------------------------\n"
     ]
    }
   ],
   "source": [
    "from sklearn.ensemble import ExtraTreesClassifier\n",
    "\n",
    "etree = ExtraTreesClassifier()\n",
    "param_grid = {'n_estimators':[100],\n",
    "             'criterion':['gini','entropy'],\n",
    "             'max_depth':[2,3,4],\n",
    "             'max_features':['sqrt']}\n",
    "\n",
    "grid = GridSearchCV(etree,param_grid,n_jobs=4,scoring='precision')\n",
    "modeler(grid,X_train_sc,y_train_enc,X_val_sc,y_val_enc)\n",
    "etree_best = grid.best_estimator_\n",
    "\n",
    "dump(etree_best,'etree.joblib')"
   ]
  },
  {
   "cell_type": "code",
   "execution_count": 24,
   "metadata": {},
   "outputs": [
    {
     "data": {
      "text/plain": [
       "{'criterion': 'gini',\n",
       " 'max_depth': 3,\n",
       " 'max_features': 'sqrt',\n",
       " 'n_estimators': 100}"
      ]
     },
     "execution_count": 24,
     "metadata": {},
     "output_type": "execute_result"
    }
   ],
   "source": [
    "grid.best_params_"
   ]
  },
  {
   "cell_type": "code",
   "execution_count": 25,
   "metadata": {},
   "outputs": [
    {
     "name": "stdout",
     "output_type": "stream",
     "text": [
      "train accuracy: 0.78348\n",
      "----------------------------------------\n",
      "val accuracy: 0.77746\n",
      "----------------------------------------\n",
      "difference: 0.0060126\n",
      "----------------------------------------\n",
      "              precision    recall  f1-score   support\n",
      "\n",
      "           0       0.91      0.64      0.76       971\n",
      "           1       0.46      0.83      0.59       350\n",
      "\n",
      "    accuracy                           0.69      1321\n",
      "   macro avg       0.69      0.74      0.67      1321\n",
      "weighted avg       0.79      0.69      0.71      1321\n",
      "\n",
      "val report: None\n",
      "----------------------------------------\n"
     ]
    },
    {
     "data": {
      "text/plain": [
       "XGBClassifier(base_score=0.5, booster='gbtree', colsample_bylevel=1,\n",
       "              colsample_bynode=1, colsample_bytree=1, eta=0.01, gamma=1,\n",
       "              gpu_id=-1, importance_type='gain', interaction_constraints='',\n",
       "              learning_rate=0.00999999978, max_delta_step=0, max_depth=2,\n",
       "              min_child_weight=1, missing=nan, monotone_constraints='()',\n",
       "              n_estimators=200, n_jobs=4, num_parallel_tree=1, random_state=0,\n",
       "              reg_alpha=0, reg_lambda=1, scale_pos_weight=1, subsample=1,\n",
       "              tree_method='exact', validate_parameters=1, verbosity=None)"
      ]
     },
     "execution_count": 25,
     "metadata": {},
     "output_type": "execute_result"
    }
   ],
   "source": [
    "import xgboost as xgb\n",
    "boost_model = xgb.XGBClassifier(max_depth=2,n_estimators=200, eta=0.01, gamma=1,n_jobs=4)\n",
    "modeler(boost_model,X_train_sc,y_train_enc,X_val_sc,y_val_enc)\n"
   ]
  },
  {
   "cell_type": "code",
   "execution_count": 26,
   "metadata": {},
   "outputs": [
    {
     "name": "stdout",
     "output_type": "stream",
     "text": [
      "train accuracy: 0.80017\n",
      "----------------------------------------\n",
      "val accuracy: 0.80166\n",
      "----------------------------------------\n",
      "difference: 0.0014876\n",
      "----------------------------------------\n",
      "              precision    recall  f1-score   support\n",
      "\n",
      "           0       0.90      0.73      0.81       971\n",
      "           1       0.51      0.77      0.61       350\n",
      "\n",
      "    accuracy                           0.74      1321\n",
      "   macro avg       0.70      0.75      0.71      1321\n",
      "weighted avg       0.80      0.74      0.76      1321\n",
      "\n",
      "val report: None\n",
      "----------------------------------------\n"
     ]
    },
    {
     "data": {
      "text/plain": [
       "AdaBoostClassifier(base_estimator=DecisionTreeClassifier(max_depth=1,\n",
       "                                                         max_features='sqrt',\n",
       "                                                         random_state=1),\n",
       "                   learning_rate=0.1, n_estimators=500, random_state=1)"
      ]
     },
     "execution_count": 26,
     "metadata": {},
     "output_type": "execute_result"
    }
   ],
   "source": [
    "from sklearn.ensemble import AdaBoostClassifier\n",
    "\n",
    "adatree = DecisionTreeClassifier(max_depth=1,criterion='gini',max_features='sqrt',random_state=1)\n",
    "\n",
    "ada = AdaBoostClassifier(base_estimator=adatree,n_estimators=500,learning_rate=0.1,random_state=1)\n",
    "\n",
    "modeler(ada,X_train_sc,y_train_enc,X_val_sc,y_val_enc)"
   ]
  },
  {
   "cell_type": "code",
   "execution_count": 27,
   "metadata": {},
   "outputs": [
    {
     "name": "stdout",
     "output_type": "stream",
     "text": [
      "train accuracy: 0.85456\n",
      "----------------------------------------\n",
      "val accuracy: 0.80168\n",
      "----------------------------------------\n",
      "difference: 0.0528813\n",
      "----------------------------------------\n",
      "              precision    recall  f1-score   support\n",
      "\n",
      "           0       0.85      0.85      0.85       971\n",
      "           1       0.59      0.59      0.59       350\n",
      "\n",
      "    accuracy                           0.78      1321\n",
      "   macro avg       0.72      0.72      0.72      1321\n",
      "weighted avg       0.78      0.78      0.78      1321\n",
      "\n",
      "val report: None\n",
      "----------------------------------------\n"
     ]
    },
    {
     "data": {
      "text/plain": [
       "StackingClassifier(estimators=[('ridge',\n",
       "                                RidgeClassifier(alpha=1, solver='sparse_cg')),\n",
       "                               ('lr',\n",
       "                                LogisticRegression(C=1, solver='liblinear',\n",
       "                                                   tol=0.001)),\n",
       "                               ('sgd',\n",
       "                                SGDClassifier(alpha=0.001, eta0=1,\n",
       "                                              learning_rate='adaptive',\n",
       "                                              loss='modified_huber')),\n",
       "                               ('svc', SVC(C=1, kernel='linear')),\n",
       "                               ('knn',\n",
       "                                KNeighborsClassifier(algorithm='kd_tree',\n",
       "                                                     leaf_size=15, p=1)),\n",
       "                               ('nb', GaussianNB...\n",
       "                                              num_parallel_tree=1,\n",
       "                                              random_state=0, reg_alpha=0,\n",
       "                                              reg_lambda=1, scale_pos_weight=1,\n",
       "                                              subsample=1, tree_method='exact',\n",
       "                                              validate_parameters=1,\n",
       "                                              verbosity=None)),\n",
       "                               ('ada',\n",
       "                                AdaBoostClassifier(base_estimator=DecisionTreeClassifier(max_depth=1,\n",
       "                                                                                         max_features='sqrt',\n",
       "                                                                                         random_state=1),\n",
       "                                                   learning_rate=0.1,\n",
       "                                                   n_estimators=500,\n",
       "                                                   random_state=1)),\n",
       "                               ('etree', ExtraTreesClassifier())],\n",
       "                   n_jobs=4)"
      ]
     },
     "execution_count": 27,
     "metadata": {},
     "output_type": "execute_result"
    }
   ],
   "source": [
    "from sklearn.ensemble import StackingClassifier\n",
    "\n",
    "best_estimators = [('ridge',ridge_best),\n",
    "                   ('lr',lr),\n",
    "                   ('sgd',sgd_best),\n",
    "                   ('svc',svc_best),\n",
    "                   ('knn',knn_best),\n",
    "                   ('nb',nb_best),\n",
    "                   ('tree',tree_best),\n",
    "                   ('rfr',rfr_best),\n",
    "                   ('xgb',boost_model),\n",
    "                   ('ada',ada),\n",
    "                  ('etree',etree)]\n",
    "\n",
    "stack = StackingClassifier(estimators=best_estimators,n_jobs=4)\n",
    "\n",
    "modeler(stack,X_train_sc,y_train_enc,X_val_sc,y_val_enc)"
   ]
  },
  {
   "cell_type": "code",
   "execution_count": null,
   "metadata": {},
   "outputs": [],
   "source": []
  },
  {
   "cell_type": "code",
   "execution_count": null,
   "metadata": {},
   "outputs": [],
   "source": []
  },
  {
   "cell_type": "code",
   "execution_count": null,
   "metadata": {},
   "outputs": [],
   "source": []
  },
  {
   "cell_type": "code",
   "execution_count": null,
   "metadata": {},
   "outputs": [],
   "source": []
  },
  {
   "cell_type": "code",
   "execution_count": null,
   "metadata": {},
   "outputs": [],
   "source": []
  },
  {
   "cell_type": "code",
   "execution_count": null,
   "metadata": {},
   "outputs": [],
   "source": []
  }
 ],
 "metadata": {
  "kernelspec": {
   "display_name": "learn-env",
   "language": "python",
   "name": "learn-env"
  },
  "language_info": {
   "codemirror_mode": {
    "name": "ipython",
    "version": 3
   },
   "file_extension": ".py",
   "mimetype": "text/x-python",
   "name": "python",
   "nbconvert_exporter": "python",
   "pygments_lexer": "ipython3",
   "version": "3.8.5"
  }
 },
 "nbformat": 4,
 "nbformat_minor": 4
}
