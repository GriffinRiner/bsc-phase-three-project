{
 "cells": [
  {
   "cell_type": "markdown",
   "metadata": {},
   "source": [
    "This notebook handles all modeling. I tried most classification models on sklearn as well as some ensemble methods. Each model was tuned for precision using a gridsearch when available. the fitted models were saved to the models folder so that they can be analyzed in the roc_auc notebook."
   ]
  },
  {
   "cell_type": "code",
   "execution_count": 8,
   "metadata": {},
   "outputs": [],
   "source": [
    "import pandas as pd\n",
    "import numpy as np\n",
    "from joblib import dump, load"
   ]
  },
  {
   "cell_type": "markdown",
   "metadata": {},
   "source": [
    "Increase regularization for all models\n",
    "also try not using smote"
   ]
  },
  {
   "cell_type": "code",
   "execution_count": 2,
   "metadata": {},
   "outputs": [],
   "source": [
    "X_train_sc = pd.read_csv('X_train_sc.csv')\n",
    "X_val_sc = pd.read_csv('X_val_sc.csv')\n",
    "y_train_enc = np.ravel(pd.read_csv('y_train_enc.csv'))\n",
    "y_val_enc = np.ravel(pd.read_csv('y_val_enc.csv'))\n",
    "\n",
    "#make train and val customer id frames and drop from data\n",
    "X_train_id = X_train_sc['customerid']\n",
    "X_train_sc.drop('customerid',axis=1,inplace=True)\n",
    "X_val_id = X_val_sc['customerid']\n",
    "X_val_sc.drop('customerid',axis=1,inplace=True)\n"
   ]
  },
  {
   "cell_type": "code",
   "execution_count": 3,
   "metadata": {},
   "outputs": [],
   "source": [
    "from sklearn.model_selection import GridSearchCV\n",
    "from sklearn.ensemble import BaggingClassifier"
   ]
  },
  {
   "cell_type": "markdown",
   "metadata": {},
   "source": [
    "I tried using smote to resample the data because there is an imbalance between ones and zeros, but it did not help the scores."
   ]
  },
  {
   "cell_type": "code",
   "execution_count": 4,
   "metadata": {},
   "outputs": [],
   "source": [
    "# from imblearn.over_sampling import SMOTE\n",
    "# sm = SMOTE()\n",
    "# X_train_sc, y_train_enc = sm.fit_resample(X_train_sc,y_train_enc)"
   ]
  },
  {
   "cell_type": "code",
   "execution_count": 5,
   "metadata": {},
   "outputs": [],
   "source": [
    "from sklearn.linear_model import LogisticRegression\n",
    "from sklearn.model_selection import cross_val_score\n",
    "from sklearn.metrics import classification_report\n",
    "\n"
   ]
  },
  {
   "cell_type": "markdown",
   "metadata": {},
   "source": [
    "This function fits the model and scores the train and validation precision. It also gives a report on the model."
   ]
  },
  {
   "cell_type": "code",
   "execution_count": 6,
   "metadata": {},
   "outputs": [],
   "source": [
    "def modeler(est,X_train,y_train,X_val,y_val):\n",
    "    \n",
    "    est.fit(X_train,y_train)\n",
    "    \n",
    "    \n",
    "    train_acc_score = np.mean(cross_val_score(est,X_train,y_train,scoring='precision',cv=7,n_jobs=-1))\n",
    "    val_acc_score = np.mean(cross_val_score(est,X_val,y_val,scoring='precision',cv=7,n_jobs=4))\n",
    "    diff = abs(train_acc_score - val_acc_score)\n",
    "    \n",
    "    y_val_pred = est.predict(X_val)\n",
    "    \n",
    "    \n",
    "    print(f'train precision: {round(train_acc_score,5)}')\n",
    "    print('-'*40)\n",
    "    print(f'val precision: {round(val_acc_score,5)}')\n",
    "    print('-'*40)\n",
    "    print(f'difference: {round(diff,7)}')\n",
    "    print('-'*40)\n",
    "    print(f'val report: ')\n",
    "    print(classification_report(y_val,y_val_pred))\n",
    "    print('-'*40)\n",
    "    return est"
   ]
  },
  {
   "cell_type": "markdown",
   "metadata": {},
   "source": [
    "This is where the models begin."
   ]
  },
  {
   "cell_type": "code",
   "execution_count": 7,
   "metadata": {},
   "outputs": [
    {
     "name": "stdout",
     "output_type": "stream",
     "text": [
      "train precision: 0.67286\n",
      "----------------------------------------\n",
      "val precision: 0.65909\n",
      "----------------------------------------\n",
      "difference: 0.0137675\n",
      "----------------------------------------\n",
      "val report: \n",
      "              precision    recall  f1-score   support\n",
      "\n",
      "           0       0.86      0.90      0.88       971\n",
      "           1       0.67      0.58      0.62       350\n",
      "\n",
      "    accuracy                           0.81      1321\n",
      "   macro avg       0.76      0.74      0.75      1321\n",
      "weighted avg       0.81      0.81      0.81      1321\n",
      "\n",
      "----------------------------------------\n"
     ]
    },
    {
     "data": {
      "text/plain": [
       "['models/best_lr.joblib']"
      ]
     },
     "execution_count": 7,
     "metadata": {},
     "output_type": "execute_result"
    }
   ],
   "source": [
    "lr = LogisticRegression(random_state=1,solver='liblinear',C=1,tol=0.001)\n",
    "\n",
    "modeler(lr,X_train_sc,y_train_enc,X_val_sc,y_val_enc)\n",
    "dump(lr,'models/best_lr.joblib')"
   ]
  },
  {
   "cell_type": "markdown",
   "metadata": {},
   "source": [
    "This one is less accurate, but scores are still close. Might be good for bagging."
   ]
  },
  {
   "cell_type": "code",
   "execution_count": 70,
   "metadata": {},
   "outputs": [
    {
     "name": "stdout",
     "output_type": "stream",
     "text": [
      "train precision: 0.78172\n",
      "----------------------------------------\n",
      "val precision: 0.87245\n",
      "----------------------------------------\n",
      "difference: 0.0907296\n",
      "----------------------------------------\n",
      "val report: \n",
      "              precision    recall  f1-score   support\n",
      "\n",
      "           0       0.81      0.95      0.87       971\n",
      "           1       0.73      0.36      0.48       350\n",
      "\n",
      "    accuracy                           0.79      1321\n",
      "   macro avg       0.77      0.66      0.68      1321\n",
      "weighted avg       0.78      0.79      0.77      1321\n",
      "\n",
      "----------------------------------------\n"
     ]
    },
    {
     "data": {
      "text/plain": [
       "['models/lr_bag.joblib']"
      ]
     },
     "execution_count": 70,
     "metadata": {},
     "output_type": "execute_result"
    }
   ],
   "source": [
    "#bag the above model\n",
    "\n",
    "lr2 = LogisticRegression(penalty='l2',\n",
    "                         random_state=1,\n",
    "                         solver='saga',\n",
    "                         C=0.002,\n",
    "                         tol=0.01)\n",
    "\n",
    "bag = BaggingClassifier(lr2,n_estimators=100,\n",
    "                        max_features=0.9,\n",
    "                        bootstrap_features=False,\n",
    "                        oob_score=True,\n",
    "                        n_jobs=4,\n",
    "                        random_state=1)\n",
    "\n",
    "lrbag = modeler(bag,X_train_sc,y_train_enc,X_val_sc,y_val_enc)\n",
    "\n",
    "dump(lrbag,'models/lr_bag.joblib')"
   ]
  },
  {
   "cell_type": "code",
   "execution_count": 40,
   "metadata": {},
   "outputs": [],
   "source": [
    "from sklearn.linear_model import RidgeClassifier\n",
    "\n",
    "ridge = RidgeClassifier(random_state=1)\n"
   ]
  },
  {
   "cell_type": "code",
   "execution_count": 42,
   "metadata": {},
   "outputs": [
    {
     "name": "stdout",
     "output_type": "stream",
     "text": [
      "train precision: 0.73525\n",
      "----------------------------------------\n",
      "val precision: 0.77917\n",
      "----------------------------------------\n",
      "difference: 0.0439247\n",
      "----------------------------------------\n",
      "val report: \n",
      "              precision    recall  f1-score   support\n",
      "\n",
      "           0       0.82      0.94      0.87       971\n",
      "           1       0.70      0.42      0.53       350\n",
      "\n",
      "    accuracy                           0.80      1321\n",
      "   macro avg       0.76      0.68      0.70      1321\n",
      "weighted avg       0.79      0.80      0.78      1321\n",
      "\n",
      "----------------------------------------\n"
     ]
    },
    {
     "data": {
      "text/plain": [
       "['models/ridge_bag.joblib']"
      ]
     },
     "execution_count": 42,
     "metadata": {},
     "output_type": "execute_result"
    }
   ],
   "source": [
    "param_grid = {'alpha':[1000], 'solver':['saga']}\n",
    "\n",
    "grid = GridSearchCV(ridge,param_grid,n_jobs=4,scoring='precision')\n",
    "\n",
    "\n",
    "\n",
    "ridge_bag = BaggingClassifier(grid,n_estimators=100,n_jobs=4,max_features=0.8)\n",
    "\n",
    "\n",
    "\n",
    "\n",
    "modeler(ridge_bag,X_train_sc,y_train_enc,X_val_sc,y_val_enc)\n",
    "\n",
    "# ridge_bag = ridge_bag.best_estimator_\n",
    "\n",
    "dump(ridge_bag,'models/ridge_bag.joblib')"
   ]
  },
  {
   "cell_type": "code",
   "execution_count": null,
   "metadata": {},
   "outputs": [],
   "source": [
    "grid.best_params_"
   ]
  },
  {
   "cell_type": "code",
   "execution_count": 12,
   "metadata": {},
   "outputs": [
    {
     "name": "stdout",
     "output_type": "stream",
     "text": [
      "train precision: 0.74518\n",
      "----------------------------------------\n",
      "val precision: 0.0\n",
      "----------------------------------------\n",
      "difference: 0.7451807\n",
      "----------------------------------------\n",
      "val report: \n",
      "              precision    recall  f1-score   support\n",
      "\n",
      "           0       0.82      0.94      0.87       971\n",
      "           1       0.70      0.42      0.52       350\n",
      "\n",
      "    accuracy                           0.80      1321\n",
      "   macro avg       0.76      0.68      0.70      1321\n",
      "weighted avg       0.79      0.80      0.78      1321\n",
      "\n",
      "----------------------------------------\n"
     ]
    },
    {
     "data": {
      "text/plain": [
       "['models/3rdlr.joblib']"
      ]
     },
     "execution_count": 12,
     "metadata": {},
     "output_type": "execute_result"
    }
   ],
   "source": [
    "lr3 = LogisticRegression(random_state=1)\n",
    "param_grid = {\n",
    "    'penalty':['l1'],\n",
    "    'C':[0.01],\n",
    "    'solver':['saga']}\n",
    "\n",
    "\n",
    "grid = GridSearchCV(lr3,param_grid,n_jobs=4,scoring='precision')\n",
    "modeler(grid,X_train_sc,y_train_enc,X_val_sc,y_val_enc)\n",
    "lr3_best = grid.best_estimator_\n",
    "\n",
    "dump(lr3_best,'models/3rdlr.joblib')"
   ]
  },
  {
   "cell_type": "code",
   "execution_count": 13,
   "metadata": {},
   "outputs": [
    {
     "data": {
      "text/plain": [
       "{'C': 0.01, 'penalty': 'l1', 'solver': 'saga'}"
      ]
     },
     "execution_count": 13,
     "metadata": {},
     "output_type": "execute_result"
    }
   ],
   "source": [
    "grid.best_params_"
   ]
  },
  {
   "cell_type": "code",
   "execution_count": 14,
   "metadata": {},
   "outputs": [
    {
     "name": "stdout",
     "output_type": "stream",
     "text": [
      "train precision: 0.80703\n",
      "----------------------------------------\n",
      "val precision: 0.77804\n",
      "----------------------------------------\n",
      "difference: 0.0289827\n",
      "----------------------------------------\n",
      "val report: \n",
      "              precision    recall  f1-score   support\n",
      "\n",
      "           0       0.78      0.98      0.86       971\n",
      "           1       0.77      0.21      0.34       350\n",
      "\n",
      "    accuracy                           0.78      1321\n",
      "   macro avg       0.77      0.60      0.60      1321\n",
      "weighted avg       0.77      0.78      0.72      1321\n",
      "\n",
      "----------------------------------------\n"
     ]
    },
    {
     "data": {
      "text/plain": [
       "['models/sgd.joblib']"
      ]
     },
     "execution_count": 14,
     "metadata": {},
     "output_type": "execute_result"
    }
   ],
   "source": [
    "from sklearn.linear_model import SGDClassifier\n",
    "\n",
    "sgd = SGDClassifier(random_state=1)\n",
    "\n",
    "param_grid = {'loss':['modified_huber'],\n",
    "             'penalty':['elasticnet'],\n",
    "             'alpha':[1.5],\n",
    "              'l1_ratio':[0.05],\n",
    "             'learning_rate':['adaptive'],\n",
    "             'eta0':[1]}\n",
    "grid = GridSearchCV(sgd,param_grid,n_jobs=4,scoring='precision')\n",
    "modeler(grid,X_train_sc,y_train_enc,X_val_sc,y_val_enc)\n",
    "sgd_best = grid.best_estimator_\n",
    "\n",
    "dump(sgd_best,'models/sgd.joblib')"
   ]
  },
  {
   "cell_type": "code",
   "execution_count": 15,
   "metadata": {},
   "outputs": [
    {
     "data": {
      "text/plain": [
       "{'alpha': 1.5,\n",
       " 'eta0': 1,\n",
       " 'l1_ratio': 0.05,\n",
       " 'learning_rate': 'adaptive',\n",
       " 'loss': 'modified_huber',\n",
       " 'penalty': 'elasticnet'}"
      ]
     },
     "execution_count": 15,
     "metadata": {},
     "output_type": "execute_result"
    }
   ],
   "source": [
    "grid.best_params_"
   ]
  },
  {
   "cell_type": "markdown",
   "metadata": {},
   "source": [
    "These are the params that Griffin found"
   ]
  },
  {
   "cell_type": "code",
   "execution_count": 10,
   "metadata": {},
   "outputs": [
    {
     "name": "stdout",
     "output_type": "stream",
     "text": [
      "train precision: 0.86759\n",
      "----------------------------------------\n",
      "val precision: 0.0\n",
      "----------------------------------------\n",
      "difference: 0.867592\n",
      "----------------------------------------\n",
      "val report: \n",
      "              precision    recall  f1-score   support\n",
      "\n",
      "           0       0.76      0.99      0.86       971\n",
      "           1       0.84      0.13      0.23       350\n",
      "\n",
      "    accuracy                           0.76      1321\n",
      "   macro avg       0.80      0.56      0.55      1321\n",
      "weighted avg       0.78      0.76      0.69      1321\n",
      "\n",
      "----------------------------------------\n"
     ]
    },
    {
     "data": {
      "text/plain": [
       "['models/svc.joblib']"
      ]
     },
     "execution_count": 10,
     "metadata": {},
     "output_type": "execute_result"
    }
   ],
   "source": [
    "from sklearn.svm import SVC\n",
    "\n",
    "svc = SVC(random_state=10,probability=True)\n",
    "\n",
    "param_grid = {'kernel':['poly'],\n",
    "             'C':[0.01],\n",
    "             'gamma':['scale'],\n",
    "              'degree':[4]\n",
    "             }\n",
    "grid = GridSearchCV(svc,param_grid,n_jobs=4,scoring='precision')\n",
    "modeler(grid,X_train_sc,y_train_enc,X_val_sc,y_val_enc)\n",
    "svc_best = grid.best_estimator_\n",
    "\n",
    "dump(svc_best,'models/svc.joblib')"
   ]
  },
  {
   "cell_type": "code",
   "execution_count": 11,
   "metadata": {},
   "outputs": [
    {
     "data": {
      "text/plain": [
       "{'C': 0.01, 'degree': 4, 'gamma': 'scale', 'kernel': 'poly'}"
      ]
     },
     "execution_count": 11,
     "metadata": {},
     "output_type": "execute_result"
    }
   ],
   "source": [
    "grid.best_params_"
   ]
  },
  {
   "cell_type": "code",
   "execution_count": 18,
   "metadata": {},
   "outputs": [
    {
     "name": "stdout",
     "output_type": "stream",
     "text": [
      "train precision: 0.56244\n",
      "----------------------------------------\n",
      "val precision: 0.5367\n",
      "----------------------------------------\n",
      "difference: 0.0257406\n",
      "----------------------------------------\n",
      "val report: \n",
      "              precision    recall  f1-score   support\n",
      "\n",
      "           0       0.83      0.87      0.85       971\n",
      "           1       0.59      0.52      0.55       350\n",
      "\n",
      "    accuracy                           0.78      1321\n",
      "   macro avg       0.71      0.70      0.70      1321\n",
      "weighted avg       0.77      0.78      0.77      1321\n",
      "\n",
      "----------------------------------------\n"
     ]
    },
    {
     "data": {
      "text/plain": [
       "['models/knn.joblisb']"
      ]
     },
     "execution_count": 18,
     "metadata": {},
     "output_type": "execute_result"
    }
   ],
   "source": [
    "from sklearn.neighbors import KNeighborsClassifier\n",
    "\n",
    "knn = KNeighborsClassifier()\n",
    "\n",
    "param_grid = {'n_neighbors':[5],\n",
    "             'weights':['uniform'],\n",
    "             'algorithm':['auto'],\n",
    "             'leaf_size':[90],\n",
    "             'p':[3]}\n",
    "grid = GridSearchCV(knn,param_grid,n_jobs=4,scoring='precision')\n",
    "modeler(grid,X_train_sc,y_train_enc,X_val_sc,y_val_enc)\n",
    "knn_best = grid.best_estimator_\n",
    "\n",
    "dump(knn_best,'models/knn.joblisb')"
   ]
  },
  {
   "cell_type": "code",
   "execution_count": 19,
   "metadata": {},
   "outputs": [
    {
     "data": {
      "text/plain": [
       "{'algorithm': 'auto',\n",
       " 'leaf_size': 90,\n",
       " 'n_neighbors': 5,\n",
       " 'p': 3,\n",
       " 'weights': 'uniform'}"
      ]
     },
     "execution_count": 19,
     "metadata": {},
     "output_type": "execute_result"
    }
   ],
   "source": [
    "grid.best_params_"
   ]
  },
  {
   "cell_type": "code",
   "execution_count": 20,
   "metadata": {},
   "outputs": [],
   "source": [
    "# from sklearn.gaussian_process import GaussianProcessClassifier\n",
    "\n",
    "# gp = GaussianProcessClassifier()\n",
    "\n",
    "# param_grid = {'n_restarts_optimizer':[0]}\n",
    "# grid = GridSearchCV(gp,param_grid,n_jobs=-1,scoring='accuracy')\n",
    "# modeler(grid,X_train_sc,y_train_enc,X_val_sc,y_val_enc)\n",
    "# gp_best = grid.best_estimator_\n"
   ]
  },
  {
   "cell_type": "code",
   "execution_count": 21,
   "metadata": {},
   "outputs": [
    {
     "name": "stdout",
     "output_type": "stream",
     "text": [
      "train precision: 0.60452\n",
      "----------------------------------------\n",
      "val precision: 0.60108\n",
      "----------------------------------------\n",
      "difference: 0.0034369\n",
      "----------------------------------------\n",
      "val report: \n",
      "              precision    recall  f1-score   support\n",
      "\n",
      "           0       0.85      0.86      0.85       971\n",
      "           1       0.59      0.57      0.58       350\n",
      "\n",
      "    accuracy                           0.78      1321\n",
      "   macro avg       0.72      0.71      0.72      1321\n",
      "weighted avg       0.78      0.78      0.78      1321\n",
      "\n",
      "----------------------------------------\n"
     ]
    },
    {
     "data": {
      "text/plain": [
       "['models/nb.joblib']"
      ]
     },
     "execution_count": 21,
     "metadata": {},
     "output_type": "execute_result"
    }
   ],
   "source": [
    "from sklearn.naive_bayes import GaussianNB\n",
    "\n",
    "nb = GaussianNB()\n",
    "\n",
    "param_grid = {'var_smoothing':[2]}\n",
    "\n",
    "grid = GridSearchCV(nb,param_grid,n_jobs=4,scoring='precision')\n",
    "modeler(grid,X_train_sc,y_train_enc,X_val_sc,y_val_enc)\n",
    "nb_best = grid.best_estimator_\n",
    "\n",
    "dump(nb_best,'models/nb.joblib')"
   ]
  },
  {
   "cell_type": "code",
   "execution_count": 22,
   "metadata": {},
   "outputs": [
    {
     "data": {
      "text/plain": [
       "{'var_smoothing': 2}"
      ]
     },
     "execution_count": 22,
     "metadata": {},
     "output_type": "execute_result"
    }
   ],
   "source": [
    "grid.best_params_"
   ]
  },
  {
   "cell_type": "code",
   "execution_count": 23,
   "metadata": {},
   "outputs": [
    {
     "name": "stdout",
     "output_type": "stream",
     "text": [
      "train precision: 0.766\n",
      "----------------------------------------\n",
      "val precision: 0.45175\n",
      "----------------------------------------\n",
      "difference: 0.3142461\n",
      "----------------------------------------\n",
      "val report: \n",
      "              precision    recall  f1-score   support\n",
      "\n",
      "           0       0.75      0.98      0.85       971\n",
      "           1       0.69      0.10      0.17       350\n",
      "\n",
      "    accuracy                           0.75      1321\n",
      "   macro avg       0.72      0.54      0.51      1321\n",
      "weighted avg       0.73      0.75      0.67      1321\n",
      "\n",
      "----------------------------------------\n"
     ]
    },
    {
     "data": {
      "text/plain": [
       "['models/tree.joblib']"
      ]
     },
     "execution_count": 23,
     "metadata": {},
     "output_type": "execute_result"
    }
   ],
   "source": [
    "from sklearn.tree import DecisionTreeClassifier\n",
    "\n",
    "tree = DecisionTreeClassifier(random_state=1)\n",
    "\n",
    "param_grid = {'criterion':['entropy'],\n",
    "             'splitter':['random'],\n",
    "             'max_depth':[2],\n",
    "             'max_features':['auto']}\n",
    "\n",
    "grid = GridSearchCV(tree,param_grid,n_jobs=4,scoring='precision')\n",
    "modeler(grid,X_train_sc,y_train_enc,X_val_sc,y_val_enc)\n",
    "tree_best = grid.best_estimator_\n",
    "\n",
    "dump(tree_best,'models/tree.joblib')"
   ]
  },
  {
   "cell_type": "code",
   "execution_count": 24,
   "metadata": {},
   "outputs": [
    {
     "data": {
      "text/plain": [
       "{'criterion': 'entropy',\n",
       " 'max_depth': 2,\n",
       " 'max_features': 'auto',\n",
       " 'splitter': 'random'}"
      ]
     },
     "execution_count": 24,
     "metadata": {},
     "output_type": "execute_result"
    }
   ],
   "source": [
    "grid.best_params_"
   ]
  },
  {
   "cell_type": "code",
   "execution_count": 25,
   "metadata": {},
   "outputs": [
    {
     "name": "stdout",
     "output_type": "stream",
     "text": [
      "train precision: 0.75988\n",
      "----------------------------------------\n",
      "val precision: 0.65372\n",
      "----------------------------------------\n",
      "difference: 0.106158\n",
      "----------------------------------------\n",
      "val report: \n",
      "              precision    recall  f1-score   support\n",
      "\n",
      "           0       0.79      0.96      0.86       971\n",
      "           1       0.71      0.28      0.40       350\n",
      "\n",
      "    accuracy                           0.78      1321\n",
      "   macro avg       0.75      0.62      0.63      1321\n",
      "weighted avg       0.77      0.78      0.74      1321\n",
      "\n",
      "----------------------------------------\n"
     ]
    },
    {
     "data": {
      "text/plain": [
       "['models/rfr.joblib']"
      ]
     },
     "execution_count": 25,
     "metadata": {},
     "output_type": "execute_result"
    }
   ],
   "source": [
    "from sklearn.ensemble import RandomForestClassifier\n",
    "\n",
    "rfr = RandomForestClassifier(random_state=1)\n",
    "\n",
    "param_grid = {'n_estimators':[100],\n",
    "             'criterion':['gini'],\n",
    "             'max_depth':[2],\n",
    "             'max_features':['auto'],\n",
    "             'oob_score':[True]}\n",
    "\n",
    "grid = GridSearchCV(rfr,param_grid,n_jobs=4,scoring='precision')\n",
    "modeler(grid,X_train_sc,y_train_enc,X_val_sc,y_val_enc)\n",
    "rfr_best = grid.best_estimator_\n",
    "\n",
    "dump(rfr_best,'models/rfr.joblib')"
   ]
  },
  {
   "cell_type": "code",
   "execution_count": 26,
   "metadata": {},
   "outputs": [
    {
     "data": {
      "text/plain": [
       "{'criterion': 'gini',\n",
       " 'max_depth': 2,\n",
       " 'max_features': 'auto',\n",
       " 'n_estimators': 100,\n",
       " 'oob_score': True}"
      ]
     },
     "execution_count": 26,
     "metadata": {},
     "output_type": "execute_result"
    }
   ],
   "source": [
    "grid.best_params_"
   ]
  },
  {
   "cell_type": "code",
   "execution_count": 27,
   "metadata": {},
   "outputs": [
    {
     "name": "stdout",
     "output_type": "stream",
     "text": [
      "train precision: 0.88956\n",
      "----------------------------------------\n",
      "val precision: 0.85204\n",
      "----------------------------------------\n",
      "difference: 0.037515\n",
      "----------------------------------------\n",
      "val report: \n",
      "              precision    recall  f1-score   support\n",
      "\n",
      "           0       0.75      0.99      0.86       971\n",
      "           1       0.85      0.08      0.15       350\n",
      "\n",
      "    accuracy                           0.75      1321\n",
      "   macro avg       0.80      0.54      0.50      1321\n",
      "weighted avg       0.78      0.75      0.67      1321\n",
      "\n",
      "----------------------------------------\n"
     ]
    },
    {
     "data": {
      "text/plain": [
       "['models/etree.joblib']"
      ]
     },
     "execution_count": 27,
     "metadata": {},
     "output_type": "execute_result"
    }
   ],
   "source": [
    "from sklearn.ensemble import ExtraTreesClassifier\n",
    "\n",
    "etree = ExtraTreesClassifier(random_state=2)\n",
    "param_grid = {'n_estimators':[100],\n",
    "             'criterion':['entropy'],\n",
    "             'max_depth':[2],\n",
    "             'max_features':['sqrt']}\n",
    "\n",
    "grid = GridSearchCV(etree,param_grid,n_jobs=4,scoring='precision')\n",
    "modeler(grid,X_train_sc,y_train_enc,X_val_sc,y_val_enc)\n",
    "etree_best = grid.best_estimator_\n",
    "\n",
    "\n",
    "\n",
    "dump(etree_best,'models/etree.joblib')"
   ]
  },
  {
   "cell_type": "code",
   "execution_count": 28,
   "metadata": {},
   "outputs": [
    {
     "data": {
      "text/plain": [
       "{'criterion': 'entropy',\n",
       " 'max_depth': 2,\n",
       " 'max_features': 'sqrt',\n",
       " 'n_estimators': 100}"
      ]
     },
     "execution_count": 28,
     "metadata": {},
     "output_type": "execute_result"
    }
   ],
   "source": [
    "grid.best_params_"
   ]
  },
  {
   "cell_type": "code",
   "execution_count": null,
   "metadata": {},
   "outputs": [],
   "source": []
  },
  {
   "cell_type": "code",
   "execution_count": 29,
   "metadata": {},
   "outputs": [
    {
     "name": "stdout",
     "output_type": "stream",
     "text": [
      "train precision: 0.7647\n",
      "----------------------------------------\n",
      "val precision: 0.0\n",
      "----------------------------------------\n",
      "difference: 0.7647035\n",
      "----------------------------------------\n",
      "val report: \n",
      "              precision    recall  f1-score   support\n",
      "\n",
      "           0       0.80      0.95      0.87       971\n",
      "           1       0.72      0.33      0.45       350\n",
      "\n",
      "    accuracy                           0.79      1321\n",
      "   macro avg       0.76      0.64      0.66      1321\n",
      "weighted avg       0.78      0.79      0.76      1321\n",
      "\n",
      "----------------------------------------\n"
     ]
    },
    {
     "data": {
      "text/plain": [
       "['models/xgb.joblib']"
      ]
     },
     "execution_count": 29,
     "metadata": {},
     "output_type": "execute_result"
    }
   ],
   "source": [
    "\n",
    "import xgboost as xgb\n",
    "\n",
    "boost_model = xgb.XGBClassifier(booster='gbtree',random_state=1,tree_method='gpu_hist',\n",
    "                               grow_policy='depthwise',\n",
    "                               subsample=0.9,verbosity=1,\n",
    "                               sampling_method='uniform',\n",
    "                               colsample_bytree=0.7,\n",
    "                               reg_lambda=10,\n",
    "                               alpha=100)\n",
    "\n",
    "xgb = modeler(boost_model,X_train_sc,y_train_enc,X_val_sc,y_val_enc)\n",
    "\n",
    "dump(xgb,'models/xgb.joblib')\n"
   ]
  },
  {
   "cell_type": "code",
   "execution_count": null,
   "metadata": {},
   "outputs": [],
   "source": []
  },
  {
   "cell_type": "code",
   "execution_count": 30,
   "metadata": {},
   "outputs": [
    {
     "name": "stdout",
     "output_type": "stream",
     "text": [
      "train precision: 0.68978\n",
      "----------------------------------------\n",
      "val precision: 0.69476\n",
      "----------------------------------------\n",
      "difference: 0.0049777\n",
      "----------------------------------------\n",
      "val report: \n",
      "              precision    recall  f1-score   support\n",
      "\n",
      "           0       0.84      0.91      0.87       971\n",
      "           1       0.67      0.51      0.58       350\n",
      "\n",
      "    accuracy                           0.80      1321\n",
      "   macro avg       0.75      0.71      0.72      1321\n",
      "weighted avg       0.79      0.80      0.79      1321\n",
      "\n",
      "----------------------------------------\n"
     ]
    },
    {
     "data": {
      "text/plain": [
       "['models/ada.joblib']"
      ]
     },
     "execution_count": 30,
     "metadata": {},
     "output_type": "execute_result"
    }
   ],
   "source": [
    "from sklearn.ensemble import AdaBoostClassifier\n",
    "\n",
    "adatree = DecisionTreeClassifier(criterion='entropy',\n",
    "             splitter='random',\n",
    "             max_depth=1,\n",
    "             max_features=5)\n",
    "\n",
    "ada = AdaBoostClassifier(base_estimator=adatree,n_estimators=100,learning_rate=0.1,random_state=1)\n",
    "\n",
    "ada = modeler(ada,X_train_sc,y_train_enc,X_val_sc,y_val_enc)\n",
    "\n",
    "dump(ada,'models/ada.joblib')"
   ]
  },
  {
   "cell_type": "markdown",
   "metadata": {},
   "source": [
    "After trying the above models, I tried adding various combinations to a stack. It ended up not working well enough to use."
   ]
  },
  {
   "cell_type": "code",
   "execution_count": 44,
   "metadata": {},
   "outputs": [
    {
     "name": "stdout",
     "output_type": "stream",
     "text": [
      "train precision: 0.68597\n",
      "----------------------------------------\n",
      "val precision: 0.67879\n",
      "----------------------------------------\n",
      "difference: 0.0071759\n",
      "----------------------------------------\n",
      "val report: \n",
      "              precision    recall  f1-score   support\n",
      "\n",
      "           0       0.85      0.90      0.88       971\n",
      "           1       0.68      0.57      0.62       350\n",
      "\n",
      "    accuracy                           0.81      1321\n",
      "   macro avg       0.77      0.73      0.75      1321\n",
      "weighted avg       0.81      0.81      0.81      1321\n",
      "\n",
      "----------------------------------------\n"
     ]
    },
    {
     "data": {
      "text/plain": [
       "['models/stack.joblib']"
      ]
     },
     "execution_count": 44,
     "metadata": {},
     "output_type": "execute_result"
    }
   ],
   "source": [
    "from sklearn.ensemble import StackingClassifier\n",
    "best_lr = load('models/best_lr.joblib')\n",
    "lr_bag = load('models/lr_bag.joblib')\n",
    "ridge_bag = load('models/ridge_bag.joblib')\n",
    "sgd_best = load('models/sgd.joblib')\n",
    "ridge_best = load('models/best_ridge.joblib')\n",
    "first_lr = load('models/1stlr.joblib')\n",
    "second_lr = load('models/2ndlr.joblib')\n",
    "third_lr = load('models/3rdlr.joblib')\n",
    "best_lr3 = load('models/best_lr3.joblib')\n",
    "etree = load('models/etree.joblib')\n",
    "knn = load('models/knn.joblisb')\n",
    "nb = load('models/nb.joblib')\n",
    "rfr_best = load('models/rfr.joblib')\n",
    "svc = load('models/svc.joblib')\n",
    "tree = load('models/tree.joblib')\n",
    "boost_model = load('models/xgb.joblib')\n",
    "ada = load('models/ada.joblib')\n",
    "stack = load('models/stack.joblib')\n",
    "\n",
    "\n",
    "\n",
    "best_estimators = [\n",
    "                   ('lr_best',best_lr),\n",
    "                   ('lr3_best',best_lr3)\n",
    "                   ]\n",
    "\n",
    "stack = StackingClassifier(estimators=best_estimators,n_jobs=4)\n",
    "\n",
    "stack = modeler(stack,X_train_sc,y_train_enc,X_val_sc,y_val_enc)\n",
    "\n",
    "dump(stack,'models/stack.joblib')\n",
    "\n",
    "#('tree',tree_best),('knn',knn_best),('svc',svc_best),('nb',nb_best),"
   ]
  }
 ],
 "metadata": {
  "kernelspec": {
   "display_name": "learn-env",
   "language": "python",
   "name": "learn-env"
  },
  "language_info": {
   "codemirror_mode": {
    "name": "ipython",
    "version": 3
   },
   "file_extension": ".py",
   "mimetype": "text/x-python",
   "name": "python",
   "nbconvert_exporter": "python",
   "pygments_lexer": "ipython3",
   "version": "3.8.5"
  }
 },
 "nbformat": 4,
 "nbformat_minor": 4
}
