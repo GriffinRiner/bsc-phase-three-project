{
 "cells": [
  {
   "cell_type": "code",
   "execution_count": 1,
   "metadata": {},
   "outputs": [],
   "source": [
    "import pandas as pd\n",
    "import numpy as np\n"
   ]
  },
  {
   "cell_type": "code",
   "execution_count": 2,
   "metadata": {},
   "outputs": [],
   "source": [
    "X_train_sc = pd.read_csv('X_train_sc.csv')\n",
    "X_val_sc = pd.read_csv('X_val_sc.csv')\n",
    "y_train_enc = np.ravel(pd.read_csv('y_train_enc.csv'))\n",
    "y_val_enc = np.ravel(pd.read_csv('y_val_enc.csv'))\n",
    "from sklearn.model_selection import GridSearchCV\n"
   ]
  },
  {
   "cell_type": "code",
   "execution_count": 3,
   "metadata": {},
   "outputs": [],
   "source": [
    "from sklearn.linear_model import LogisticRegression\n",
    "from sklearn.model_selection import cross_val_score\n",
    "\n",
    "lr = LogisticRegression(solver='liblinear',C=1,tol=0.001)\n"
   ]
  },
  {
   "cell_type": "code",
   "execution_count": 4,
   "metadata": {},
   "outputs": [],
   "source": [
    "def modeler(est,X_train,y_train,X_val,y_val):\n",
    "    \n",
    "    est.fit(X_train,y_train)\n",
    "    \n",
    "    \n",
    "    train_score = np.mean(cross_val_score(est,X_train,y_train,scoring='accuracy',cv=7,n_jobs=-1))\n",
    "    val_score = np.mean(cross_val_score(est,X_val,y_val,scoring='accuracy',cv=7,n_jobs=4))\n",
    "    diff = abs(train_score - val_score)\n",
    "    print(f'train accuracy: {round(train_score,5)}')\n",
    "    print('-'*40)\n",
    "    print(f'val accuracy: {round(val_score,5)}')\n",
    "    print('-'*40)\n",
    "    print(f'difference: {round(diff,7)}')\n",
    "    print('-'*40)\n",
    "    return est"
   ]
  },
  {
   "cell_type": "code",
   "execution_count": 5,
   "metadata": {},
   "outputs": [
    {
     "name": "stdout",
     "output_type": "stream",
     "text": [
      "train accuracy: 0.80156\n",
      "----------------------------------------\n",
      "val accuracy: 0.79182\n",
      "----------------------------------------\n",
      "difference: 0.0097461\n",
      "----------------------------------------\n"
     ]
    },
    {
     "data": {
      "text/plain": [
       "LogisticRegression(C=1, solver='liblinear', tol=0.001)"
      ]
     },
     "execution_count": 5,
     "metadata": {},
     "output_type": "execute_result"
    }
   ],
   "source": [
    "modeler(lr,X_train_sc,y_train_enc,X_val_sc,y_val_enc)\n"
   ]
  },
  {
   "cell_type": "markdown",
   "metadata": {},
   "source": [
    "This one is less accurate, but scores are still close. Might be good for bagging."
   ]
  },
  {
   "cell_type": "code",
   "execution_count": 6,
   "metadata": {},
   "outputs": [
    {
     "name": "stdout",
     "output_type": "stream",
     "text": [
      "train accuracy: 0.7334\n",
      "----------------------------------------\n",
      "val accuracy: 0.73505\n",
      "----------------------------------------\n",
      "difference: 0.0016467\n",
      "----------------------------------------\n"
     ]
    },
    {
     "data": {
      "text/plain": [
       "LogisticRegression(C=1, solver='liblinear', tol=5)"
      ]
     },
     "execution_count": 6,
     "metadata": {},
     "output_type": "execute_result"
    }
   ],
   "source": [
    "lr2 = LogisticRegression(solver='liblinear',C=1,tol=5)\n",
    "modeler(lr2,X_train_sc,y_train_enc,X_val_sc,y_val_enc)\n"
   ]
  },
  {
   "cell_type": "code",
   "execution_count": 7,
   "metadata": {},
   "outputs": [],
   "source": [
    "from sklearn.linear_model import RidgeClassifier\n",
    "\n",
    "ridge = RidgeClassifier()\n"
   ]
  },
  {
   "cell_type": "code",
   "execution_count": 8,
   "metadata": {},
   "outputs": [
    {
     "name": "stdout",
     "output_type": "stream",
     "text": [
      "train accuracy: 0.80056\n",
      "----------------------------------------\n",
      "val accuracy: 0.7956\n",
      "----------------------------------------\n",
      "difference: 0.004951\n",
      "----------------------------------------\n"
     ]
    }
   ],
   "source": [
    "param_grid = {'alpha':[0.001,1,10,100], 'solver':['svd', 'cholesky', 'lsqr', 'sparse_cg', 'sag', 'saga']}\n",
    "grid = GridSearchCV(ridge,param_grid,n_jobs=4,scoring='accuracy')\n",
    "modeler(grid,X_train_sc,y_train_enc,X_val_sc,y_val_enc)\n",
    "\n",
    "ridge_best = grid.best_estimator_\n"
   ]
  },
  {
   "cell_type": "code",
   "execution_count": null,
   "metadata": {},
   "outputs": [],
   "source": []
  },
  {
   "cell_type": "code",
   "execution_count": 9,
   "metadata": {},
   "outputs": [
    {
     "name": "stdout",
     "output_type": "stream",
     "text": [
      "train accuracy: 0.80207\n",
      "----------------------------------------\n",
      "val accuracy: 0.79182\n",
      "----------------------------------------\n",
      "difference: 0.0102522\n",
      "----------------------------------------\n"
     ]
    }
   ],
   "source": [
    "lr3 = LogisticRegression()\n",
    "param_grid = {'C':[0.001,1,10], 'solver':['liblinear','lbfgs','newton-cg','sag','saga']}\n",
    "grid = GridSearchCV(lr3,param_grid,n_jobs=4,scoring='accuracy')\n",
    "modeler(grid,X_train_sc,y_train_enc,X_val_sc,y_val_enc)\n",
    "lr3_best = grid.best_estimator_\n"
   ]
  },
  {
   "cell_type": "code",
   "execution_count": 10,
   "metadata": {},
   "outputs": [
    {
     "name": "stdout",
     "output_type": "stream",
     "text": [
      "train accuracy: 0.80055\n",
      "----------------------------------------\n",
      "val accuracy: 0.78349\n",
      "----------------------------------------\n",
      "difference: 0.0170666\n",
      "----------------------------------------\n"
     ]
    }
   ],
   "source": [
    "from sklearn.linear_model import SGDClassifier\n",
    "\n",
    "sgd = SGDClassifier()\n",
    "\n",
    "param_grid = {'loss':['hinge','modified_huber'],\n",
    "             'penalty':['l2','l1','elasticnet'],\n",
    "             'alpha':[0.001,1,10],\n",
    "             'learning_rate':['constant','invscaling','adaptive'],\n",
    "             'eta0':[0.01,0.5,1,10]}\n",
    "grid = GridSearchCV(sgd,param_grid,n_jobs=4,scoring='accuracy')\n",
    "modeler(grid,X_train_sc,y_train_enc,X_val_sc,y_val_enc)\n",
    "sgd_best = grid.best_estimator_\n"
   ]
  },
  {
   "cell_type": "code",
   "execution_count": 11,
   "metadata": {},
   "outputs": [
    {
     "name": "stdout",
     "output_type": "stream",
     "text": [
      "train accuracy: 0.8003\n",
      "----------------------------------------\n",
      "val accuracy: 0.78425\n",
      "----------------------------------------\n",
      "difference: 0.016048\n",
      "----------------------------------------\n"
     ]
    }
   ],
   "source": [
    "from sklearn.svm import SVC\n",
    "\n",
    "svc = SVC()\n",
    "\n",
    "param_grid = {'kernel':['linear','rbf'],\n",
    "             'C':[0.01,1,10]}\n",
    "grid = GridSearchCV(svc,param_grid,n_jobs=4,scoring='accuracy')\n",
    "modeler(grid,X_train_sc,y_train_enc,X_val_sc,y_val_enc)\n",
    "svc_best = grid.best_estimator_\n"
   ]
  },
  {
   "cell_type": "code",
   "execution_count": 12,
   "metadata": {},
   "outputs": [
    {
     "name": "stdout",
     "output_type": "stream",
     "text": [
      "train accuracy: 0.76142\n",
      "----------------------------------------\n",
      "val accuracy: 0.74109\n",
      "----------------------------------------\n",
      "difference: 0.020327\n",
      "----------------------------------------\n"
     ]
    }
   ],
   "source": [
    "from sklearn.neighbors import KNeighborsClassifier\n",
    "\n",
    "knn = KNeighborsClassifier()\n",
    "\n",
    "param_grid = {'n_neighbors':[5],\n",
    "             'weights':['uniform'],\n",
    "             'algorithm':['kd_tree'],\n",
    "             'leaf_size':[15,30],\n",
    "             'p':[1,2,3]}\n",
    "grid = GridSearchCV(knn,param_grid,n_jobs=4,scoring='accuracy')\n",
    "modeler(grid,X_train_sc,y_train_enc,X_val_sc,y_val_enc)\n",
    "knn_best = grid.best_estimator_\n"
   ]
  },
  {
   "cell_type": "code",
   "execution_count": 13,
   "metadata": {},
   "outputs": [],
   "source": [
    "# from sklearn.gaussian_process import GaussianProcessClassifier\n",
    "\n",
    "# gp = GaussianProcessClassifier()\n",
    "\n",
    "# param_grid = {'n_restarts_optimizer':[0]}\n",
    "# grid = GridSearchCV(gp,param_grid,n_jobs=-1,scoring='accuracy')\n",
    "# modeler(grid,X_train_sc,y_train_enc,X_val_sc,y_val_enc)\n",
    "# gp_best = grid.best_estimator_\n"
   ]
  },
  {
   "cell_type": "code",
   "execution_count": 14,
   "metadata": {},
   "outputs": [
    {
     "name": "stdout",
     "output_type": "stream",
     "text": [
      "train accuracy: 0.75839\n",
      "----------------------------------------\n",
      "val accuracy: 0.7578\n",
      "----------------------------------------\n",
      "difference: 0.0005983\n",
      "----------------------------------------\n"
     ]
    }
   ],
   "source": [
    "from sklearn.naive_bayes import GaussianNB\n",
    "\n",
    "nb = GaussianNB()\n",
    "\n",
    "param_grid = {'var_smoothing':[0.000000001]}\n",
    "\n",
    "grid = GridSearchCV(nb,param_grid,n_jobs=4,scoring='accuracy')\n",
    "modeler(grid,X_train_sc,y_train_enc,X_val_sc,y_val_enc)\n",
    "nb_best = grid.best_estimator_\n"
   ]
  },
  {
   "cell_type": "code",
   "execution_count": 15,
   "metadata": {},
   "outputs": [
    {
     "name": "stdout",
     "output_type": "stream",
     "text": [
      "train accuracy: 0.76899\n",
      "----------------------------------------\n",
      "val accuracy: 0.77442\n",
      "----------------------------------------\n",
      "difference: 0.0054298\n",
      "----------------------------------------\n"
     ]
    }
   ],
   "source": [
    "from sklearn.tree import DecisionTreeClassifier\n",
    "\n",
    "tree = DecisionTreeClassifier()\n",
    "\n",
    "param_grid = {'criterion':['gini'],\n",
    "             'splitter':['best'],\n",
    "             'max_depth':[3],\n",
    "             'max_features':['auto']}\n",
    "\n",
    "grid = GridSearchCV(tree,param_grid,n_jobs=4,scoring='accuracy')\n",
    "modeler(grid,X_train_sc,y_train_enc,X_val_sc,y_val_enc)\n",
    "tree_best = grid.best_estimator_\n"
   ]
  },
  {
   "cell_type": "code",
   "execution_count": 33,
   "metadata": {},
   "outputs": [
    {
     "name": "stdout",
     "output_type": "stream",
     "text": [
      "train accuracy: 0.79197\n",
      "----------------------------------------\n",
      "val accuracy: 0.77668\n",
      "----------------------------------------\n",
      "difference: 0.0152815\n",
      "----------------------------------------\n"
     ]
    }
   ],
   "source": [
    "from sklearn.ensemble import RandomForestClassifier\n",
    "\n",
    "rfr = RandomForestClassifier()\n",
    "\n",
    "param_grid = {'n_estimators':[200],\n",
    "             'criterion':['gini'],\n",
    "             'max_depth':[3],\n",
    "             'max_features':['sqrt']}\n",
    "\n",
    "grid = GridSearchCV(rfr,param_grid,n_jobs=4,scoring='accuracy')\n",
    "modeler(grid,X_train_sc,y_train_enc,X_val_sc,y_val_enc)\n",
    "rfr_best = grid.best_estimator_\n"
   ]
  },
  {
   "cell_type": "code",
   "execution_count": 48,
   "metadata": {},
   "outputs": [
    {
     "name": "stdout",
     "output_type": "stream",
     "text": [
      "train accuracy: 0.79954\n",
      "----------------------------------------\n",
      "val accuracy: 0.78805\n",
      "----------------------------------------\n",
      "difference: 0.011491\n",
      "----------------------------------------\n"
     ]
    },
    {
     "data": {
      "text/plain": [
       "XGBClassifier(base_score=0.5, booster='gbtree', colsample_bylevel=1,\n",
       "              colsample_bynode=1, colsample_bytree=1, eta=0.01, gamma=1,\n",
       "              gpu_id=-1, importance_type='gain', interaction_constraints='',\n",
       "              learning_rate=0.00999999978, max_delta_step=0, max_depth=2,\n",
       "              min_child_weight=1, missing=nan, monotone_constraints='()',\n",
       "              n_estimators=200, n_jobs=4, num_parallel_tree=1, random_state=0,\n",
       "              reg_alpha=0, reg_lambda=1, scale_pos_weight=1, subsample=1,\n",
       "              tree_method='exact', validate_parameters=1, verbosity=None)"
      ]
     },
     "execution_count": 48,
     "metadata": {},
     "output_type": "execute_result"
    }
   ],
   "source": [
    "import xgboost as xgb\n",
    "boost_model = xgb.XGBClassifier(max_depth=2,n_estimators=200, eta=0.01, gamma=1,n_jobs=4)\n",
    "modeler(boost_model,X_train_sc,y_train_enc,X_val_sc,y_val_enc)\n"
   ]
  },
  {
   "cell_type": "code",
   "execution_count": 69,
   "metadata": {},
   "outputs": [
    {
     "name": "stdout",
     "output_type": "stream",
     "text": [
      "train accuracy: 0.8051\n",
      "----------------------------------------\n",
      "val accuracy: 0.80166\n",
      "----------------------------------------\n",
      "difference: 0.0034365\n",
      "----------------------------------------\n"
     ]
    },
    {
     "data": {
      "text/plain": [
       "AdaBoostClassifier(base_estimator=DecisionTreeClassifier(max_depth=1,\n",
       "                                                         max_features='sqrt',\n",
       "                                                         random_state=1),\n",
       "                   learning_rate=0.1, n_estimators=500, random_state=1)"
      ]
     },
     "execution_count": 69,
     "metadata": {},
     "output_type": "execute_result"
    }
   ],
   "source": [
    "from sklearn.ensemble import AdaBoostClassifier\n",
    "\n",
    "adatree = DecisionTreeClassifier(max_depth=1,criterion='gini',max_features='sqrt',random_state=1)\n",
    "\n",
    "ada = AdaBoostClassifier(base_estimator=adatree,n_estimators=500,learning_rate=0.1,random_state=1)\n",
    "\n",
    "modeler(ada,X_train_sc,y_train_enc,X_val_sc,y_val_enc)"
   ]
  },
  {
   "cell_type": "code",
   "execution_count": 70,
   "metadata": {},
   "outputs": [
    {
     "name": "stdout",
     "output_type": "stream",
     "text": [
      "train accuracy: 0.79929\n",
      "----------------------------------------\n",
      "val accuracy: 0.79411\n",
      "----------------------------------------\n",
      "difference: 0.0051815\n",
      "----------------------------------------\n"
     ]
    },
    {
     "data": {
      "text/plain": [
       "StackingClassifier(estimators=[('ridge',\n",
       "                                RidgeClassifier(alpha=0.001, solver='lsqr')),\n",
       "                               ('lr',\n",
       "                                LogisticRegression(C=1, solver='liblinear',\n",
       "                                                   tol=0.001)),\n",
       "                               ('sgd',\n",
       "                                SGDClassifier(alpha=0.001, eta0=0.5,\n",
       "                                              learning_rate='invscaling')),\n",
       "                               ('svc', SVC(C=10, kernel='linear')),\n",
       "                               ('knn',\n",
       "                                KNeighborsClassifier(algorithm='kd_tree',\n",
       "                                                     leaf_size=15, p=1)),\n",
       "                               ('nb', GaussianNB()),\n",
       "                               ('tree',\n",
       "                                Decisi...\n",
       "                                              n_estimators=200, n_jobs=4,\n",
       "                                              num_parallel_tree=1,\n",
       "                                              random_state=0, reg_alpha=0,\n",
       "                                              reg_lambda=1, scale_pos_weight=1,\n",
       "                                              subsample=1, tree_method='exact',\n",
       "                                              validate_parameters=1,\n",
       "                                              verbosity=None)),\n",
       "                               ('ada',\n",
       "                                AdaBoostClassifier(base_estimator=DecisionTreeClassifier(max_depth=1,\n",
       "                                                                                         max_features='sqrt',\n",
       "                                                                                         random_state=1),\n",
       "                                                   learning_rate=0.1,\n",
       "                                                   n_estimators=500,\n",
       "                                                   random_state=1))],\n",
       "                   n_jobs=4)"
      ]
     },
     "execution_count": 70,
     "metadata": {},
     "output_type": "execute_result"
    }
   ],
   "source": [
    "from sklearn.ensemble import StackingClassifier\n",
    "\n",
    "best_estimators = [('ridge',ridge_best),('lr',lr),('sgd',sgd_best),('svc',svc_best),('knn',knn_best),('nb',nb_best),('tree',tree_best),('rfr',rfr_best),('xgb',boost_model),('ada',ada)]\n",
    "\n",
    "vote = StackingClassifier(estimators=best_estimators,n_jobs=4)\n",
    "\n",
    "modeler(vote,X_train_sc,y_train_enc,X_val_sc,y_val_enc)"
   ]
  },
  {
   "cell_type": "code",
   "execution_count": null,
   "metadata": {},
   "outputs": [],
   "source": []
  },
  {
   "cell_type": "code",
   "execution_count": null,
   "metadata": {},
   "outputs": [],
   "source": [
    "#save and load each model with pickle \n",
    "#add griffin's xgboost\n",
    "#adaboost?"
   ]
  },
  {
   "cell_type": "code",
   "execution_count": null,
   "metadata": {},
   "outputs": [],
   "source": []
  },
  {
   "cell_type": "code",
   "execution_count": null,
   "metadata": {},
   "outputs": [],
   "source": []
  },
  {
   "cell_type": "code",
   "execution_count": null,
   "metadata": {},
   "outputs": [],
   "source": []
  },
  {
   "cell_type": "code",
   "execution_count": null,
   "metadata": {},
   "outputs": [],
   "source": []
  }
 ],
 "metadata": {
  "kernelspec": {
   "display_name": "learn-env",
   "language": "python",
   "name": "learn-env"
  },
  "language_info": {
   "codemirror_mode": {
    "name": "ipython",
    "version": 3
   },
   "file_extension": ".py",
   "mimetype": "text/x-python",
   "name": "python",
   "nbconvert_exporter": "python",
   "pygments_lexer": "ipython3",
   "version": "3.8.5"
  }
 },
 "nbformat": 4,
 "nbformat_minor": 4
}
