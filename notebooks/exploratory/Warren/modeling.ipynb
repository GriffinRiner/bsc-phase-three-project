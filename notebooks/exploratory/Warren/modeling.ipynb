{
 "cells": [
  {
   "cell_type": "code",
   "execution_count": 1,
   "metadata": {},
   "outputs": [],
   "source": [
    "import pandas as pd\n",
    "import numpy as np"
   ]
  },
  {
   "cell_type": "code",
   "execution_count": 2,
   "metadata": {},
   "outputs": [],
   "source": [
    "X_train_sc = pd.read_csv('X_train_sc.csv')\n",
    "X_val_sc = pd.read_csv('X_val_sc.csv')\n",
    "y_train_enc = np.ravel(pd.read_csv('y_train_enc.csv'))\n",
    "y_val_enc = np.ravel(pd.read_csv('y_val_enc.csv'))\n",
    "from sklearn.model_selection import GridSearchCV\n"
   ]
  },
  {
   "cell_type": "code",
   "execution_count": 3,
   "metadata": {},
   "outputs": [],
   "source": [
    "from sklearn.linear_model import LogisticRegression\n",
    "from sklearn.model_selection import cross_val_score\n",
    "\n",
    "lr = LogisticRegression(solver='liblinear',C=1,tol=0.001)\n"
   ]
  },
  {
   "cell_type": "code",
   "execution_count": 4,
   "metadata": {},
   "outputs": [],
   "source": [
    "def modeler(est,X_train,y_train,X_val,y_val):\n",
    "    \n",
    "    est.fit(X_train,y_train)\n",
    "    \n",
    "    train_score = np.mean(cross_val_score(est,X_train,y_train,scoring='accuracy',cv=7,n_jobs=-1))\n",
    "    val_score = np.mean(cross_val_score(est,X_val,y_val,scoring='accuracy',cv=7,n_jobs=-1))\n",
    "    diff = abs(train_score - val_score)\n",
    "    print(f'train accuracy: {round(train_score,5)}')\n",
    "    print('-'*40)\n",
    "    print(f'val accuracy: {round(val_score,5)}')\n",
    "    print('-'*40)\n",
    "    print(f'difference: {round(diff,7)}')\n",
    "    print('-'*40)\n",
    "    return est"
   ]
  },
  {
   "cell_type": "code",
   "execution_count": 5,
   "metadata": {},
   "outputs": [
    {
     "name": "stdout",
     "output_type": "stream",
     "text": [
      "train accuracy: 0.80207\n",
      "----------------------------------------\n",
      "val accuracy: 0.79258\n",
      "----------------------------------------\n",
      "difference: 0.0094874\n",
      "----------------------------------------\n"
     ]
    },
    {
     "data": {
      "text/plain": [
       "LogisticRegression(C=1, solver='liblinear', tol=0.001)"
      ]
     },
     "execution_count": 5,
     "metadata": {},
     "output_type": "execute_result"
    }
   ],
   "source": [
    "modeler(lr,X_train_sc,y_train_enc,X_val_sc,y_val_enc)"
   ]
  },
  {
   "cell_type": "markdown",
   "metadata": {},
   "source": [
    "This one is less accurate, but scores are still close. Might be good for bagging."
   ]
  },
  {
   "cell_type": "code",
   "execution_count": 6,
   "metadata": {},
   "outputs": [
    {
     "name": "stdout",
     "output_type": "stream",
     "text": [
      "train accuracy: 0.7334\n",
      "----------------------------------------\n",
      "val accuracy: 0.73505\n",
      "----------------------------------------\n",
      "difference: 0.0016467\n",
      "----------------------------------------\n"
     ]
    },
    {
     "data": {
      "text/plain": [
       "LogisticRegression(C=1, solver='liblinear', tol=5)"
      ]
     },
     "execution_count": 6,
     "metadata": {},
     "output_type": "execute_result"
    }
   ],
   "source": [
    "lr2 = LogisticRegression(solver='liblinear',C=1,tol=5)\n",
    "modeler(lr2,X_train_sc,y_train_enc,X_val_sc,y_val_enc)"
   ]
  },
  {
   "cell_type": "code",
   "execution_count": 7,
   "metadata": {},
   "outputs": [],
   "source": [
    "from sklearn.linear_model import RidgeClassifier\n",
    "\n",
    "ridge = RidgeClassifier()\n"
   ]
  },
  {
   "cell_type": "code",
   "execution_count": 8,
   "metadata": {},
   "outputs": [
    {
     "name": "stdout",
     "output_type": "stream",
     "text": [
      "train accuracy: 0.80081\n",
      "----------------------------------------\n",
      "val accuracy: 0.7888\n",
      "----------------------------------------\n",
      "difference: 0.0120092\n",
      "----------------------------------------\n"
     ]
    }
   ],
   "source": [
    "\n",
    "param_grid = {'alpha':[0.001,1,10,100], 'solver':['svd', 'cholesky', 'lsqr', 'sparse_cg', 'sag', 'saga']}\n",
    "grid = GridSearchCV(ridge,param_grid,n_jobs=-1,scoring='accuracy')\n",
    "modeler(grid,X_train_sc,y_train_enc,X_val_sc,y_val_enc)\n",
    "\n",
    "ridge_best = grid.best_estimator_"
   ]
  },
  {
   "cell_type": "code",
   "execution_count": null,
   "metadata": {},
   "outputs": [],
   "source": []
  },
  {
   "cell_type": "code",
   "execution_count": 9,
   "metadata": {},
   "outputs": [
    {
     "name": "stdout",
     "output_type": "stream",
     "text": [
      "train accuracy: 0.80283\n",
      "----------------------------------------\n",
      "val accuracy: 0.79409\n",
      "----------------------------------------\n",
      "difference: 0.0087343\n",
      "----------------------------------------\n"
     ]
    }
   ],
   "source": [
    "lr3 = LogisticRegression()\n",
    "param_grid = {'C':[0.001,1,10], 'solver':['liblinear','lbfgs','newton-cg','sag','saga']}\n",
    "grid = GridSearchCV(lr3,param_grid,n_jobs=-1,scoring='accuracy')\n",
    "modeler(grid,X_train_sc,y_train_enc,X_val_sc,y_val_enc)\n",
    "lr_best = grid.best_estimator_\n"
   ]
  },
  {
   "cell_type": "code",
   "execution_count": 10,
   "metadata": {},
   "outputs": [
    {
     "name": "stdout",
     "output_type": "stream",
     "text": [
      "train accuracy: 0.80283\n",
      "----------------------------------------\n",
      "val accuracy: 0.78425\n",
      "----------------------------------------\n",
      "difference: 0.0185711\n",
      "----------------------------------------\n"
     ]
    }
   ],
   "source": [
    "from sklearn.linear_model import SGDClassifier\n",
    "\n",
    "sgd = SGDClassifier()\n",
    "\n",
    "param_grid = {'loss':['hinge','modified_huber'],\n",
    "             'penalty':['l2','l1','elasticnet'],\n",
    "             'alpha':[0.001,1,10],\n",
    "             'learning_rate':['constant','invscaling','adaptive'],\n",
    "             'eta0':[0.01,0.5,1,10]}\n",
    "grid = GridSearchCV(sgd,param_grid,n_jobs=-1,scoring='accuracy')\n",
    "modeler(grid,X_train_sc,y_train_enc,X_val_sc,y_val_enc)\n",
    "sgd_best = grid.best_estimator_\n"
   ]
  },
  {
   "cell_type": "code",
   "execution_count": 11,
   "metadata": {},
   "outputs": [
    {
     "name": "stdout",
     "output_type": "stream",
     "text": [
      "train accuracy: 0.79575\n",
      "----------------------------------------\n",
      "val accuracy: 0.79182\n",
      "----------------------------------------\n",
      "difference: 0.0039374\n",
      "----------------------------------------\n"
     ]
    }
   ],
   "source": [
    "from sklearn.svm import SVC\n",
    "\n",
    "svc = SVC()\n",
    "\n",
    "param_grid = {'kernel':['linear','rbf'],\n",
    "             'C':[0.01,1,10]}\n",
    "grid = GridSearchCV(svc,param_grid,n_jobs=-1,scoring='accuracy')\n",
    "modeler(grid,X_train_sc,y_train_enc,X_val_sc,y_val_enc)\n",
    "svc_best = grid.best_estimator_\n"
   ]
  },
  {
   "cell_type": "code",
   "execution_count": 12,
   "metadata": {},
   "outputs": [
    {
     "name": "stdout",
     "output_type": "stream",
     "text": [
      "train accuracy: 0.75713\n",
      "----------------------------------------\n",
      "val accuracy: 0.74111\n",
      "----------------------------------------\n",
      "difference: 0.0160157\n",
      "----------------------------------------\n"
     ]
    }
   ],
   "source": [
    "from sklearn.neighbors import KNeighborsClassifier\n",
    "\n",
    "knn = KNeighborsClassifier()\n",
    "\n",
    "param_grid = {'n_neighbors':[5],\n",
    "             'weights':['uniform'],\n",
    "             'algorithm':['kd_tree'],\n",
    "             'leaf_size':[15,30],\n",
    "             'p':[1,2,3]}\n",
    "grid = GridSearchCV(knn,param_grid,n_jobs=-1,scoring='accuracy')\n",
    "modeler(grid,X_train_sc,y_train_enc,X_val_sc,y_val_enc)\n",
    "knn_best = grid.best_estimator_\n"
   ]
  },
  {
   "cell_type": "code",
   "execution_count": 13,
   "metadata": {},
   "outputs": [],
   "source": [
    "# from sklearn.gaussian_process import GaussianProcessClassifier\n",
    "\n",
    "# gp = GaussianProcessClassifier()\n",
    "\n",
    "# param_grid = {'n_restarts_optimizer':[0]}\n",
    "# grid = GridSearchCV(gp,param_grid,n_jobs=-1,scoring='accuracy')\n",
    "# modeler(grid,X_train_sc,y_train_enc,X_val_sc,y_val_enc)\n",
    "# gp_best = grid.best_estimator_\n"
   ]
  },
  {
   "cell_type": "code",
   "execution_count": 14,
   "metadata": {},
   "outputs": [
    {
     "name": "stdout",
     "output_type": "stream",
     "text": [
      "train accuracy: 0.75966\n",
      "----------------------------------------\n",
      "val accuracy: 0.75248\n",
      "----------------------------------------\n",
      "difference: 0.0071728\n",
      "----------------------------------------\n"
     ]
    }
   ],
   "source": [
    "from sklearn.naive_bayes import GaussianNB\n",
    "\n",
    "nb = GaussianNB()\n",
    "\n",
    "param_grid = {'var_smoothing':[0.000000001]}\n",
    "\n",
    "grid = GridSearchCV(nb,param_grid,n_jobs=-1,scoring='accuracy')\n",
    "modeler(grid,X_train_sc,y_train_enc,X_val_sc,y_val_enc)\n",
    "nb_best = grid.best_estimator_\n"
   ]
  },
  {
   "cell_type": "code",
   "execution_count": 15,
   "metadata": {},
   "outputs": [
    {
     "name": "stdout",
     "output_type": "stream",
     "text": [
      "train accuracy: 0.76395\n",
      "----------------------------------------\n",
      "val accuracy: 0.75396\n",
      "----------------------------------------\n",
      "difference: 0.0099947\n",
      "----------------------------------------\n"
     ]
    }
   ],
   "source": [
    "from sklearn.tree import DecisionTreeClassifier\n",
    "\n",
    "tree = DecisionTreeClassifier()\n",
    "\n",
    "param_grid = {'criterion':['gini'],\n",
    "             'splitter':['best'],\n",
    "             'max_depth':[3],\n",
    "             'max_features':['auto']}\n",
    "\n",
    "grid = GridSearchCV(tree,param_grid,n_jobs=-1,scoring='accuracy')\n",
    "modeler(grid,X_train_sc,y_train_enc,X_val_sc,y_val_enc)\n",
    "tree_best = grid.best_estimator_\n"
   ]
  },
  {
   "cell_type": "code",
   "execution_count": 16,
   "metadata": {},
   "outputs": [
    {
     "name": "stdout",
     "output_type": "stream",
     "text": [
      "train accuracy: 0.79727\n",
      "----------------------------------------\n",
      "val accuracy: 0.77972\n",
      "----------------------------------------\n",
      "difference: 0.0175549\n",
      "----------------------------------------\n"
     ]
    }
   ],
   "source": [
    "from sklearn.ensemble import RandomForestClassifier\n",
    "\n",
    "rfr = RandomForestClassifier()\n",
    "\n",
    "param_grid = {'criterion':['gini'],\n",
    "             'max_depth':[3],\n",
    "             'max_features':['log2']}\n",
    "\n",
    "grid = GridSearchCV(rfr,param_grid,n_jobs=-1,scoring='accuracy')\n",
    "modeler(grid,X_train_sc,y_train_enc,X_val_sc,y_val_enc)\n",
    "rfr_best = grid.best_estimator_\n"
   ]
  },
  {
   "cell_type": "code",
   "execution_count": 17,
   "metadata": {},
   "outputs": [
    {
     "name": "stdout",
     "output_type": "stream",
     "text": [
      "train accuracy: 0.80182\n",
      "----------------------------------------\n",
      "val accuracy: 0.78577\n",
      "----------------------------------------\n",
      "difference: 0.0160467\n",
      "----------------------------------------\n"
     ]
    },
    {
     "data": {
      "text/plain": [
       "VotingClassifier(estimators=[('ridge',\n",
       "                              RidgeClassifier(alpha=0.001, solver='sag')),\n",
       "                             ('lr', LogisticRegression(C=1)),\n",
       "                             ('sgd',\n",
       "                              SGDClassifier(alpha=0.001, eta0=1,\n",
       "                                            learning_rate='adaptive',\n",
       "                                            loss='modified_huber',\n",
       "                                            penalty='l1')),\n",
       "                             ('svc', SVC(C=1, kernel='linear')),\n",
       "                             ('knn',\n",
       "                              KNeighborsClassifier(algorithm='kd_tree',\n",
       "                                                   leaf_size=15)),\n",
       "                             ('nb', GaussianNB()),\n",
       "                             ('tree',\n",
       "                              DecisionTreeClassifier(max_depth=3,\n",
       "                                                     max_features='auto')),\n",
       "                             ('rfr',\n",
       "                              RandomForestClassifier(max_depth=3,\n",
       "                                                     max_features='log2'))])"
      ]
     },
     "execution_count": 17,
     "metadata": {},
     "output_type": "execute_result"
    }
   ],
   "source": [
    "from sklearn.ensemble import VotingClassifier\n",
    "\n",
    "best_estimators = [('ridge',ridge_best),('lr',lr_best),('sgd',sgd_best),('svc',svc_best),('knn',knn_best),('nb',nb_best),('tree',tree_best),('rfr',rfr_best)]\n",
    "\n",
    "vote = VotingClassifier(estimators=best_estimators)\n",
    "\n",
    "modeler(vote,X_train_sc,y_train_enc,X_val_sc,y_val_enc)"
   ]
  },
  {
   "cell_type": "code",
   "execution_count": 18,
   "metadata": {},
   "outputs": [],
   "source": [
    "#save and load each model with pickle \n",
    "#add griffin's xgboost\n",
    "#adaboost?"
   ]
  },
  {
   "cell_type": "code",
   "execution_count": null,
   "metadata": {},
   "outputs": [],
   "source": []
  }
 ],
 "metadata": {
  "kernelspec": {
   "display_name": "learn-env",
   "language": "python",
   "name": "learn-env"
  },
  "language_info": {
   "codemirror_mode": {
    "name": "ipython",
    "version": 3
   },
   "file_extension": ".py",
   "mimetype": "text/x-python",
   "name": "python",
   "nbconvert_exporter": "python",
   "pygments_lexer": "ipython3",
   "version": "3.8.5"
  }
 },
 "nbformat": 4,
 "nbformat_minor": 4
}
