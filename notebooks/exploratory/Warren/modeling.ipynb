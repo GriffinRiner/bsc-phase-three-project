{
 "cells": [
  {
   "cell_type": "code",
   "execution_count": 1,
   "metadata": {},
   "outputs": [],
   "source": [
    "import pandas as pd\n",
    "import numpy as np\n",
    "from joblib import dump, load"
   ]
  },
  {
   "cell_type": "code",
   "execution_count": 2,
   "metadata": {},
   "outputs": [],
   "source": [
    "X_train_sc = pd.read_csv('X_train_sc.csv')\n",
    "X_val_sc = pd.read_csv('X_val_sc.csv')\n",
    "y_train_enc = np.ravel(pd.read_csv('y_train_enc.csv'))\n",
    "y_val_enc = np.ravel(pd.read_csv('y_val_enc.csv'))\n",
    "\n",
    "#make train and val customer id frames and drop from data\n",
    "X_train_id = X_train_sc['customerid']\n",
    "X_train_sc.drop('customerid',axis=1,inplace=True)\n",
    "X_val_id = X_val_sc['customerid']\n",
    "X_val_sc.drop('customerid',axis=1,inplace=True)\n"
   ]
  },
  {
   "cell_type": "code",
   "execution_count": 3,
   "metadata": {},
   "outputs": [],
   "source": [
    "from sklearn.model_selection import GridSearchCV\n"
   ]
  },
  {
   "cell_type": "code",
   "execution_count": 4,
   "metadata": {},
   "outputs": [],
   "source": [
    "from imblearn.over_sampling import SMOTE\n",
    "sm = SMOTE()\n",
    "X_train_sc, y_train_enc = sm.fit_resample(X_train_sc,y_train_enc)"
   ]
  },
  {
   "cell_type": "code",
   "execution_count": 5,
   "metadata": {},
   "outputs": [],
   "source": [
    "from sklearn.linear_model import LogisticRegression\n",
    "from sklearn.model_selection import cross_val_score\n",
    "from sklearn.metrics import classification_report\n",
    "\n",
    "lr = LogisticRegression(solver='liblinear',C=1,tol=0.001)\n"
   ]
  },
  {
   "cell_type": "code",
   "execution_count": null,
   "metadata": {},
   "outputs": [],
   "source": [
    "def modeler(est,X_train,y_train,X_val,y_val):\n",
    "    \n",
    "    est.fit(X_train,y_train)\n",
    "    \n",
    "    \n",
    "    train_acc_score = np.mean(cross_val_score(est,X_train,y_train,scoring='precision',cv=7,n_jobs=-1))\n",
    "    val_acc_score = np.mean(cross_val_score(est,X_val,y_val,scoring='precision',cv=7,n_jobs=4))\n",
    "    diff = abs(train_acc_score - val_acc_score)\n",
    "    \n",
    "    y_val_pred = est.predict(X_val)\n",
    "    \n",
    "    \n",
    "    print(f'train precision: {round(train_acc_score,5)}')\n",
    "    print('-'*40)\n",
    "    print(f'val precision: {round(val_acc_score,5)}')\n",
    "    print('-'*40)\n",
    "    print(f'difference: {round(diff,7)}')\n",
    "    print('-'*40)\n",
    "    print(f'val report: ')\n",
    "    print(classification_report(y_val,y_val_pred))\n",
    "    print('-'*40)\n",
    "    return est"
   ]
  },
  {
   "cell_type": "code",
   "execution_count": null,
   "metadata": {},
   "outputs": [
    {
     "name": "stdout",
     "output_type": "stream",
     "text": [
      "train precision: 0.77363\n",
      "----------------------------------------\n",
      "val precision: 0.66031\n",
      "----------------------------------------\n",
      "difference: 0.1133237\n",
      "----------------------------------------\n",
      "val report: \n",
      "              precision    recall  f1-score   support\n",
      "\n",
      "           0       0.90      0.73      0.81       971\n",
      "           1       0.51      0.77      0.61       350\n",
      "\n",
      "    accuracy                           0.74      1321\n",
      "   macro avg       0.70      0.75      0.71      1321\n",
      "weighted avg       0.79      0.74      0.75      1321\n",
      "\n",
      "----------------------------------------\n"
     ]
    },
    {
     "data": {
      "text/plain": [
       "['1stlr.joblib']"
      ]
     },
     "execution_count": 7,
     "metadata": {},
     "output_type": "execute_result"
    }
   ],
   "source": [
    "modeler(lr,X_train_sc,y_train_enc,X_val_sc,y_val_enc)\n",
    "dump(lr,'1stlr.joblib')"
   ]
  },
  {
   "cell_type": "markdown",
   "metadata": {},
   "source": [
    "This one is less accurate, but scores are still close. Might be good for bagging."
   ]
  },
  {
   "cell_type": "code",
   "execution_count": 8,
   "metadata": {},
   "outputs": [
    {
     "name": "stdout",
     "output_type": "stream",
     "text": [
      "train precision: 0.0\n",
      "----------------------------------------\n",
      "val precision: 0.0\n",
      "----------------------------------------\n",
      "difference: 0.0\n",
      "----------------------------------------\n",
      "val report: \n",
      "              precision    recall  f1-score   support\n",
      "\n",
      "           0       0.74      1.00      0.85       971\n",
      "           1       0.00      0.00      0.00       350\n",
      "\n",
      "    accuracy                           0.74      1321\n",
      "   macro avg       0.37      0.50      0.42      1321\n",
      "weighted avg       0.54      0.74      0.62      1321\n",
      "\n",
      "----------------------------------------\n"
     ]
    },
    {
     "name": "stderr",
     "output_type": "stream",
     "text": [
      "C:\\Users\\umbac\\anaconda3\\envs\\learn-env\\lib\\site-packages\\sklearn\\metrics\\_classification.py:1248: UndefinedMetricWarning: Precision and F-score are ill-defined and being set to 0.0 in labels with no predicted samples. Use `zero_division` parameter to control this behavior.\n",
      "  _warn_prf(average, modifier, msg_start, len(result))\n",
      "C:\\Users\\umbac\\anaconda3\\envs\\learn-env\\lib\\site-packages\\sklearn\\metrics\\_classification.py:1248: UndefinedMetricWarning: Precision and F-score are ill-defined and being set to 0.0 in labels with no predicted samples. Use `zero_division` parameter to control this behavior.\n",
      "  _warn_prf(average, modifier, msg_start, len(result))\n",
      "C:\\Users\\umbac\\anaconda3\\envs\\learn-env\\lib\\site-packages\\sklearn\\metrics\\_classification.py:1248: UndefinedMetricWarning: Precision and F-score are ill-defined and being set to 0.0 in labels with no predicted samples. Use `zero_division` parameter to control this behavior.\n",
      "  _warn_prf(average, modifier, msg_start, len(result))\n"
     ]
    },
    {
     "data": {
      "text/plain": [
       "['2ndlr.joblib']"
      ]
     },
     "execution_count": 8,
     "metadata": {},
     "output_type": "execute_result"
    }
   ],
   "source": [
    "lr2 = LogisticRegression(solver='liblinear',C=1,tol=5)\n",
    "modeler(lr2,X_train_sc,y_train_enc,X_val_sc,y_val_enc)\n",
    "\n",
    "dump(lr2,'2ndlr.joblib')"
   ]
  },
  {
   "cell_type": "code",
   "execution_count": 9,
   "metadata": {},
   "outputs": [],
   "source": [
    "from sklearn.linear_model import RidgeClassifier\n",
    "\n",
    "ridge = RidgeClassifier()\n"
   ]
  },
  {
   "cell_type": "code",
   "execution_count": 10,
   "metadata": {},
   "outputs": [
    {
     "name": "stdout",
     "output_type": "stream",
     "text": [
      "train precision: 0.77551\n",
      "----------------------------------------\n",
      "val precision: 0.67657\n",
      "----------------------------------------\n",
      "difference: 0.0989436\n",
      "----------------------------------------\n",
      "val report: \n",
      "              precision    recall  f1-score   support\n",
      "\n",
      "           0       0.90      0.73      0.80       971\n",
      "           1       0.51      0.77      0.61       350\n",
      "\n",
      "    accuracy                           0.74      1321\n",
      "   macro avg       0.70      0.75      0.71      1321\n",
      "weighted avg       0.79      0.74      0.75      1321\n",
      "\n",
      "----------------------------------------\n"
     ]
    },
    {
     "data": {
      "text/plain": [
       "['ridge.joblib']"
      ]
     },
     "execution_count": 10,
     "metadata": {},
     "output_type": "execute_result"
    }
   ],
   "source": [
    "param_grid = {'alpha':[0.5,1], 'solver':['sparse_cg','lsqr','saga']}\n",
    "grid = GridSearchCV(ridge,param_grid,n_jobs=4,scoring='precision')\n",
    "modeler(grid,X_train_sc,y_train_enc,X_val_sc,y_val_enc)\n",
    "\n",
    "ridge_best = grid.best_estimator_\n",
    "\n",
    "dump(ridge_best,'ridge.joblib')"
   ]
  },
  {
   "cell_type": "code",
   "execution_count": 11,
   "metadata": {},
   "outputs": [
    {
     "data": {
      "text/plain": [
       "{'alpha': 0.5, 'solver': 'lsqr'}"
      ]
     },
     "execution_count": 11,
     "metadata": {},
     "output_type": "execute_result"
    }
   ],
   "source": [
    "grid.best_params_"
   ]
  },
  {
   "cell_type": "code",
   "execution_count": 31,
   "metadata": {},
   "outputs": [
    {
     "name": "stdout",
     "output_type": "stream",
     "text": [
      "train precision: 0.77209\n",
      "----------------------------------------\n",
      "val precision: 0.68464\n",
      "----------------------------------------\n",
      "difference: 0.0874491\n",
      "----------------------------------------\n",
      "val report: \n",
      "              precision    recall  f1-score   support\n",
      "\n",
      "           0       0.90      0.74      0.81       971\n",
      "           1       0.51      0.77      0.62       350\n",
      "\n",
      "    accuracy                           0.75      1321\n",
      "   macro avg       0.71      0.75      0.71      1321\n",
      "weighted avg       0.80      0.75      0.76      1321\n",
      "\n",
      "----------------------------------------\n"
     ]
    },
    {
     "data": {
      "text/plain": [
       "['3rdlr.joblib']"
      ]
     },
     "execution_count": 31,
     "metadata": {},
     "output_type": "execute_result"
    }
   ],
   "source": [
    "lr3 = LogisticRegression()\n",
    "param_grid = {'C':[0.01], 'solver':['liblinear']}\n",
    "grid = GridSearchCV(lr3,param_grid,n_jobs=4,scoring='precision')\n",
    "modeler(grid,X_train_sc,y_train_enc,X_val_sc,y_val_enc)\n",
    "lr3_best = grid.best_estimator_\n",
    "\n",
    "dump(lr3_best,'3rdlr.joblib')"
   ]
  },
  {
   "cell_type": "code",
   "execution_count": 32,
   "metadata": {},
   "outputs": [
    {
     "data": {
      "text/plain": [
       "{'C': 0.01, 'solver': 'liblinear'}"
      ]
     },
     "execution_count": 32,
     "metadata": {},
     "output_type": "execute_result"
    }
   ],
   "source": [
    "grid.best_params_"
   ]
  },
  {
   "cell_type": "code",
   "execution_count": 15,
   "metadata": {},
   "outputs": [
    {
     "name": "stdout",
     "output_type": "stream",
     "text": [
      "train precision: 0.77425\n",
      "----------------------------------------\n",
      "val precision: 0.69551\n",
      "----------------------------------------\n",
      "difference: 0.0787391\n",
      "----------------------------------------\n",
      "val report: \n",
      "              precision    recall  f1-score   support\n",
      "\n",
      "           0       0.90      0.73      0.80       971\n",
      "           1       0.50      0.77      0.61       350\n",
      "\n",
      "    accuracy                           0.74      1321\n",
      "   macro avg       0.70      0.75      0.71      1321\n",
      "weighted avg       0.79      0.74      0.75      1321\n",
      "\n",
      "----------------------------------------\n"
     ]
    },
    {
     "data": {
      "text/plain": [
       "['sgd.joblib']"
      ]
     },
     "execution_count": 15,
     "metadata": {},
     "output_type": "execute_result"
    }
   ],
   "source": [
    "from sklearn.linear_model import SGDClassifier\n",
    "\n",
    "sgd = SGDClassifier()\n",
    "\n",
    "param_grid = {'loss':['modified_huber'],\n",
    "             'penalty':['l2'],\n",
    "             'alpha':[0.001,1,10],\n",
    "             'learning_rate':['adaptive'],\n",
    "             'eta0':[1]}\n",
    "grid = GridSearchCV(sgd,param_grid,n_jobs=4,scoring='precision')\n",
    "modeler(grid,X_train_sc,y_train_enc,X_val_sc,y_val_enc)\n",
    "sgd_best = grid.best_estimator_\n",
    "\n",
    "dump(sgd_best,'sgd.joblib')"
   ]
  },
  {
   "cell_type": "code",
   "execution_count": 16,
   "metadata": {},
   "outputs": [
    {
     "data": {
      "text/plain": [
       "{'alpha': 0.001,\n",
       " 'eta0': 1,\n",
       " 'learning_rate': 'adaptive',\n",
       " 'loss': 'modified_huber',\n",
       " 'penalty': 'l2'}"
      ]
     },
     "execution_count": 16,
     "metadata": {},
     "output_type": "execute_result"
    }
   ],
   "source": [
    "grid.best_params_"
   ]
  },
  {
   "cell_type": "code",
   "execution_count": 17,
   "metadata": {},
   "outputs": [
    {
     "name": "stdout",
     "output_type": "stream",
     "text": [
      "train precision: 0.76881\n",
      "----------------------------------------\n",
      "val precision: 0.67478\n",
      "----------------------------------------\n",
      "difference: 0.0940281\n",
      "----------------------------------------\n",
      "val report: \n",
      "              precision    recall  f1-score   support\n",
      "\n",
      "           0       0.90      0.72      0.80       971\n",
      "           1       0.50      0.78      0.61       350\n",
      "\n",
      "    accuracy                           0.74      1321\n",
      "   macro avg       0.70      0.75      0.71      1321\n",
      "weighted avg       0.80      0.74      0.75      1321\n",
      "\n",
      "----------------------------------------\n"
     ]
    },
    {
     "data": {
      "text/plain": [
       "['svc.joblib']"
      ]
     },
     "execution_count": 17,
     "metadata": {},
     "output_type": "execute_result"
    }
   ],
   "source": [
    "from sklearn.svm import SVC\n",
    "\n",
    "svc = SVC()\n",
    "\n",
    "param_grid = {'kernel':['linear'],\n",
    "             'C':[0.01,1]}\n",
    "grid = GridSearchCV(svc,param_grid,n_jobs=4,scoring='precision')\n",
    "modeler(grid,X_train_sc,y_train_enc,X_val_sc,y_val_enc)\n",
    "svc_best = grid.best_estimator_\n",
    "\n",
    "dump(svc_best,'svc.joblib')"
   ]
  },
  {
   "cell_type": "code",
   "execution_count": 18,
   "metadata": {},
   "outputs": [
    {
     "data": {
      "text/plain": [
       "{'C': 1, 'kernel': 'linear'}"
      ]
     },
     "execution_count": 18,
     "metadata": {},
     "output_type": "execute_result"
    }
   ],
   "source": [
    "grid.best_params_"
   ]
  },
  {
   "cell_type": "code",
   "execution_count": 19,
   "metadata": {},
   "outputs": [
    {
     "name": "stdout",
     "output_type": "stream",
     "text": [
      "train precision: 0.78371\n",
      "----------------------------------------\n",
      "val precision: 0.56585\n",
      "----------------------------------------\n",
      "difference: 0.2178575\n",
      "----------------------------------------\n",
      "val report: \n",
      "              precision    recall  f1-score   support\n",
      "\n",
      "           0       0.86      0.75      0.80       971\n",
      "           1       0.49      0.67      0.57       350\n",
      "\n",
      "    accuracy                           0.73      1321\n",
      "   macro avg       0.68      0.71      0.68      1321\n",
      "weighted avg       0.76      0.73      0.74      1321\n",
      "\n",
      "----------------------------------------\n"
     ]
    },
    {
     "data": {
      "text/plain": [
       "['knn.joblisb']"
      ]
     },
     "execution_count": 19,
     "metadata": {},
     "output_type": "execute_result"
    }
   ],
   "source": [
    "from sklearn.neighbors import KNeighborsClassifier\n",
    "\n",
    "knn = KNeighborsClassifier()\n",
    "\n",
    "param_grid = {'n_neighbors':[3,5,7],\n",
    "             'weights':['uniform','distance'],\n",
    "             'algorithm':['kd_tree'],\n",
    "             'leaf_size':[15,30],\n",
    "             'p':[1]}\n",
    "grid = GridSearchCV(knn,param_grid,n_jobs=4,scoring='precision')\n",
    "modeler(grid,X_train_sc,y_train_enc,X_val_sc,y_val_enc)\n",
    "knn_best = grid.best_estimator_\n",
    "\n",
    "dump(knn_best,'knn.joblisb')"
   ]
  },
  {
   "cell_type": "code",
   "execution_count": 20,
   "metadata": {},
   "outputs": [
    {
     "data": {
      "text/plain": [
       "{'algorithm': 'kd_tree',\n",
       " 'leaf_size': 15,\n",
       " 'n_neighbors': 3,\n",
       " 'p': 1,\n",
       " 'weights': 'distance'}"
      ]
     },
     "execution_count": 20,
     "metadata": {},
     "output_type": "execute_result"
    }
   ],
   "source": [
    "grid.best_params_"
   ]
  },
  {
   "cell_type": "code",
   "execution_count": 21,
   "metadata": {},
   "outputs": [],
   "source": [
    "# from sklearn.gaussian_process import GaussianProcessClassifier\n",
    "\n",
    "# gp = GaussianProcessClassifier()\n",
    "\n",
    "# param_grid = {'n_restarts_optimizer':[0]}\n",
    "# grid = GridSearchCV(gp,param_grid,n_jobs=-1,scoring='accuracy')\n",
    "# modeler(grid,X_train_sc,y_train_enc,X_val_sc,y_val_enc)\n",
    "# gp_best = grid.best_estimator_\n"
   ]
  },
  {
   "cell_type": "code",
   "execution_count": 22,
   "metadata": {},
   "outputs": [
    {
     "name": "stdout",
     "output_type": "stream",
     "text": [
      "train precision: 0.75883\n",
      "----------------------------------------\n",
      "val precision: 0.57537\n",
      "----------------------------------------\n",
      "difference: 0.1834641\n",
      "----------------------------------------\n",
      "val report: \n",
      "              precision    recall  f1-score   support\n",
      "\n",
      "           0       0.89      0.73      0.80       971\n",
      "           1       0.50      0.75      0.60       350\n",
      "\n",
      "    accuracy                           0.73      1321\n",
      "   macro avg       0.69      0.74      0.70      1321\n",
      "weighted avg       0.79      0.73      0.75      1321\n",
      "\n",
      "----------------------------------------\n"
     ]
    },
    {
     "data": {
      "text/plain": [
       "['nb.joblib']"
      ]
     },
     "execution_count": 22,
     "metadata": {},
     "output_type": "execute_result"
    }
   ],
   "source": [
    "from sklearn.naive_bayes import GaussianNB\n",
    "\n",
    "nb = GaussianNB()\n",
    "\n",
    "param_grid = {'var_smoothing':[0.0001,0.01,1]}\n",
    "\n",
    "grid = GridSearchCV(nb,param_grid,n_jobs=4,scoring='precision')\n",
    "modeler(grid,X_train_sc,y_train_enc,X_val_sc,y_val_enc)\n",
    "nb_best = grid.best_estimator_\n",
    "\n",
    "dump(nb_best,'nb.joblib')"
   ]
  },
  {
   "cell_type": "code",
   "execution_count": 23,
   "metadata": {},
   "outputs": [
    {
     "name": "stdout",
     "output_type": "stream",
     "text": [
      "train precision: 0.73558\n",
      "----------------------------------------\n",
      "val precision: 0.6326\n",
      "----------------------------------------\n",
      "difference: 0.1029794\n",
      "----------------------------------------\n",
      "val report: \n",
      "              precision    recall  f1-score   support\n",
      "\n",
      "           0       0.82      0.84      0.83       971\n",
      "           1       0.52      0.49      0.50       350\n",
      "\n",
      "    accuracy                           0.74      1321\n",
      "   macro avg       0.67      0.66      0.67      1321\n",
      "weighted avg       0.74      0.74      0.74      1321\n",
      "\n",
      "----------------------------------------\n"
     ]
    },
    {
     "data": {
      "text/plain": [
       "['tree.joblib']"
      ]
     },
     "execution_count": 23,
     "metadata": {},
     "output_type": "execute_result"
    }
   ],
   "source": [
    "from sklearn.tree import DecisionTreeClassifier\n",
    "\n",
    "tree = DecisionTreeClassifier()\n",
    "\n",
    "param_grid = {'criterion':['gini','entropy'],\n",
    "             'splitter':['best'],\n",
    "             'max_depth':[2,3,4],\n",
    "             'max_features':['auto','sqrt']}\n",
    "\n",
    "grid = GridSearchCV(tree,param_grid,n_jobs=4,scoring='precision')\n",
    "modeler(grid,X_train_sc,y_train_enc,X_val_sc,y_val_enc)\n",
    "tree_best = grid.best_estimator_\n",
    "\n",
    "dump(tree_best,'tree.joblib')"
   ]
  },
  {
   "cell_type": "code",
   "execution_count": 24,
   "metadata": {},
   "outputs": [
    {
     "name": "stdout",
     "output_type": "stream",
     "text": [
      "train precision: 0.76126\n",
      "----------------------------------------\n",
      "val precision: 0.7078\n",
      "----------------------------------------\n",
      "difference: 0.0534629\n",
      "----------------------------------------\n",
      "val report: \n",
      "              precision    recall  f1-score   support\n",
      "\n",
      "           0       0.90      0.73      0.81       971\n",
      "           1       0.51      0.79      0.62       350\n",
      "\n",
      "    accuracy                           0.74      1321\n",
      "   macro avg       0.71      0.76      0.71      1321\n",
      "weighted avg       0.80      0.74      0.76      1321\n",
      "\n",
      "----------------------------------------\n"
     ]
    },
    {
     "data": {
      "text/plain": [
       "['rfr.joblib']"
      ]
     },
     "execution_count": 24,
     "metadata": {},
     "output_type": "execute_result"
    }
   ],
   "source": [
    "from sklearn.ensemble import RandomForestClassifier\n",
    "\n",
    "rfr = RandomForestClassifier()\n",
    "\n",
    "param_grid = {'n_estimators':[100,200],\n",
    "             'criterion':['gini','entropy'],\n",
    "             'max_depth':[2,3,4],\n",
    "             'max_features':['sqrt']}\n",
    "\n",
    "grid = GridSearchCV(rfr,param_grid,n_jobs=4,scoring='precision')\n",
    "modeler(grid,X_train_sc,y_train_enc,X_val_sc,y_val_enc)\n",
    "rfr_best = grid.best_estimator_\n",
    "\n",
    "dump(rfr_best,'rfr.joblib')"
   ]
  },
  {
   "cell_type": "code",
   "execution_count": 25,
   "metadata": {},
   "outputs": [
    {
     "name": "stdout",
     "output_type": "stream",
     "text": [
      "train precision: 0.75489\n",
      "----------------------------------------\n",
      "val precision: 0.79494\n",
      "----------------------------------------\n",
      "difference: 0.040052\n",
      "----------------------------------------\n",
      "val report: \n",
      "              precision    recall  f1-score   support\n",
      "\n",
      "           0       0.90      0.71      0.80       971\n",
      "           1       0.49      0.77      0.60       350\n",
      "\n",
      "    accuracy                           0.73      1321\n",
      "   macro avg       0.70      0.74      0.70      1321\n",
      "weighted avg       0.79      0.73      0.74      1321\n",
      "\n",
      "----------------------------------------\n"
     ]
    },
    {
     "data": {
      "text/plain": [
       "['etree.joblib']"
      ]
     },
     "execution_count": 25,
     "metadata": {},
     "output_type": "execute_result"
    }
   ],
   "source": [
    "from sklearn.ensemble import ExtraTreesClassifier\n",
    "\n",
    "etree = ExtraTreesClassifier()\n",
    "param_grid = {'n_estimators':[100],\n",
    "             'criterion':['gini','entropy'],\n",
    "             'max_depth':[2,3,4],\n",
    "             'max_features':['sqrt']}\n",
    "\n",
    "grid = GridSearchCV(etree,param_grid,n_jobs=4,scoring='precision')\n",
    "modeler(grid,X_train_sc,y_train_enc,X_val_sc,y_val_enc)\n",
    "etree_best = grid.best_estimator_\n",
    "\n",
    "\n",
    "\n",
    "dump(etree_best,'etree.joblib')"
   ]
  },
  {
   "cell_type": "code",
   "execution_count": 26,
   "metadata": {},
   "outputs": [
    {
     "data": {
      "text/plain": [
       "{'criterion': 'entropy',\n",
       " 'max_depth': 4,\n",
       " 'max_features': 'sqrt',\n",
       " 'n_estimators': 100}"
      ]
     },
     "execution_count": 26,
     "metadata": {},
     "output_type": "execute_result"
    }
   ],
   "source": [
    "grid.best_params_"
   ]
  },
  {
   "cell_type": "code",
   "execution_count": 35,
   "metadata": {},
   "outputs": [
    {
     "name": "stdout",
     "output_type": "stream",
     "text": [
      "train precision: 0.73366\n",
      "----------------------------------------\n",
      "val precision: 0.64185\n",
      "----------------------------------------\n",
      "difference: 0.0918145\n",
      "----------------------------------------\n",
      "val report: \n",
      "              precision    recall  f1-score   support\n",
      "\n",
      "           0       0.91      0.66      0.77       971\n",
      "           1       0.47      0.82      0.59       350\n",
      "\n",
      "    accuracy                           0.70      1321\n",
      "   macro avg       0.69      0.74      0.68      1321\n",
      "weighted avg       0.79      0.70      0.72      1321\n",
      "\n",
      "----------------------------------------\n"
     ]
    },
    {
     "data": {
      "text/plain": [
       "['xgb.joblib']"
      ]
     },
     "execution_count": 35,
     "metadata": {},
     "output_type": "execute_result"
    }
   ],
   "source": [
    "import xgboost as xgb\n",
    "boost_model = xgb.XGBClassifier(max_depth=2,n_estimators=200, eta=0.01, gamma=1,n_jobs=4)\n",
    "xgb = modeler(boost_model,X_train_sc,y_train_enc,X_val_sc,y_val_enc)\n",
    "\n",
    "dump(xgb,'xgb.joblib')"
   ]
  },
  {
   "cell_type": "code",
   "execution_count": 36,
   "metadata": {},
   "outputs": [
    {
     "name": "stdout",
     "output_type": "stream",
     "text": [
      "train precision: 0.77052\n",
      "----------------------------------------\n",
      "val precision: 0.64999\n",
      "----------------------------------------\n",
      "difference: 0.1205249\n",
      "----------------------------------------\n",
      "val report: \n",
      "              precision    recall  f1-score   support\n",
      "\n",
      "           0       0.90      0.74      0.81       971\n",
      "           1       0.52      0.78      0.62       350\n",
      "\n",
      "    accuracy                           0.75      1321\n",
      "   macro avg       0.71      0.76      0.72      1321\n",
      "weighted avg       0.80      0.75      0.76      1321\n",
      "\n",
      "----------------------------------------\n"
     ]
    },
    {
     "data": {
      "text/plain": [
       "['ada.joblib']"
      ]
     },
     "execution_count": 36,
     "metadata": {},
     "output_type": "execute_result"
    }
   ],
   "source": [
    "from sklearn.ensemble import AdaBoostClassifier\n",
    "\n",
    "adatree = DecisionTreeClassifier(max_depth=1,criterion='gini',max_features='sqrt',random_state=1)\n",
    "\n",
    "ada = AdaBoostClassifier(base_estimator=adatree,n_estimators=500,learning_rate=0.1,random_state=1)\n",
    "\n",
    "ada = modeler(ada,X_train_sc,y_train_enc,X_val_sc,y_val_enc)\n",
    "\n",
    "dump(ada,'ada.joblib')"
   ]
  },
  {
   "cell_type": "code",
   "execution_count": 37,
   "metadata": {},
   "outputs": [
    {
     "name": "stdout",
     "output_type": "stream",
     "text": [
      "train precision: 0.83879\n",
      "----------------------------------------\n",
      "val precision: 0.67361\n",
      "----------------------------------------\n",
      "difference: 0.165176\n",
      "----------------------------------------\n",
      "val report: \n",
      "              precision    recall  f1-score   support\n",
      "\n",
      "           0       0.85      0.83      0.84       971\n",
      "           1       0.56      0.60      0.58       350\n",
      "\n",
      "    accuracy                           0.77      1321\n",
      "   macro avg       0.71      0.72      0.71      1321\n",
      "weighted avg       0.78      0.77      0.77      1321\n",
      "\n",
      "----------------------------------------\n"
     ]
    },
    {
     "data": {
      "text/plain": [
       "['stack.joblib']"
      ]
     },
     "execution_count": 37,
     "metadata": {},
     "output_type": "execute_result"
    }
   ],
   "source": [
    "from sklearn.ensemble import StackingClassifier\n",
    "\n",
    "best_estimators = [('ridge',ridge_best),\n",
    "                   ('lr',lr),\n",
    "                   ('sgd',sgd_best),\n",
    "                   ('svc',svc_best),\n",
    "                   ('knn',knn_best),\n",
    "                   ('nb',nb_best),\n",
    "                   ('tree',tree_best),\n",
    "                   ('rfr',rfr_best),\n",
    "                   ('xgb',boost_model),\n",
    "                   ('ada',ada),\n",
    "                  ('etree',etree)]\n",
    "\n",
    "stack = StackingClassifier(estimators=best_estimators,n_jobs=4)\n",
    "\n",
    "stack = modeler(stack,X_train_sc,y_train_enc,X_val_sc,y_val_enc)\n",
    "\n",
    "dump(stack,'stack.joblib')"
   ]
  },
  {
   "cell_type": "code",
   "execution_count": 30,
   "metadata": {},
   "outputs": [
    {
     "data": {
      "text/plain": [
       "array([[0.9865013 , 0.0134987 ],\n",
       "       [0.86873178, 0.13126822],\n",
       "       [0.85128411, 0.14871589],\n",
       "       ...,\n",
       "       [0.22850614, 0.77149386],\n",
       "       [0.99349563, 0.00650437],\n",
       "       [0.13091009, 0.86908991]])"
      ]
     },
     "execution_count": 30,
     "metadata": {},
     "output_type": "execute_result"
    }
   ],
   "source": []
  },
  {
   "cell_type": "code",
   "execution_count": null,
   "metadata": {},
   "outputs": [],
   "source": []
  },
  {
   "cell_type": "code",
   "execution_count": null,
   "metadata": {},
   "outputs": [],
   "source": []
  },
  {
   "cell_type": "code",
   "execution_count": null,
   "metadata": {},
   "outputs": [],
   "source": []
  },
  {
   "cell_type": "code",
   "execution_count": null,
   "metadata": {},
   "outputs": [],
   "source": []
  },
  {
   "cell_type": "code",
   "execution_count": null,
   "metadata": {},
   "outputs": [],
   "source": []
  }
 ],
 "metadata": {
  "kernelspec": {
   "display_name": "learn-env",
   "language": "python",
   "name": "learn-env"
  },
  "language_info": {
   "codemirror_mode": {
    "name": "ipython",
    "version": 3
   },
   "file_extension": ".py",
   "mimetype": "text/x-python",
   "name": "python",
   "nbconvert_exporter": "python",
   "pygments_lexer": "ipython3",
   "version": "3.8.5"
  }
 },
 "nbformat": 4,
 "nbformat_minor": 4
}
