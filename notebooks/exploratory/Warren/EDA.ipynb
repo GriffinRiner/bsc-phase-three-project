{
 "cells": [
  {
   "cell_type": "markdown",
   "metadata": {},
   "source": [
    "Import packages and read in the data. Additionally, I chage the datatype of the totalcharges column."
   ]
  },
  {
   "cell_type": "code",
   "execution_count": 1,
   "metadata": {},
   "outputs": [],
   "source": [
    "import pandas as pd\n",
    "import numpy as np\n",
    "import matplotlib.pyplot as plt\n",
    "import seaborn as sns"
   ]
  },
  {
   "cell_type": "code",
   "execution_count": 2,
   "metadata": {},
   "outputs": [
    {
     "name": "stdout",
     "output_type": "stream",
     "text": [
      "<class 'pandas.core.frame.DataFrame'>\n",
      "RangeIndex: 7043 entries, 0 to 7042\n",
      "Data columns (total 21 columns):\n",
      " #   Column            Non-Null Count  Dtype  \n",
      "---  ------            --------------  -----  \n",
      " 0   customerID        7043 non-null   object \n",
      " 1   gender            7043 non-null   object \n",
      " 2   SeniorCitizen     7043 non-null   int64  \n",
      " 3   Partner           7043 non-null   object \n",
      " 4   Dependents        7043 non-null   object \n",
      " 5   tenure            7043 non-null   int64  \n",
      " 6   PhoneService      7043 non-null   object \n",
      " 7   MultipleLines     7043 non-null   object \n",
      " 8   InternetService   7043 non-null   object \n",
      " 9   OnlineSecurity    7043 non-null   object \n",
      " 10  OnlineBackup      7043 non-null   object \n",
      " 11  DeviceProtection  7043 non-null   object \n",
      " 12  TechSupport       7043 non-null   object \n",
      " 13  StreamingTV       7043 non-null   object \n",
      " 14  StreamingMovies   7043 non-null   object \n",
      " 15  Contract          7043 non-null   object \n",
      " 16  PaperlessBilling  7043 non-null   object \n",
      " 17  PaymentMethod     7043 non-null   object \n",
      " 18  MonthlyCharges    7043 non-null   float64\n",
      " 19  TotalCharges      7043 non-null   object \n",
      " 20  Churn             7043 non-null   object \n",
      "dtypes: float64(1), int64(2), object(18)\n",
      "memory usage: 1.1+ MB\n"
     ]
    }
   ],
   "source": [
    "df_raw = pd.read_csv('../../../data/WA_Fn-UseC_-Telco-Customer-Churn.csv')\n",
    "df_raw.info()"
   ]
  },
  {
   "cell_type": "code",
   "execution_count": 3,
   "metadata": {},
   "outputs": [],
   "source": [
    "df_raw['TotalCharges'] = pd.to_numeric(df_raw['TotalCharges'], errors='coerce')"
   ]
  },
  {
   "cell_type": "code",
   "execution_count": 4,
   "metadata": {},
   "outputs": [
    {
     "ename": "NameError",
     "evalue": "name 'df' is not defined",
     "output_type": "error",
     "traceback": [
      "\u001b[1;31m---------------------------------------------------------------------------\u001b[0m",
      "\u001b[1;31mNameError\u001b[0m                                 Traceback (most recent call last)",
      "\u001b[1;32m<ipython-input-4-2a7906df89d4>\u001b[0m in \u001b[0;36m<module>\u001b[1;34m\u001b[0m\n\u001b[1;32m----> 1\u001b[1;33m \u001b[0mdf\u001b[0m\u001b[1;33m[\u001b[0m\u001b[1;34m'SeniorCitizen'\u001b[0m\u001b[1;33m]\u001b[0m \u001b[1;33m=\u001b[0m \u001b[0mdf\u001b[0m\u001b[1;33m[\u001b[0m\u001b[1;34m'SeniorCitizen'\u001b[0m\u001b[1;33m]\u001b[0m\u001b[1;33m.\u001b[0m\u001b[0mmap\u001b[0m\u001b[1;33m(\u001b[0m\u001b[1;32mlambda\u001b[0m \u001b[0mx\u001b[0m\u001b[1;33m:\u001b[0m \u001b[1;34m'No'\u001b[0m \u001b[1;32mif\u001b[0m \u001b[0mx\u001b[0m \u001b[1;33m==\u001b[0m \u001b[1;36m0\u001b[0m \u001b[1;32melse\u001b[0m \u001b[1;34m'Yes'\u001b[0m\u001b[1;33m)\u001b[0m\u001b[1;33m\u001b[0m\u001b[1;33m\u001b[0m\u001b[0m\n\u001b[0m",
      "\u001b[1;31mNameError\u001b[0m: name 'df' is not defined"
     ]
    }
   ],
   "source": [
    "df_raw['SeniorCitizen'] = df_raw['SeniorCitizen'].map(lambda x: 'No' if x == 0 else 'Yes')"
   ]
  },
  {
   "cell_type": "markdown",
   "metadata": {},
   "source": [
    "Most columns are categorical and are one of two or three options"
   ]
  },
  {
   "cell_type": "code",
   "execution_count": null,
   "metadata": {},
   "outputs": [],
   "source": [
    "df_raw.head()"
   ]
  },
  {
   "cell_type": "code",
   "execution_count": null,
   "metadata": {},
   "outputs": [],
   "source": [
    "#label encode Churn\n",
    "#binary encode the yes/no\n",
    "#one hot encode the rest"
   ]
  },
  {
   "cell_type": "markdown",
   "metadata": {},
   "source": [
    "Make the column names easier to use and print out the number of unique values per column."
   ]
  },
  {
   "cell_type": "code",
   "execution_count": null,
   "metadata": {},
   "outputs": [],
   "source": [
    "df_raw.columns = df_raw.columns.str.lower()"
   ]
  },
  {
   "cell_type": "code",
   "execution_count": null,
   "metadata": {},
   "outputs": [],
   "source": []
  },
  {
   "cell_type": "markdown",
   "metadata": {},
   "source": [
    "Pull out the customer id's because I don't want to lose the data, but I also don't want to graph it. I also engineered two new features from the few numerical columns. The first is the total charges a customer incured divided by how long they have had the service. I thought that people who were charged a lot in a short time might churn more. I also divided monthly charges by total charges so that higher ratios relate to higher average monthly charges."
   ]
  },
  {
   "cell_type": "code",
   "execution_count": null,
   "metadata": {},
   "outputs": [],
   "source": [
    "cust_id = df_raw['customerid']\n",
    "# df_raw['monchg_per_tenure'] = df_raw['monthlycharges'] / df_raw['tenure']\n",
    "df_raw['totchg_per_tenure'] = df_raw['totalcharges'] / df_raw['tenure']\n",
    "df_raw['monthly_div_tot'] = df_raw['monthlycharges'] / df_raw['totalcharges']\n",
    "\n",
    "df_raw['partner_cont'] = df_raw['partner'].map({'No': 0, 'Yes': 1, })\n",
    "df_raw['dependent_cont'] = df_raw['dependents'].map({'No': 0, 'Yes': 1, })\n",
    "df_raw['single_parent'] = df_raw['partner_cont'] + df_raw['dependent_cont']\n",
    "df_raw['single_parent'] = df_raw['single_parent'].map({1: 'No', 0: 'No', 2: 'Yes' })\n",
    "df_raw.drop(['partner_cont', 'dependent_cont'], axis=1, inplace=True)\n",
    "df_raw['phone_count'] = df_raw['phoneservice'].map({'No': 0, 'Yes': 1, })\n",
    "df_raw['internet_count'] = df_raw['internetservice'].map({'No': 0, 'DSL': 1, 'Fiber optic': 1 })\n",
    "df_raw['phone_and_internet'] = df_raw['phone_count'] + df_raw['internet_count']\n",
    "df_raw['phone_and_internet'] = df_raw['phone_and_internet'].map({1: 'No', 0: 'No', 2: 'Yes' })\n",
    "df_raw.drop(['phone_count', 'internet_count'], axis=1, inplace=True)\n",
    "\n",
    "\n",
    "df = df_raw.drop('customerid',axis=1)\n"
   ]
  },
  {
   "cell_type": "code",
   "execution_count": null,
   "metadata": {},
   "outputs": [],
   "source": [
    "for col in df_raw.columns:\n",
    "    print(col,df_raw[col].nunique())"
   ]
  },
  {
   "cell_type": "markdown",
   "metadata": {},
   "source": [
    "I need to encode this data to use it in models so I made lists for each type to do."
   ]
  },
  {
   "cell_type": "code",
   "execution_count": null,
   "metadata": {},
   "outputs": [],
   "source": [
    "ord_encode = ['gender','partner','dependents','phoneservice','multiplelines','internetservice','onlinesecurity','onlinebackup',\n",
    "              'deviceprotection','techsupport','streamingtv','streamingmovies','contract','paperlessbilling','paymentmethod','single_parent','phone_and_internet','seniorcitizen']\n",
    "labelencode =['churn']\n",
    "num = ['tenure','monthlycharges','totalcharges','totchg_per_tenure','monthly_div_tot']"
   ]
  },
  {
   "cell_type": "code",
   "execution_count": null,
   "metadata": {},
   "outputs": [],
   "source": [
    "X = df[ord_encode].join(df[num],how='left')\n",
    "y = df[labelencode]\n",
    "\n"
   ]
  },
  {
   "cell_type": "markdown",
   "metadata": {},
   "source": [
    "There are some missing values that need to be filled in total charges. I am using 0 because those customers probably have not been charged yet."
   ]
  },
  {
   "cell_type": "code",
   "execution_count": null,
   "metadata": {},
   "outputs": [],
   "source": [
    "from sklearn.impute import SimpleImputer\n",
    "\n",
    "impute = SimpleImputer(strategy='constant',fill_value=0)\n",
    "\n",
    "X_imp = impute.fit_transform(X)\n",
    "X_proc = pd.DataFrame(X_imp,columns=X.columns)\n"
   ]
  },
  {
   "cell_type": "code",
   "execution_count": null,
   "metadata": {},
   "outputs": [],
   "source": [
    "# from sklearn.preprocessing import OrdinalEncoder\n",
    "# #ord encode categoticals\n",
    "# ordi = OrdinalEncoder(dtype=np.int)\n",
    "\n",
    "# X_proc = ordi.fit_transform(X_proc)\n",
    "# X_enc = pd.DataFrame(X_proc,columns=X.columns)\n"
   ]
  },
  {
   "cell_type": "markdown",
   "metadata": {},
   "source": [
    "Encode churn so that the counts of yes and no can be summed easier."
   ]
  },
  {
   "cell_type": "code",
   "execution_count": null,
   "metadata": {},
   "outputs": [],
   "source": [
    "from sklearn.preprocessing import LabelEncoder\n",
    "\n",
    "lbl = LabelEncoder()\n",
    "\n",
    "y_enc = lbl.fit_transform(np.array(y))\n",
    "\n",
    "y_enc = pd.DataFrame(y_enc,columns=y.columns)"
   ]
  },
  {
   "cell_type": "code",
   "execution_count": null,
   "metadata": {},
   "outputs": [],
   "source": [
    "y_enc"
   ]
  },
  {
   "cell_type": "markdown",
   "metadata": {},
   "source": [
    "Join the feature and target frames and then I added a counter column which helps with some groupby stuff."
   ]
  },
  {
   "cell_type": "code",
   "execution_count": null,
   "metadata": {},
   "outputs": [],
   "source": [
    "df_enc = X.join(y_enc,how='left')"
   ]
  },
  {
   "cell_type": "code",
   "execution_count": null,
   "metadata": {},
   "outputs": [],
   "source": [
    "df_raw['counter'] = 1\n",
    "df_raw.groupby(by=['paymentmethod','churn']).sum()"
   ]
  },
  {
   "cell_type": "markdown",
   "metadata": {},
   "source": [
    "looks like larger totchg_per_tenure is related to churn. Also half of check payment methods churn. Below, I make new dataframes for churn of not. Then, I can make plots right next to each other because I couldn't figure out how to put them in one chart."
   ]
  },
  {
   "cell_type": "code",
   "execution_count": null,
   "metadata": {},
   "outputs": [],
   "source": [
    "churned = df_raw.loc[df_raw['churn'] == 'Yes']\n",
    "not_churned = df_raw.loc[df_raw['churn'] == 'No']\n"
   ]
  },
  {
   "cell_type": "markdown",
   "metadata": {},
   "source": [
    "I started by defining the columns that I wanted to plot and taking out features that don't need to be plotted. I used a count plot for categoricals and a hist plot for numeric data because it runs faster and the bins automatically format."
   ]
  },
  {
   "cell_type": "code",
   "execution_count": null,
   "metadata": {},
   "outputs": [],
   "source": [
    "interesting_cols = ['partner','dependents','internetservice','onlinesecurity','onlinebackup',\n",
    "              'deviceprotection','techsupport','contract','paperlessbilling','paymentmethod','single_parent','phone_and_internet','seniorCitizen']\n",
    "\n",
    "numerics = ['tenure','monthlycharges','totalcharges','totchg_per_tenure','monthly_div_tot']\n",
    "\n",
    "for col in churned[interesting_cols]:\n",
    "    fig, ax = plt.subplots(nrows=1,ncols=2,figsize=(15,6))\n",
    "\n",
    "    sns.countplot(x=col,data=churned,ax=ax[0],color='cornflowerblue',orient='h')\n",
    "    sns.countplot(x=col,data=not_churned,ax=ax[1],color='lightcoral',orient='h')\n",
    "    ax[0].title.set_text(f'Churned - {col} ')\n",
    "    ax[1].title.set_text(f'Not Churned - {col} ')\n",
    "    \n",
    "for col in churned[numerics]:\n",
    "    fig, ax = plt.subplots(nrows=1,ncols=2,figsize=(15,6))\n",
    "\n",
    "    sns.histplot(x=col,data=churned,ax=ax[0],color='cornflowerblue',bins=10)\n",
    "    sns.histplot(x=col,data=not_churned,ax=ax[1],color='lightcoral',bins=10)\n",
    "    ax[0].title.set_text(f'Churned - {col} ')\n",
    "    ax[1].title.set_text(f'Not Churned - {col} ')\n",
    "    \n"
   ]
  },
  {
   "cell_type": "markdown",
   "metadata": {},
   "source": [
    "From these graphs, more people without dependents dropped their service. Also, those who hadn't been with the company long (tenure) dropped more. Most drops were month to month contracts and electronic checks. Additionally, people without a large total charge dropped more. This makes sense because people who had a low tenure wouldn't be able to get a lot of total charges.\n",
    "\n",
    "Those who got charged a lot in a short amount of time churned more."
   ]
  },
  {
   "cell_type": "code",
   "execution_count": null,
   "metadata": {},
   "outputs": [],
   "source": []
  },
  {
   "cell_type": "code",
   "execution_count": null,
   "metadata": {},
   "outputs": [],
   "source": []
  }
 ],
 "metadata": {
  "kernelspec": {
   "display_name": "learn-env",
   "language": "python",
   "name": "learn-env"
  },
  "language_info": {
   "codemirror_mode": {
    "name": "ipython",
    "version": 3
   },
   "file_extension": ".py",
   "mimetype": "text/x-python",
   "name": "python",
   "nbconvert_exporter": "python",
   "pygments_lexer": "ipython3",
   "version": "3.8.5"
  }
 },
 "nbformat": 4,
 "nbformat_minor": 4
}
